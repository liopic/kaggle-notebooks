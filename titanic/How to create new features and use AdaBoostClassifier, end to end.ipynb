{
 "cells": [
  {
   "cell_type": "markdown",
   "metadata": {
    "_cell_guid": "a9c2caf7-4bd5-4162-a396-3b0f729b90e3",
    "_uuid": "ee98aa237a0be3489086928a9e6c672005a2d628"
   },
   "source": [
    "# Table of Contents\n",
    "* [1. Introduction](#1.-Introduction)\n",
    "* [2. Quick exploration of the given data](#2.-Quick-exploration-of-the-given-data)\n",
    "\t* [2.1 Loading the data](#2.1-Loading-the-data)\n",
    "\t* [2.2 Data basic description](#2.2-Data-basic-description)\n",
    "* [3. Features completion](#3.-Features-completion)\n",
    "\t* [3.1 Age](#3.1-Age)\n",
    "\t* [3.2 Cabin](#3.2-Cabin)\n",
    "\t\t* [3.2.1 Cabin from name?](#3.2.1-Cabin-from-name?)\n",
    "\t\t* [3.2.2 Cabin from Ticket?](#3.2.2-Cabin-from-Ticket?)\n",
    "\t* [3.3 Embarked](#3.3-Embarked)\n",
    "\t* [3.4 Fare](#3.4-Fare)\n",
    "* [4. Feature detailed analysis and engineering](#4.-Feature-detailed-analysis-and-engineering)\n",
    "\t* [4.1 Quantitative features](#4.1-Quantitative-features)\n",
    "\t\t* [4.1.1 Age](#4.1.1-Age)\n",
    "\t\t* [4.1.2 Fare](#4.1.2-Fare)\n",
    "\t\t* [4.1.3 SibSp (Sibblings + Spouses) and Parch (Parents + children)](#4.1.3-SibSp-%28Sibblings-+-Spouses%29-and-Parch-%28Parents-+-children%29)\n",
    "\t* [4.2 Categorical features](#4.2-Categorical-features)\n",
    "\t\t* [4.2.1 Sex](#4.2.1-Sex)\n",
    "\t\t* [4.2.2 Embarked](#4.2.2-Embarked)\n",
    "\t\t* [4.2.3 Pclass](#4.2.3-Pclass)\n",
    "\t* [4.3 Feature engineering with non-classifiable](#4.3-Feature-engineering-with-non-classifiable)\n",
    "\t\t* [4.3.1 Cabin_letter](#4.3.1-Cabin_letter)\n",
    "\t\t* [4.3.2 Ticket](#4.3.2-Ticket)\n",
    "\t\t\t* [4.3.2.1 Sharing the Ticket](#4.3.2.1-Sharing-the-Ticket)\n",
    "\t\t\t* [4.3.2.2 Head of family/friends from Ticket](#4.3.2.2-Head-of-family/friends-from-Ticket)\n",
    "\t\t\t* [4.3.2.3 Type of Ticket](#4.3.2.3-Type-of-Ticket)\n",
    "\t\t* [4.3.3 Name](#4.3.3-Name)\n",
    "\t\t\t* [4.3.3.1 Language from Name](#4.3.3.1-Language-from-Name)\n",
    "\t\t\t* [4.3.3.2 Common surname](#4.3.3.2-Common-surname)\n",
    "\t\t\t* [4.3.3.3 Title from Name](#4.3.3.3-Title-from-Name)\n",
    "\t* [4.4 Exploring which features are really useful](#4.4-Exploring-which-features-are-really-useful)\n",
    "* [5 Training a ML model](#5-Training-a-ML-model)\n",
    "* [6 Prediction](#6-Prediction)\n"
   ]
  },
  {
   "cell_type": "markdown",
   "metadata": {
    "_cell_guid": "19f17559-1154-4b6b-9a36-d7bb4d4f93c6",
    "_uuid": "3fa0ff10e6db8333a859774f3f6315f913187169"
   },
   "source": [
    "# 1. Introduction"
   ]
  },
  {
   "cell_type": "markdown",
   "metadata": {
    "_cell_guid": "0c96b602-256c-4de4-813d-f430a1b75175",
    "_uuid": "9e500f0186c2e0e0398d8315e9ef3b651f1496c7"
   },
   "source": [
    "In this notebook we'll work with [the Titanic competition on Kaggle](https://www.kaggle.com/c/titanic).\n",
    "\n",
    "First we will explore the given data and complete missing data. Then we will create new features based on the data provided, which is called __feature engineering__. Finally we will predict test cases using __Random Forest__."
   ]
  },
  {
   "cell_type": "markdown",
   "metadata": {
    "_cell_guid": "37cd0437-2838-49ef-bbd3-0b8fc5a425fe",
    "_uuid": "319c518668dca607e363a82cd5f7fa175dfebfea"
   },
   "source": [
    "# 2. Quick exploration of the given data"
   ]
  },
  {
   "cell_type": "markdown",
   "metadata": {
    "_cell_guid": "86cef77c-72da-44be-9012-11b132d182a1",
    "_uuid": "9f06e63afcec61fb8c4d8f3ce1c28e7aedb1852f"
   },
   "source": [
    "Before starting we need to load the data and explore it a bit to understand its meaning."
   ]
  },
  {
   "cell_type": "markdown",
   "metadata": {
    "_cell_guid": "465936da-0f0d-48d6-92d8-fadf4a197209",
    "_uuid": "2b228943e4f280c40be56e495d1bbb1efb8ea913"
   },
   "source": [
    "## 2.1 Loading the data"
   ]
  },
  {
   "cell_type": "code",
   "execution_count": 1,
   "metadata": {
    "_cell_guid": "f138ab49-fa81-4059-b989-22cd3aa5a7a2",
    "_uuid": "fa5bd7ce631b86a342f5695bcde2ec49433787cd",
    "collapsed": true
   },
   "outputs": [],
   "source": [
    "# import the usual libraries\n",
    "import pandas as pd\n",
    "import numpy as np\n",
    "import matplotlib.pyplot as plt\n",
    "import seaborn as sns\n",
    "%matplotlib inline"
   ]
  },
  {
   "cell_type": "markdown",
   "metadata": {
    "_cell_guid": "54cf1449-b252-46a6-9e8d-6ae31f7fc1ff",
    "_uuid": "27110c4f491fef0ef698d1862d0e41e441ce64c3"
   },
   "source": [
    "We will load both train and test data, and concat them to work on both at the same time. Just notice that the test data has the _Survived_ feature missing."
   ]
  },
  {
   "cell_type": "code",
   "execution_count": 2,
   "metadata": {
    "_cell_guid": "144ff630-d1da-4d4c-a94a-77003ebdf58b",
    "_uuid": "dc3336f8ce53394f9fdb9d6e0f8b8f36eb288075"
   },
   "outputs": [
    {
     "data": {
      "text/html": [
       "<div>\n",
       "<style>\n",
       "    .dataframe thead tr:only-child th {\n",
       "        text-align: right;\n",
       "    }\n",
       "\n",
       "    .dataframe thead th {\n",
       "        text-align: left;\n",
       "    }\n",
       "\n",
       "    .dataframe tbody tr th {\n",
       "        vertical-align: top;\n",
       "    }\n",
       "</style>\n",
       "<table border=\"1\" class=\"dataframe\">\n",
       "  <thead>\n",
       "    <tr style=\"text-align: right;\">\n",
       "      <th></th>\n",
       "      <th>Age</th>\n",
       "      <th>Cabin</th>\n",
       "      <th>Embarked</th>\n",
       "      <th>Fare</th>\n",
       "      <th>Name</th>\n",
       "      <th>Parch</th>\n",
       "      <th>Pclass</th>\n",
       "      <th>Sex</th>\n",
       "      <th>SibSp</th>\n",
       "      <th>Survived</th>\n",
       "      <th>Ticket</th>\n",
       "    </tr>\n",
       "    <tr>\n",
       "      <th>PassengerId</th>\n",
       "      <th></th>\n",
       "      <th></th>\n",
       "      <th></th>\n",
       "      <th></th>\n",
       "      <th></th>\n",
       "      <th></th>\n",
       "      <th></th>\n",
       "      <th></th>\n",
       "      <th></th>\n",
       "      <th></th>\n",
       "      <th></th>\n",
       "    </tr>\n",
       "  </thead>\n",
       "  <tbody>\n",
       "    <tr>\n",
       "      <th>533</th>\n",
       "      <td>17.0</td>\n",
       "      <td>NaN</td>\n",
       "      <td>C</td>\n",
       "      <td>7.2292</td>\n",
       "      <td>Elias, Mr. Joseph Jr</td>\n",
       "      <td>1</td>\n",
       "      <td>3</td>\n",
       "      <td>male</td>\n",
       "      <td>1</td>\n",
       "      <td>0.0</td>\n",
       "      <td>2690</td>\n",
       "    </tr>\n",
       "    <tr>\n",
       "      <th>429</th>\n",
       "      <td>NaN</td>\n",
       "      <td>NaN</td>\n",
       "      <td>Q</td>\n",
       "      <td>7.7500</td>\n",
       "      <td>Flynn, Mr. James</td>\n",
       "      <td>0</td>\n",
       "      <td>3</td>\n",
       "      <td>male</td>\n",
       "      <td>0</td>\n",
       "      <td>0.0</td>\n",
       "      <td>364851</td>\n",
       "    </tr>\n",
       "    <tr>\n",
       "      <th>17</th>\n",
       "      <td>2.0</td>\n",
       "      <td>NaN</td>\n",
       "      <td>Q</td>\n",
       "      <td>29.1250</td>\n",
       "      <td>Rice, Master. Eugene</td>\n",
       "      <td>1</td>\n",
       "      <td>3</td>\n",
       "      <td>male</td>\n",
       "      <td>4</td>\n",
       "      <td>0.0</td>\n",
       "      <td>382652</td>\n",
       "    </tr>\n",
       "    <tr>\n",
       "      <th>957</th>\n",
       "      <td>NaN</td>\n",
       "      <td>NaN</td>\n",
       "      <td>S</td>\n",
       "      <td>21.0000</td>\n",
       "      <td>Corey, Mrs. Percy C (Mary Phyllis Elizabeth Mi...</td>\n",
       "      <td>0</td>\n",
       "      <td>2</td>\n",
       "      <td>female</td>\n",
       "      <td>0</td>\n",
       "      <td>NaN</td>\n",
       "      <td>F.C.C. 13534</td>\n",
       "    </tr>\n",
       "    <tr>\n",
       "      <th>354</th>\n",
       "      <td>25.0</td>\n",
       "      <td>NaN</td>\n",
       "      <td>S</td>\n",
       "      <td>17.8000</td>\n",
       "      <td>Arnold-Franchi, Mr. Josef</td>\n",
       "      <td>0</td>\n",
       "      <td>3</td>\n",
       "      <td>male</td>\n",
       "      <td>1</td>\n",
       "      <td>0.0</td>\n",
       "      <td>349237</td>\n",
       "    </tr>\n",
       "    <tr>\n",
       "      <th>751</th>\n",
       "      <td>4.0</td>\n",
       "      <td>NaN</td>\n",
       "      <td>S</td>\n",
       "      <td>23.0000</td>\n",
       "      <td>Wells, Miss. Joan</td>\n",
       "      <td>1</td>\n",
       "      <td>2</td>\n",
       "      <td>female</td>\n",
       "      <td>1</td>\n",
       "      <td>1.0</td>\n",
       "      <td>29103</td>\n",
       "    </tr>\n",
       "    <tr>\n",
       "      <th>537</th>\n",
       "      <td>45.0</td>\n",
       "      <td>B38</td>\n",
       "      <td>S</td>\n",
       "      <td>26.5500</td>\n",
       "      <td>Butt, Major. Archibald Willingham</td>\n",
       "      <td>0</td>\n",
       "      <td>1</td>\n",
       "      <td>male</td>\n",
       "      <td>0</td>\n",
       "      <td>0.0</td>\n",
       "      <td>113050</td>\n",
       "    </tr>\n",
       "    <tr>\n",
       "      <th>817</th>\n",
       "      <td>23.0</td>\n",
       "      <td>NaN</td>\n",
       "      <td>S</td>\n",
       "      <td>7.9250</td>\n",
       "      <td>Heininen, Miss. Wendla Maria</td>\n",
       "      <td>0</td>\n",
       "      <td>3</td>\n",
       "      <td>female</td>\n",
       "      <td>0</td>\n",
       "      <td>0.0</td>\n",
       "      <td>STON/O2. 3101290</td>\n",
       "    </tr>\n",
       "    <tr>\n",
       "      <th>806</th>\n",
       "      <td>31.0</td>\n",
       "      <td>NaN</td>\n",
       "      <td>S</td>\n",
       "      <td>7.7750</td>\n",
       "      <td>Johansson, Mr. Karl Johan</td>\n",
       "      <td>0</td>\n",
       "      <td>3</td>\n",
       "      <td>male</td>\n",
       "      <td>0</td>\n",
       "      <td>0.0</td>\n",
       "      <td>347063</td>\n",
       "    </tr>\n",
       "    <tr>\n",
       "      <th>757</th>\n",
       "      <td>28.0</td>\n",
       "      <td>NaN</td>\n",
       "      <td>S</td>\n",
       "      <td>7.7958</td>\n",
       "      <td>Carlsson, Mr. August Sigfrid</td>\n",
       "      <td>0</td>\n",
       "      <td>3</td>\n",
       "      <td>male</td>\n",
       "      <td>0</td>\n",
       "      <td>0.0</td>\n",
       "      <td>350042</td>\n",
       "    </tr>\n",
       "  </tbody>\n",
       "</table>\n",
       "</div>"
      ],
      "text/plain": [
       "              Age Cabin Embarked     Fare  \\\n",
       "PassengerId                                 \n",
       "533          17.0   NaN        C   7.2292   \n",
       "429           NaN   NaN        Q   7.7500   \n",
       "17            2.0   NaN        Q  29.1250   \n",
       "957           NaN   NaN        S  21.0000   \n",
       "354          25.0   NaN        S  17.8000   \n",
       "751           4.0   NaN        S  23.0000   \n",
       "537          45.0   B38        S  26.5500   \n",
       "817          23.0   NaN        S   7.9250   \n",
       "806          31.0   NaN        S   7.7750   \n",
       "757          28.0   NaN        S   7.7958   \n",
       "\n",
       "                                                          Name  Parch  Pclass  \\\n",
       "PassengerId                                                                     \n",
       "533                                       Elias, Mr. Joseph Jr      1       3   \n",
       "429                                           Flynn, Mr. James      0       3   \n",
       "17                                        Rice, Master. Eugene      1       3   \n",
       "957          Corey, Mrs. Percy C (Mary Phyllis Elizabeth Mi...      0       2   \n",
       "354                                  Arnold-Franchi, Mr. Josef      0       3   \n",
       "751                                          Wells, Miss. Joan      1       2   \n",
       "537                          Butt, Major. Archibald Willingham      0       1   \n",
       "817                               Heininen, Miss. Wendla Maria      0       3   \n",
       "806                                  Johansson, Mr. Karl Johan      0       3   \n",
       "757                               Carlsson, Mr. August Sigfrid      0       3   \n",
       "\n",
       "                Sex  SibSp  Survived            Ticket  \n",
       "PassengerId                                             \n",
       "533            male      1       0.0              2690  \n",
       "429            male      0       0.0            364851  \n",
       "17             male      4       0.0            382652  \n",
       "957          female      0       NaN      F.C.C. 13534  \n",
       "354            male      1       0.0            349237  \n",
       "751          female      1       1.0             29103  \n",
       "537            male      0       0.0            113050  \n",
       "817          female      0       0.0  STON/O2. 3101290  \n",
       "806            male      0       0.0            347063  \n",
       "757            male      0       0.0            350042  "
      ]
     },
     "execution_count": 2,
     "metadata": {},
     "output_type": "execute_result"
    }
   ],
   "source": [
    "train_df = pd.read_csv('../input/train.csv', index_col='PassengerId')\n",
    "test_df = pd.read_csv('../input/test.csv', index_col='PassengerId')\n",
    "df = pd.concat([train_df, test_df])\n",
    "\n",
    "df.sample(10)"
   ]
  },
  {
   "cell_type": "markdown",
   "metadata": {
    "_cell_guid": "5aa4aaa0-9379-4a5d-9f6b-ca9a80343e5a",
    "_uuid": "92613d00b85fa7160e28d136da8b4fe1debb0e9e"
   },
   "source": [
    "You can refer to [its data dictionary](https://www.kaggle.com/c/titanic/data) to know more about these features."
   ]
  },
  {
   "cell_type": "markdown",
   "metadata": {
    "_cell_guid": "859f3086-ba36-4ed8-a971-a5bbe094d17d",
    "_uuid": "773a4dd0cd54c79c4e6eb442de7893683717b9d4"
   },
   "source": [
    "## 2.2 Data basic description"
   ]
  },
  {
   "cell_type": "markdown",
   "metadata": {
    "_cell_guid": "55cae8af-85ad-4e75-a61d-76ee1894f3ae",
    "_uuid": "b4863e79725a80e5e65a126a3d85e3705c7ac9b5"
   },
   "source": [
    "Using pandas __.describe()__ method we can see general statistics for each feature."
   ]
  },
  {
   "cell_type": "code",
   "execution_count": 3,
   "metadata": {
    "_cell_guid": "b06ea631-13db-4e65-b826-dbb70b257b95",
    "_uuid": "745dd9099567953a2860f092dc596e36421b5842"
   },
   "outputs": [
    {
     "data": {
      "text/html": [
       "<div>\n",
       "<style>\n",
       "    .dataframe thead tr:only-child th {\n",
       "        text-align: right;\n",
       "    }\n",
       "\n",
       "    .dataframe thead th {\n",
       "        text-align: left;\n",
       "    }\n",
       "\n",
       "    .dataframe tbody tr th {\n",
       "        vertical-align: top;\n",
       "    }\n",
       "</style>\n",
       "<table border=\"1\" class=\"dataframe\">\n",
       "  <thead>\n",
       "    <tr style=\"text-align: right;\">\n",
       "      <th></th>\n",
       "      <th>Age</th>\n",
       "      <th>Fare</th>\n",
       "      <th>Parch</th>\n",
       "      <th>Pclass</th>\n",
       "      <th>SibSp</th>\n",
       "      <th>Survived</th>\n",
       "    </tr>\n",
       "  </thead>\n",
       "  <tbody>\n",
       "    <tr>\n",
       "      <th>count</th>\n",
       "      <td>1046.000000</td>\n",
       "      <td>1308.000000</td>\n",
       "      <td>1309.000000</td>\n",
       "      <td>1309.000000</td>\n",
       "      <td>1309.000000</td>\n",
       "      <td>891.000000</td>\n",
       "    </tr>\n",
       "    <tr>\n",
       "      <th>mean</th>\n",
       "      <td>29.881138</td>\n",
       "      <td>33.295479</td>\n",
       "      <td>0.385027</td>\n",
       "      <td>2.294882</td>\n",
       "      <td>0.498854</td>\n",
       "      <td>0.383838</td>\n",
       "    </tr>\n",
       "    <tr>\n",
       "      <th>std</th>\n",
       "      <td>14.413493</td>\n",
       "      <td>51.758668</td>\n",
       "      <td>0.865560</td>\n",
       "      <td>0.837836</td>\n",
       "      <td>1.041658</td>\n",
       "      <td>0.486592</td>\n",
       "    </tr>\n",
       "    <tr>\n",
       "      <th>min</th>\n",
       "      <td>0.170000</td>\n",
       "      <td>0.000000</td>\n",
       "      <td>0.000000</td>\n",
       "      <td>1.000000</td>\n",
       "      <td>0.000000</td>\n",
       "      <td>0.000000</td>\n",
       "    </tr>\n",
       "    <tr>\n",
       "      <th>25%</th>\n",
       "      <td>21.000000</td>\n",
       "      <td>7.895800</td>\n",
       "      <td>0.000000</td>\n",
       "      <td>2.000000</td>\n",
       "      <td>0.000000</td>\n",
       "      <td>0.000000</td>\n",
       "    </tr>\n",
       "    <tr>\n",
       "      <th>50%</th>\n",
       "      <td>28.000000</td>\n",
       "      <td>14.454200</td>\n",
       "      <td>0.000000</td>\n",
       "      <td>3.000000</td>\n",
       "      <td>0.000000</td>\n",
       "      <td>0.000000</td>\n",
       "    </tr>\n",
       "    <tr>\n",
       "      <th>75%</th>\n",
       "      <td>39.000000</td>\n",
       "      <td>31.275000</td>\n",
       "      <td>0.000000</td>\n",
       "      <td>3.000000</td>\n",
       "      <td>1.000000</td>\n",
       "      <td>1.000000</td>\n",
       "    </tr>\n",
       "    <tr>\n",
       "      <th>max</th>\n",
       "      <td>80.000000</td>\n",
       "      <td>512.329200</td>\n",
       "      <td>9.000000</td>\n",
       "      <td>3.000000</td>\n",
       "      <td>8.000000</td>\n",
       "      <td>1.000000</td>\n",
       "    </tr>\n",
       "  </tbody>\n",
       "</table>\n",
       "</div>"
      ],
      "text/plain": [
       "               Age         Fare        Parch       Pclass        SibSp  \\\n",
       "count  1046.000000  1308.000000  1309.000000  1309.000000  1309.000000   \n",
       "mean     29.881138    33.295479     0.385027     2.294882     0.498854   \n",
       "std      14.413493    51.758668     0.865560     0.837836     1.041658   \n",
       "min       0.170000     0.000000     0.000000     1.000000     0.000000   \n",
       "25%      21.000000     7.895800     0.000000     2.000000     0.000000   \n",
       "50%      28.000000    14.454200     0.000000     3.000000     0.000000   \n",
       "75%      39.000000    31.275000     0.000000     3.000000     1.000000   \n",
       "max      80.000000   512.329200     9.000000     3.000000     8.000000   \n",
       "\n",
       "         Survived  \n",
       "count  891.000000  \n",
       "mean     0.383838  \n",
       "std      0.486592  \n",
       "min      0.000000  \n",
       "25%      0.000000  \n",
       "50%      0.000000  \n",
       "75%      1.000000  \n",
       "max      1.000000  "
      ]
     },
     "execution_count": 3,
     "metadata": {},
     "output_type": "execute_result"
    }
   ],
   "source": [
    "# Have a look at other numerical features\n",
    "df.describe()"
   ]
  },
  {
   "cell_type": "markdown",
   "metadata": {
    "_cell_guid": "435066d0-5419-4bd9-a0ee-5e9ddedbfe6c",
    "_uuid": "65abd5dd104f3d09ba54eee2a3def9860612a7a9"
   },
   "source": [
    "Joining train and test sets there are 1309 people. There are 891 people in the train set (the ones with Survived data), but only 38% survived. The average age is 29.8 years. The fare has a wide range of prices, from free to 512. Around 38% travelled without parents nor children. The most common Pclass is 3rd. Almost half of the people travelled without sibblings nor spouse."
   ]
  },
  {
   "cell_type": "code",
   "execution_count": 4,
   "metadata": {
    "_cell_guid": "a04a190e-1183-4b32-8dc5-8abb702c72fb",
    "_uuid": "14b526dfb8bbb54d6cd3fa0f8f18cf7d173f6dce"
   },
   "outputs": [
    {
     "data": {
      "text/html": [
       "<div>\n",
       "<style>\n",
       "    .dataframe thead tr:only-child th {\n",
       "        text-align: right;\n",
       "    }\n",
       "\n",
       "    .dataframe thead th {\n",
       "        text-align: left;\n",
       "    }\n",
       "\n",
       "    .dataframe tbody tr th {\n",
       "        vertical-align: top;\n",
       "    }\n",
       "</style>\n",
       "<table border=\"1\" class=\"dataframe\">\n",
       "  <thead>\n",
       "    <tr style=\"text-align: right;\">\n",
       "      <th></th>\n",
       "      <th>Cabin</th>\n",
       "      <th>Embarked</th>\n",
       "      <th>Name</th>\n",
       "      <th>Sex</th>\n",
       "      <th>Ticket</th>\n",
       "    </tr>\n",
       "  </thead>\n",
       "  <tbody>\n",
       "    <tr>\n",
       "      <th>count</th>\n",
       "      <td>295</td>\n",
       "      <td>1307</td>\n",
       "      <td>1309</td>\n",
       "      <td>1309</td>\n",
       "      <td>1309</td>\n",
       "    </tr>\n",
       "    <tr>\n",
       "      <th>unique</th>\n",
       "      <td>186</td>\n",
       "      <td>3</td>\n",
       "      <td>1307</td>\n",
       "      <td>2</td>\n",
       "      <td>929</td>\n",
       "    </tr>\n",
       "    <tr>\n",
       "      <th>top</th>\n",
       "      <td>C23 C25 C27</td>\n",
       "      <td>S</td>\n",
       "      <td>Kelly, Mr. James</td>\n",
       "      <td>male</td>\n",
       "      <td>CA. 2343</td>\n",
       "    </tr>\n",
       "    <tr>\n",
       "      <th>freq</th>\n",
       "      <td>6</td>\n",
       "      <td>914</td>\n",
       "      <td>2</td>\n",
       "      <td>843</td>\n",
       "      <td>11</td>\n",
       "    </tr>\n",
       "  </tbody>\n",
       "</table>\n",
       "</div>"
      ],
      "text/plain": [
       "              Cabin Embarked              Name   Sex    Ticket\n",
       "count           295     1307              1309  1309      1309\n",
       "unique          186        3              1307     2       929\n",
       "top     C23 C25 C27        S  Kelly, Mr. James  male  CA. 2343\n",
       "freq              6      914                 2   843        11"
      ]
     },
     "execution_count": 4,
     "metadata": {},
     "output_type": "execute_result"
    }
   ],
   "source": [
    "# Basic statistics for non-numerical cases\n",
    "df.describe(include=['O'])"
   ]
  },
  {
   "cell_type": "markdown",
   "metadata": {
    "_cell_guid": "08aaebee-e6d5-4442-854f-1f95221e4739",
    "_uuid": "fce1dfff564cdcb7b2b083d20b74ba3e0847e8d7"
   },
   "source": [
    "There is only information about 295 people with cabin. Most people embarked at \"S\", which is Southampton, UK. And there are more male than female. Finally, some people shared tickets, being 11 the most remarkable case."
   ]
  },
  {
   "cell_type": "markdown",
   "metadata": {
    "_cell_guid": "7bd9d8f9-d5bc-40e5-9cd8-308d3798f34e",
    "_uuid": "df17e5bf1491fd90ba361bd7b4205506c517aa7d"
   },
   "source": [
    "# 3. Features completion"
   ]
  },
  {
   "cell_type": "markdown",
   "metadata": {
    "_cell_guid": "d7f64a19-c6a7-4bb8-926f-cccec9beb11d",
    "_uuid": "0c9282c7aa65f5caa50d6cf68e7df2e6bd0d9f8c"
   },
   "source": [
    "Let's first see which features need completion."
   ]
  },
  {
   "cell_type": "code",
   "execution_count": 5,
   "metadata": {
    "_cell_guid": "a3b755c1-3a24-4c41-b8d6-2f31054b2ca6",
    "_uuid": "7cd8babcd28d6b7daca0dec986c63dfa08bbd250"
   },
   "outputs": [
    {
     "data": {
      "text/plain": [
       "Age          263\n",
       "Cabin       1014\n",
       "Embarked       2\n",
       "Fare           1\n",
       "Name           0\n",
       "Parch          0\n",
       "Pclass         0\n",
       "Sex            0\n",
       "SibSp          0\n",
       "Survived     418\n",
       "Ticket         0\n",
       "dtype: int64"
      ]
     },
     "execution_count": 5,
     "metadata": {},
     "output_type": "execute_result"
    }
   ],
   "source": [
    "df.isnull().sum()"
   ]
  },
  {
   "cell_type": "markdown",
   "metadata": {
    "_cell_guid": "1094119c-985a-429a-8e31-3678aa1dece4",
    "_uuid": "e46a38fcc28f1b1ce5b1afb89ed3bd715e5ffe9e"
   },
   "source": [
    "There are 263 passengers with missing Age and a lot without Cabin. Also we have 2 missing cases in Embarked and 1 in Fare."
   ]
  },
  {
   "cell_type": "markdown",
   "metadata": {
    "_cell_guid": "4679ffc2-1f18-4e63-b2ea-8c3df8659640",
    "_uuid": "0d1213ad1b4a68060d00e435e874b78098655702"
   },
   "source": [
    "## 3.1 Age"
   ]
  },
  {
   "cell_type": "markdown",
   "metadata": {
    "_cell_guid": "4b889508-e246-4c62-a067-21924344f10b",
    "_uuid": "53daaeed483e89c114f6944c38fbd60992175c5c"
   },
   "source": [
    "Firstly there are some ages that, according with the data dictionary, are actually estimated: those that come in the form xx.5. So let's mark them, and also the ones we will be estimating too."
   ]
  },
  {
   "cell_type": "code",
   "execution_count": 6,
   "metadata": {
    "_cell_guid": "6df6910f-6ab1-44d6-ad39-4029775fa284",
    "_uuid": "f41604ff17d0a40b880a1fb9919a954cfed2cc72",
    "collapsed": true
   },
   "outputs": [],
   "source": [
    "is_estimated_or_null = lambda x: pd.isnull(x) or (x>1 and divmod(x, 1)[1] == 0.5)\n",
    "df['estimated_age'] = df.Age.apply(lambda age: 1 if is_estimated_or_null(age) else 0)"
   ]
  },
  {
   "cell_type": "markdown",
   "metadata": {
    "_cell_guid": "77ba19ea-79e8-4955-926e-5e121b5fccf1",
    "_uuid": "8ecfda122443dfc1acc7a3bbb1897148f1382214"
   },
   "source": [
    "In order to estimate the missing ages we could guess that young people were not labeled as 1st class. The age can depend on the sex, and perhaps even on the embarkation port."
   ]
  },
  {
   "cell_type": "code",
   "execution_count": 7,
   "metadata": {
    "_cell_guid": "3805fb66-edae-4d09-8755-c09c380ba7c6",
    "_uuid": "f96407f1b15179c9cc96f6620710be7e7bf37142"
   },
   "outputs": [
    {
     "data": {
      "text/html": [
       "<div>\n",
       "<style>\n",
       "    .dataframe thead tr:only-child th {\n",
       "        text-align: right;\n",
       "    }\n",
       "\n",
       "    .dataframe thead th {\n",
       "        text-align: left;\n",
       "    }\n",
       "\n",
       "    .dataframe tbody tr th {\n",
       "        vertical-align: top;\n",
       "    }\n",
       "</style>\n",
       "<table border=\"1\" class=\"dataframe\">\n",
       "  <thead>\n",
       "    <tr style=\"text-align: right;\">\n",
       "      <th></th>\n",
       "      <th></th>\n",
       "      <th></th>\n",
       "      <th>Age</th>\n",
       "    </tr>\n",
       "    <tr>\n",
       "      <th>Pclass</th>\n",
       "      <th>Sex</th>\n",
       "      <th>Embarked</th>\n",
       "      <th></th>\n",
       "    </tr>\n",
       "  </thead>\n",
       "  <tbody>\n",
       "    <tr>\n",
       "      <th rowspan=\"6\" valign=\"top\">1</th>\n",
       "      <th rowspan=\"3\" valign=\"top\">female</th>\n",
       "      <th>C</th>\n",
       "      <td>38.00</td>\n",
       "    </tr>\n",
       "    <tr>\n",
       "      <th>Q</th>\n",
       "      <td>35.00</td>\n",
       "    </tr>\n",
       "    <tr>\n",
       "      <th>S</th>\n",
       "      <td>34.00</td>\n",
       "    </tr>\n",
       "    <tr>\n",
       "      <th rowspan=\"3\" valign=\"top\">male</th>\n",
       "      <th>C</th>\n",
       "      <td>39.00</td>\n",
       "    </tr>\n",
       "    <tr>\n",
       "      <th>Q</th>\n",
       "      <td>44.00</td>\n",
       "    </tr>\n",
       "    <tr>\n",
       "      <th>S</th>\n",
       "      <td>42.00</td>\n",
       "    </tr>\n",
       "    <tr>\n",
       "      <th rowspan=\"6\" valign=\"top\">2</th>\n",
       "      <th rowspan=\"3\" valign=\"top\">female</th>\n",
       "      <th>C</th>\n",
       "      <td>23.00</td>\n",
       "    </tr>\n",
       "    <tr>\n",
       "      <th>Q</th>\n",
       "      <td>30.00</td>\n",
       "    </tr>\n",
       "    <tr>\n",
       "      <th>S</th>\n",
       "      <td>28.00</td>\n",
       "    </tr>\n",
       "    <tr>\n",
       "      <th rowspan=\"3\" valign=\"top\">male</th>\n",
       "      <th>C</th>\n",
       "      <td>29.00</td>\n",
       "    </tr>\n",
       "    <tr>\n",
       "      <th>Q</th>\n",
       "      <td>59.00</td>\n",
       "    </tr>\n",
       "    <tr>\n",
       "      <th>S</th>\n",
       "      <td>29.00</td>\n",
       "    </tr>\n",
       "    <tr>\n",
       "      <th rowspan=\"6\" valign=\"top\">3</th>\n",
       "      <th rowspan=\"3\" valign=\"top\">female</th>\n",
       "      <th>C</th>\n",
       "      <td>15.00</td>\n",
       "    </tr>\n",
       "    <tr>\n",
       "      <th>Q</th>\n",
       "      <td>22.00</td>\n",
       "    </tr>\n",
       "    <tr>\n",
       "      <th>S</th>\n",
       "      <td>22.00</td>\n",
       "    </tr>\n",
       "    <tr>\n",
       "      <th rowspan=\"3\" valign=\"top\">male</th>\n",
       "      <th>C</th>\n",
       "      <td>24.25</td>\n",
       "    </tr>\n",
       "    <tr>\n",
       "      <th>Q</th>\n",
       "      <td>25.00</td>\n",
       "    </tr>\n",
       "    <tr>\n",
       "      <th>S</th>\n",
       "      <td>25.00</td>\n",
       "    </tr>\n",
       "  </tbody>\n",
       "</table>\n",
       "</div>"
      ],
      "text/plain": [
       "                          Age\n",
       "Pclass Sex    Embarked       \n",
       "1      female C         38.00\n",
       "              Q         35.00\n",
       "              S         34.00\n",
       "       male   C         39.00\n",
       "              Q         44.00\n",
       "              S         42.00\n",
       "2      female C         23.00\n",
       "              Q         30.00\n",
       "              S         28.00\n",
       "       male   C         29.00\n",
       "              Q         59.00\n",
       "              S         29.00\n",
       "3      female C         15.00\n",
       "              Q         22.00\n",
       "              S         22.00\n",
       "       male   C         24.25\n",
       "              Q         25.00\n",
       "              S         25.00"
      ]
     },
     "execution_count": 7,
     "metadata": {},
     "output_type": "execute_result"
    }
   ],
   "source": [
    "# Let's verify the guess grouping\n",
    "age_grouped = df[['Pclass','Sex','Embarked','Age']].groupby(['Pclass','Sex','Embarked']).median()\n",
    "age_grouped"
   ]
  },
  {
   "cell_type": "markdown",
   "metadata": {
    "_cell_guid": "b77aac56-f336-4b36-b2da-ddf01e4f929f",
    "_uuid": "2f9b5cead8949351cbf33857113eda697528fa30"
   },
   "source": [
    "Given that the guess looks quite correct, let's complete the missing Age cases just depending on passenger's class."
   ]
  },
  {
   "cell_type": "code",
   "execution_count": 8,
   "metadata": {
    "_cell_guid": "a282d55f-70b7-403c-ac82-b03c02117264",
    "_uuid": "732285392beb6209dea36ec1bc9a691b28ffceac",
    "collapsed": true
   },
   "outputs": [],
   "source": [
    "real_age = lambda row: row.Age if not pd.isnull(row.Age) else age_grouped.loc[row.Pclass].loc[row.Sex].loc[row.Embarked].Age\n",
    "df['Age'] = df[['Pclass','Sex','Embarked','Age']].apply(real_age, axis=1)"
   ]
  },
  {
   "cell_type": "markdown",
   "metadata": {
    "_cell_guid": "4057ff4c-c1db-4e0b-995f-13d6293aa276",
    "_uuid": "1e7ecf4c98381af63a45fd65b4b15914b3f8396b"
   },
   "source": [
    "## 3.2 Cabin "
   ]
  },
  {
   "cell_type": "markdown",
   "metadata": {
    "_cell_guid": "4467b92c-b52c-4352-bca4-c288785aa8b5",
    "_uuid": "10983c7bcf34de53f238b444b0ee9333eb9e4c3b"
   },
   "source": [
    "There are a lot of missing data in this feature. We could start grouping cabins by its initial letter, which is its vessel's section or deck."
   ]
  },
  {
   "cell_type": "code",
   "execution_count": 9,
   "metadata": {
    "_cell_guid": "7d883b95-2b30-4299-93cf-ef4c50f440b0",
    "_uuid": "bda2b90f04c6e5a679ef94c8ea9ff89b41914b49"
   },
   "outputs": [
    {
     "data": {
      "text/html": [
       "<div>\n",
       "<style>\n",
       "    .dataframe thead tr:only-child th {\n",
       "        text-align: right;\n",
       "    }\n",
       "\n",
       "    .dataframe thead th {\n",
       "        text-align: left;\n",
       "    }\n",
       "\n",
       "    .dataframe tbody tr th {\n",
       "        vertical-align: top;\n",
       "    }\n",
       "</style>\n",
       "<table border=\"1\" class=\"dataframe\">\n",
       "  <thead>\n",
       "    <tr style=\"text-align: right;\">\n",
       "      <th></th>\n",
       "      <th>Age</th>\n",
       "      <th>Cabin</th>\n",
       "      <th>Embarked</th>\n",
       "      <th>Fare</th>\n",
       "      <th>Name</th>\n",
       "      <th>Parch</th>\n",
       "      <th>Pclass</th>\n",
       "      <th>Sex</th>\n",
       "      <th>SibSp</th>\n",
       "      <th>Survived</th>\n",
       "      <th>Ticket</th>\n",
       "      <th>estimated_age</th>\n",
       "      <th>cabin_letter</th>\n",
       "    </tr>\n",
       "    <tr>\n",
       "      <th>PassengerId</th>\n",
       "      <th></th>\n",
       "      <th></th>\n",
       "      <th></th>\n",
       "      <th></th>\n",
       "      <th></th>\n",
       "      <th></th>\n",
       "      <th></th>\n",
       "      <th></th>\n",
       "      <th></th>\n",
       "      <th></th>\n",
       "      <th></th>\n",
       "      <th></th>\n",
       "      <th></th>\n",
       "    </tr>\n",
       "  </thead>\n",
       "  <tbody>\n",
       "    <tr>\n",
       "      <th>329</th>\n",
       "      <td>31.0</td>\n",
       "      <td>NaN</td>\n",
       "      <td>S</td>\n",
       "      <td>20.5250</td>\n",
       "      <td>Goldsmith, Mrs. Frank John (Emily Alice Brown)</td>\n",
       "      <td>1</td>\n",
       "      <td>3</td>\n",
       "      <td>female</td>\n",
       "      <td>1</td>\n",
       "      <td>1.0</td>\n",
       "      <td>363291</td>\n",
       "      <td>0</td>\n",
       "      <td>N</td>\n",
       "    </tr>\n",
       "    <tr>\n",
       "      <th>1162</th>\n",
       "      <td>46.0</td>\n",
       "      <td>C6</td>\n",
       "      <td>C</td>\n",
       "      <td>75.2417</td>\n",
       "      <td>McCaffry, Mr. Thomas Francis</td>\n",
       "      <td>0</td>\n",
       "      <td>1</td>\n",
       "      <td>male</td>\n",
       "      <td>0</td>\n",
       "      <td>NaN</td>\n",
       "      <td>13050</td>\n",
       "      <td>0</td>\n",
       "      <td>C</td>\n",
       "    </tr>\n",
       "    <tr>\n",
       "      <th>725</th>\n",
       "      <td>27.0</td>\n",
       "      <td>E8</td>\n",
       "      <td>S</td>\n",
       "      <td>53.1000</td>\n",
       "      <td>Chambers, Mr. Norman Campbell</td>\n",
       "      <td>0</td>\n",
       "      <td>1</td>\n",
       "      <td>male</td>\n",
       "      <td>1</td>\n",
       "      <td>1.0</td>\n",
       "      <td>113806</td>\n",
       "      <td>0</td>\n",
       "      <td>E</td>\n",
       "    </tr>\n",
       "    <tr>\n",
       "      <th>23</th>\n",
       "      <td>15.0</td>\n",
       "      <td>NaN</td>\n",
       "      <td>Q</td>\n",
       "      <td>8.0292</td>\n",
       "      <td>McGowan, Miss. Anna \"Annie\"</td>\n",
       "      <td>0</td>\n",
       "      <td>3</td>\n",
       "      <td>female</td>\n",
       "      <td>0</td>\n",
       "      <td>1.0</td>\n",
       "      <td>330923</td>\n",
       "      <td>0</td>\n",
       "      <td>N</td>\n",
       "    </tr>\n",
       "    <tr>\n",
       "      <th>233</th>\n",
       "      <td>59.0</td>\n",
       "      <td>NaN</td>\n",
       "      <td>S</td>\n",
       "      <td>13.5000</td>\n",
       "      <td>Sjostedt, Mr. Ernst Adolf</td>\n",
       "      <td>0</td>\n",
       "      <td>2</td>\n",
       "      <td>male</td>\n",
       "      <td>0</td>\n",
       "      <td>0.0</td>\n",
       "      <td>237442</td>\n",
       "      <td>0</td>\n",
       "      <td>N</td>\n",
       "    </tr>\n",
       "  </tbody>\n",
       "</table>\n",
       "</div>"
      ],
      "text/plain": [
       "              Age Cabin Embarked     Fare  \\\n",
       "PassengerId                                 \n",
       "329          31.0   NaN        S  20.5250   \n",
       "1162         46.0    C6        C  75.2417   \n",
       "725          27.0    E8        S  53.1000   \n",
       "23           15.0   NaN        Q   8.0292   \n",
       "233          59.0   NaN        S  13.5000   \n",
       "\n",
       "                                                       Name  Parch  Pclass  \\\n",
       "PassengerId                                                                  \n",
       "329          Goldsmith, Mrs. Frank John (Emily Alice Brown)      1       3   \n",
       "1162                           McCaffry, Mr. Thomas Francis      0       1   \n",
       "725                           Chambers, Mr. Norman Campbell      0       1   \n",
       "23                              McGowan, Miss. Anna \"Annie\"      0       3   \n",
       "233                               Sjostedt, Mr. Ernst Adolf      0       2   \n",
       "\n",
       "                Sex  SibSp  Survived  Ticket  estimated_age cabin_letter  \n",
       "PassengerId                                                               \n",
       "329          female      1       1.0  363291              0            N  \n",
       "1162           male      0       NaN   13050              0            C  \n",
       "725            male      1       1.0  113806              0            E  \n",
       "23           female      0       1.0  330923              0            N  \n",
       "233            male      0       0.0  237442              0            N  "
      ]
     },
     "execution_count": 9,
     "metadata": {},
     "output_type": "execute_result"
    }
   ],
   "source": [
    "df['cabin_letter'] = df.Cabin.apply(lambda c: c[0] if not pd.isnull(c) else 'N') # N=none\n",
    "\n",
    "df.sample(5)"
   ]
  },
  {
   "cell_type": "code",
   "execution_count": 10,
   "metadata": {
    "_cell_guid": "aefca61f-e558-4908-953f-31de6a6e2ce0",
    "_uuid": "2641432e8c18e4f1aa23ea933ffe1a024d98c27b"
   },
   "outputs": [
    {
     "data": {
      "text/html": [
       "<div>\n",
       "<style>\n",
       "    .dataframe thead tr:only-child th {\n",
       "        text-align: right;\n",
       "    }\n",
       "\n",
       "    .dataframe thead th {\n",
       "        text-align: left;\n",
       "    }\n",
       "\n",
       "    .dataframe tbody tr th {\n",
       "        vertical-align: top;\n",
       "    }\n",
       "</style>\n",
       "<table border=\"1\" class=\"dataframe\">\n",
       "  <thead>\n",
       "    <tr style=\"text-align: right;\">\n",
       "      <th></th>\n",
       "      <th>Pclass</th>\n",
       "      <th>Survived</th>\n",
       "      <th>passenger_count</th>\n",
       "    </tr>\n",
       "    <tr>\n",
       "      <th>cabin_letter</th>\n",
       "      <th></th>\n",
       "      <th></th>\n",
       "      <th></th>\n",
       "    </tr>\n",
       "  </thead>\n",
       "  <tbody>\n",
       "    <tr>\n",
       "      <th>A</th>\n",
       "      <td>1.000000</td>\n",
       "      <td>0.466667</td>\n",
       "      <td>22</td>\n",
       "    </tr>\n",
       "    <tr>\n",
       "      <th>B</th>\n",
       "      <td>1.000000</td>\n",
       "      <td>0.744681</td>\n",
       "      <td>65</td>\n",
       "    </tr>\n",
       "    <tr>\n",
       "      <th>C</th>\n",
       "      <td>1.000000</td>\n",
       "      <td>0.593220</td>\n",
       "      <td>94</td>\n",
       "    </tr>\n",
       "    <tr>\n",
       "      <th>D</th>\n",
       "      <td>1.130435</td>\n",
       "      <td>0.757576</td>\n",
       "      <td>46</td>\n",
       "    </tr>\n",
       "    <tr>\n",
       "      <th>E</th>\n",
       "      <td>1.243902</td>\n",
       "      <td>0.750000</td>\n",
       "      <td>41</td>\n",
       "    </tr>\n",
       "    <tr>\n",
       "      <th>F</th>\n",
       "      <td>2.380952</td>\n",
       "      <td>0.615385</td>\n",
       "      <td>21</td>\n",
       "    </tr>\n",
       "    <tr>\n",
       "      <th>G</th>\n",
       "      <td>3.000000</td>\n",
       "      <td>0.500000</td>\n",
       "      <td>5</td>\n",
       "    </tr>\n",
       "    <tr>\n",
       "      <th>N</th>\n",
       "      <td>2.617357</td>\n",
       "      <td>0.299854</td>\n",
       "      <td>1014</td>\n",
       "    </tr>\n",
       "    <tr>\n",
       "      <th>T</th>\n",
       "      <td>1.000000</td>\n",
       "      <td>0.000000</td>\n",
       "      <td>1</td>\n",
       "    </tr>\n",
       "  </tbody>\n",
       "</table>\n",
       "</div>"
      ],
      "text/plain": [
       "                Pclass  Survived  passenger_count\n",
       "cabin_letter                                     \n",
       "A             1.000000  0.466667               22\n",
       "B             1.000000  0.744681               65\n",
       "C             1.000000  0.593220               94\n",
       "D             1.130435  0.757576               46\n",
       "E             1.243902  0.750000               41\n",
       "F             2.380952  0.615385               21\n",
       "G             3.000000  0.500000                5\n",
       "N             2.617357  0.299854             1014\n",
       "T             1.000000  0.000000                1"
      ]
     },
     "execution_count": 10,
     "metadata": {},
     "output_type": "execute_result"
    }
   ],
   "source": [
    "# Grouping by cabin letter should show us some insights...\n",
    "survival_ratio = df[['cabin_letter','Pclass','Survived']].groupby(['cabin_letter']).mean()\n",
    "people_count = df[['cabin_letter','Name']].groupby(['cabin_letter']).count().rename(columns={'Name': 'passenger_count'})\n",
    "\n",
    "pd.concat([survival_ratio,people_count], axis=1)"
   ]
  },
  {
   "cell_type": "markdown",
   "metadata": {
    "_cell_guid": "e6c5e770-aac6-49a4-86f0-bdb2329f98e0",
    "_uuid": "0336c9264d074736e9ac3dc4a2e1d291c120317e"
   },
   "source": [
    "It is clear that different cabins have different survival expectation, due to the situation in the ship. Apparently letters A, B, C, and T are related to 1st class; same for G, related to 3rd class. Other letters have people in different classes.\n",
    "\n",
    "As the missing data comes from people in all classes, we can't assign easily neither cabin nor cabin letter."
   ]
  },
  {
   "cell_type": "markdown",
   "metadata": {
    "_cell_guid": "df89739d-2536-49cb-a099-5547a7ff1159",
    "_uuid": "20e90d2740489ccb255dfd074efd2015c8b53095"
   },
   "source": [
    "### 3.2.1 Cabin from name?"
   ]
  },
  {
   "cell_type": "markdown",
   "metadata": {
    "_cell_guid": "59d7a747-f208-4ec8-8cb9-0eeb13d3ed5f",
    "_uuid": "44d452adf74c9350af3ca24b14c1bcfdf1ba3edf"
   },
   "source": [
    "If you have a look at the names provided, they are in the form \"Surname, Title. Name\", and in the cases of a wife \"Man_surname, Man_title. Man_name (Woman_name Woman_surname)\". We could use this information to find people with same family names and assign the same cabin."
   ]
  },
  {
   "cell_type": "code",
   "execution_count": 11,
   "metadata": {
    "_cell_guid": "9c6b1470-0f7d-4db8-8218-a14db4b9427f",
    "_uuid": "346925438bfb65a4e4b88de3688da6ccd618d2a7"
   },
   "outputs": [
    {
     "data": {
      "text/html": [
       "<div>\n",
       "<style>\n",
       "    .dataframe thead tr:only-child th {\n",
       "        text-align: right;\n",
       "    }\n",
       "\n",
       "    .dataframe thead th {\n",
       "        text-align: left;\n",
       "    }\n",
       "\n",
       "    .dataframe tbody tr th {\n",
       "        vertical-align: top;\n",
       "    }\n",
       "</style>\n",
       "<table border=\"1\" class=\"dataframe\">\n",
       "  <thead>\n",
       "    <tr style=\"text-align: right;\">\n",
       "      <th></th>\n",
       "      <th>Age</th>\n",
       "      <th>Cabin</th>\n",
       "      <th>Embarked</th>\n",
       "      <th>Fare</th>\n",
       "      <th>Name</th>\n",
       "      <th>Parch</th>\n",
       "      <th>Pclass</th>\n",
       "      <th>Sex</th>\n",
       "      <th>SibSp</th>\n",
       "      <th>Survived</th>\n",
       "      <th>Ticket</th>\n",
       "      <th>estimated_age</th>\n",
       "      <th>cabin_letter</th>\n",
       "      <th>surname</th>\n",
       "    </tr>\n",
       "    <tr>\n",
       "      <th>PassengerId</th>\n",
       "      <th></th>\n",
       "      <th></th>\n",
       "      <th></th>\n",
       "      <th></th>\n",
       "      <th></th>\n",
       "      <th></th>\n",
       "      <th></th>\n",
       "      <th></th>\n",
       "      <th></th>\n",
       "      <th></th>\n",
       "      <th></th>\n",
       "      <th></th>\n",
       "      <th></th>\n",
       "      <th></th>\n",
       "    </tr>\n",
       "  </thead>\n",
       "  <tbody>\n",
       "    <tr>\n",
       "      <th>271</th>\n",
       "      <td>42.00</td>\n",
       "      <td>NaN</td>\n",
       "      <td>S</td>\n",
       "      <td>31.0000</td>\n",
       "      <td>Cairns, Mr. Alexander</td>\n",
       "      <td>0</td>\n",
       "      <td>1</td>\n",
       "      <td>male</td>\n",
       "      <td>0</td>\n",
       "      <td>0.0</td>\n",
       "      <td>113798</td>\n",
       "      <td>1</td>\n",
       "      <td>N</td>\n",
       "      <td>Cairns</td>\n",
       "    </tr>\n",
       "    <tr>\n",
       "      <th>923</th>\n",
       "      <td>24.00</td>\n",
       "      <td>NaN</td>\n",
       "      <td>S</td>\n",
       "      <td>31.5000</td>\n",
       "      <td>Jefferys, Mr. Clifford Thomas</td>\n",
       "      <td>0</td>\n",
       "      <td>2</td>\n",
       "      <td>male</td>\n",
       "      <td>2</td>\n",
       "      <td>NaN</td>\n",
       "      <td>C.A. 31029</td>\n",
       "      <td>0</td>\n",
       "      <td>N</td>\n",
       "      <td>Jefferys</td>\n",
       "    </tr>\n",
       "    <tr>\n",
       "      <th>643</th>\n",
       "      <td>2.00</td>\n",
       "      <td>NaN</td>\n",
       "      <td>S</td>\n",
       "      <td>27.9000</td>\n",
       "      <td>Skoog, Miss. Margit Elizabeth</td>\n",
       "      <td>2</td>\n",
       "      <td>3</td>\n",
       "      <td>female</td>\n",
       "      <td>3</td>\n",
       "      <td>0.0</td>\n",
       "      <td>347088</td>\n",
       "      <td>0</td>\n",
       "      <td>N</td>\n",
       "      <td>Skoog</td>\n",
       "    </tr>\n",
       "    <tr>\n",
       "      <th>402</th>\n",
       "      <td>26.00</td>\n",
       "      <td>NaN</td>\n",
       "      <td>S</td>\n",
       "      <td>8.0500</td>\n",
       "      <td>Adams, Mr. John</td>\n",
       "      <td>0</td>\n",
       "      <td>3</td>\n",
       "      <td>male</td>\n",
       "      <td>0</td>\n",
       "      <td>0.0</td>\n",
       "      <td>341826</td>\n",
       "      <td>0</td>\n",
       "      <td>N</td>\n",
       "      <td>Adams</td>\n",
       "    </tr>\n",
       "    <tr>\n",
       "      <th>35</th>\n",
       "      <td>28.00</td>\n",
       "      <td>NaN</td>\n",
       "      <td>C</td>\n",
       "      <td>82.1708</td>\n",
       "      <td>Meyer, Mr. Edgar Joseph</td>\n",
       "      <td>0</td>\n",
       "      <td>1</td>\n",
       "      <td>male</td>\n",
       "      <td>1</td>\n",
       "      <td>0.0</td>\n",
       "      <td>PC 17604</td>\n",
       "      <td>0</td>\n",
       "      <td>N</td>\n",
       "      <td>Meyer</td>\n",
       "    </tr>\n",
       "    <tr>\n",
       "      <th>319</th>\n",
       "      <td>31.00</td>\n",
       "      <td>C7</td>\n",
       "      <td>S</td>\n",
       "      <td>164.8667</td>\n",
       "      <td>Wick, Miss. Mary Natalie</td>\n",
       "      <td>2</td>\n",
       "      <td>1</td>\n",
       "      <td>female</td>\n",
       "      <td>0</td>\n",
       "      <td>1.0</td>\n",
       "      <td>36928</td>\n",
       "      <td>0</td>\n",
       "      <td>C</td>\n",
       "      <td>Wick</td>\n",
       "    </tr>\n",
       "    <tr>\n",
       "      <th>376</th>\n",
       "      <td>38.00</td>\n",
       "      <td>NaN</td>\n",
       "      <td>C</td>\n",
       "      <td>82.1708</td>\n",
       "      <td>Meyer, Mrs. Edgar Joseph (Leila Saks)</td>\n",
       "      <td>0</td>\n",
       "      <td>1</td>\n",
       "      <td>female</td>\n",
       "      <td>1</td>\n",
       "      <td>1.0</td>\n",
       "      <td>PC 17604</td>\n",
       "      <td>1</td>\n",
       "      <td>N</td>\n",
       "      <td>Meyer</td>\n",
       "    </tr>\n",
       "    <tr>\n",
       "      <th>921</th>\n",
       "      <td>24.25</td>\n",
       "      <td>NaN</td>\n",
       "      <td>C</td>\n",
       "      <td>21.6792</td>\n",
       "      <td>Samaan, Mr. Elias</td>\n",
       "      <td>0</td>\n",
       "      <td>3</td>\n",
       "      <td>male</td>\n",
       "      <td>2</td>\n",
       "      <td>NaN</td>\n",
       "      <td>2662</td>\n",
       "      <td>1</td>\n",
       "      <td>N</td>\n",
       "      <td>Samaan</td>\n",
       "    </tr>\n",
       "    <tr>\n",
       "      <th>1147</th>\n",
       "      <td>25.00</td>\n",
       "      <td>NaN</td>\n",
       "      <td>S</td>\n",
       "      <td>7.5500</td>\n",
       "      <td>MacKay, Mr. George William</td>\n",
       "      <td>0</td>\n",
       "      <td>3</td>\n",
       "      <td>male</td>\n",
       "      <td>0</td>\n",
       "      <td>NaN</td>\n",
       "      <td>C.A. 42795</td>\n",
       "      <td>1</td>\n",
       "      <td>N</td>\n",
       "      <td>MacKay</td>\n",
       "    </tr>\n",
       "    <tr>\n",
       "      <th>890</th>\n",
       "      <td>26.00</td>\n",
       "      <td>C148</td>\n",
       "      <td>C</td>\n",
       "      <td>30.0000</td>\n",
       "      <td>Behr, Mr. Karl Howell</td>\n",
       "      <td>0</td>\n",
       "      <td>1</td>\n",
       "      <td>male</td>\n",
       "      <td>0</td>\n",
       "      <td>1.0</td>\n",
       "      <td>111369</td>\n",
       "      <td>0</td>\n",
       "      <td>C</td>\n",
       "      <td>Behr</td>\n",
       "    </tr>\n",
       "  </tbody>\n",
       "</table>\n",
       "</div>"
      ],
      "text/plain": [
       "               Age Cabin Embarked      Fare  \\\n",
       "PassengerId                                   \n",
       "271          42.00   NaN        S   31.0000   \n",
       "923          24.00   NaN        S   31.5000   \n",
       "643           2.00   NaN        S   27.9000   \n",
       "402          26.00   NaN        S    8.0500   \n",
       "35           28.00   NaN        C   82.1708   \n",
       "319          31.00    C7        S  164.8667   \n",
       "376          38.00   NaN        C   82.1708   \n",
       "921          24.25   NaN        C   21.6792   \n",
       "1147         25.00   NaN        S    7.5500   \n",
       "890          26.00  C148        C   30.0000   \n",
       "\n",
       "                                              Name  Parch  Pclass     Sex  \\\n",
       "PassengerId                                                                 \n",
       "271                          Cairns, Mr. Alexander      0       1    male   \n",
       "923                  Jefferys, Mr. Clifford Thomas      0       2    male   \n",
       "643                  Skoog, Miss. Margit Elizabeth      2       3  female   \n",
       "402                                Adams, Mr. John      0       3    male   \n",
       "35                         Meyer, Mr. Edgar Joseph      0       1    male   \n",
       "319                       Wick, Miss. Mary Natalie      2       1  female   \n",
       "376          Meyer, Mrs. Edgar Joseph (Leila Saks)      0       1  female   \n",
       "921                              Samaan, Mr. Elias      0       3    male   \n",
       "1147                    MacKay, Mr. George William      0       3    male   \n",
       "890                          Behr, Mr. Karl Howell      0       1    male   \n",
       "\n",
       "             SibSp  Survived      Ticket  estimated_age cabin_letter   surname  \n",
       "PassengerId                                                                     \n",
       "271              0       0.0      113798              1            N    Cairns  \n",
       "923              2       NaN  C.A. 31029              0            N  Jefferys  \n",
       "643              3       0.0      347088              0            N     Skoog  \n",
       "402              0       0.0      341826              0            N     Adams  \n",
       "35               1       0.0    PC 17604              0            N     Meyer  \n",
       "319              0       1.0       36928              0            C      Wick  \n",
       "376              1       1.0    PC 17604              1            N     Meyer  \n",
       "921              2       NaN        2662              1            N    Samaan  \n",
       "1147             0       NaN  C.A. 42795              1            N    MacKay  \n",
       "890              0       1.0      111369              0            C      Behr  "
      ]
     },
     "execution_count": 11,
     "metadata": {},
     "output_type": "execute_result"
    }
   ],
   "source": [
    "df['surname'] = df.Name.apply(lambda n: n.split(',')[0])\n",
    "df.sample(10)"
   ]
  },
  {
   "cell_type": "code",
   "execution_count": 12,
   "metadata": {
    "_cell_guid": "b49aa698-3e23-492a-ab92-ad19e8fba01c",
    "_uuid": "3d9149d981c82c5b36e9c28328fb90faeea55df8"
   },
   "outputs": [
    {
     "data": {
      "text/html": [
       "<div>\n",
       "<style>\n",
       "    .dataframe thead tr:only-child th {\n",
       "        text-align: right;\n",
       "    }\n",
       "\n",
       "    .dataframe thead th {\n",
       "        text-align: left;\n",
       "    }\n",
       "\n",
       "    .dataframe tbody tr th {\n",
       "        vertical-align: top;\n",
       "    }\n",
       "</style>\n",
       "<table border=\"1\" class=\"dataframe\">\n",
       "  <thead>\n",
       "    <tr style=\"text-align: right;\">\n",
       "      <th></th>\n",
       "      <th></th>\n",
       "      <th>Cabin</th>\n",
       "      <th>Name</th>\n",
       "    </tr>\n",
       "    <tr>\n",
       "      <th>surname</th>\n",
       "      <th>Pclass</th>\n",
       "      <th></th>\n",
       "      <th></th>\n",
       "    </tr>\n",
       "  </thead>\n",
       "  <tbody>\n",
       "    <tr>\n",
       "      <th>Abbing</th>\n",
       "      <th>3</th>\n",
       "      <td>0</td>\n",
       "      <td>1</td>\n",
       "    </tr>\n",
       "    <tr>\n",
       "      <th>Abbott</th>\n",
       "      <th>3</th>\n",
       "      <td>0</td>\n",
       "      <td>3</td>\n",
       "    </tr>\n",
       "    <tr>\n",
       "      <th>Abelseth</th>\n",
       "      <th>3</th>\n",
       "      <td>1</td>\n",
       "      <td>2</td>\n",
       "    </tr>\n",
       "    <tr>\n",
       "      <th>Abelson</th>\n",
       "      <th>2</th>\n",
       "      <td>0</td>\n",
       "      <td>2</td>\n",
       "    </tr>\n",
       "    <tr>\n",
       "      <th>Abrahamsson</th>\n",
       "      <th>3</th>\n",
       "      <td>0</td>\n",
       "      <td>1</td>\n",
       "    </tr>\n",
       "  </tbody>\n",
       "</table>\n",
       "</div>"
      ],
      "text/plain": [
       "                    Cabin  Name\n",
       "surname     Pclass             \n",
       "Abbing      3           0     1\n",
       "Abbott      3           0     3\n",
       "Abelseth    3           1     2\n",
       "Abelson     2           0     2\n",
       "Abrahamsson 3           0     1"
      ]
     },
     "execution_count": 12,
     "metadata": {},
     "output_type": "execute_result"
    }
   ],
   "source": [
    "#Group by surname and class, in order to find people that could be a family\n",
    "surnames = df[['surname','Cabin','Pclass','Name']].groupby(['surname','Pclass']).count()\n",
    "surnames.head()"
   ]
  },
  {
   "cell_type": "code",
   "execution_count": 13,
   "metadata": {
    "_cell_guid": "812e6ecc-66ec-4bb8-abd0-64a351d732f6",
    "_uuid": "d3ae249237bec0da4b30b4c235e556d3dfb09c20"
   },
   "outputs": [
    {
     "data": {
      "text/html": [
       "<div>\n",
       "<style>\n",
       "    .dataframe thead tr:only-child th {\n",
       "        text-align: right;\n",
       "    }\n",
       "\n",
       "    .dataframe thead th {\n",
       "        text-align: left;\n",
       "    }\n",
       "\n",
       "    .dataframe tbody tr th {\n",
       "        vertical-align: top;\n",
       "    }\n",
       "</style>\n",
       "<table border=\"1\" class=\"dataframe\">\n",
       "  <thead>\n",
       "    <tr style=\"text-align: right;\">\n",
       "      <th></th>\n",
       "      <th></th>\n",
       "      <th>Cabin</th>\n",
       "      <th>passenger_count</th>\n",
       "    </tr>\n",
       "    <tr>\n",
       "      <th>surname</th>\n",
       "      <th>Pclass</th>\n",
       "      <th></th>\n",
       "      <th></th>\n",
       "    </tr>\n",
       "  </thead>\n",
       "  <tbody>\n",
       "    <tr>\n",
       "      <th>Abelseth</th>\n",
       "      <th>3</th>\n",
       "      <td>1</td>\n",
       "      <td>2</td>\n",
       "    </tr>\n",
       "    <tr>\n",
       "      <th>Brown</th>\n",
       "      <th>2</th>\n",
       "      <td>1</td>\n",
       "      <td>4</td>\n",
       "    </tr>\n",
       "    <tr>\n",
       "      <th>Frauenthal</th>\n",
       "      <th>1</th>\n",
       "      <td>1</td>\n",
       "      <td>3</td>\n",
       "    </tr>\n",
       "    <tr>\n",
       "      <th>Hoyt</th>\n",
       "      <th>1</th>\n",
       "      <td>2</td>\n",
       "      <td>3</td>\n",
       "    </tr>\n",
       "    <tr>\n",
       "      <th>Keane</th>\n",
       "      <th>2</th>\n",
       "      <td>1</td>\n",
       "      <td>2</td>\n",
       "    </tr>\n",
       "    <tr>\n",
       "      <th>Peter</th>\n",
       "      <th>3</th>\n",
       "      <td>1</td>\n",
       "      <td>3</td>\n",
       "    </tr>\n",
       "    <tr>\n",
       "      <th>Wick</th>\n",
       "      <th>1</th>\n",
       "      <td>1</td>\n",
       "      <td>3</td>\n",
       "    </tr>\n",
       "  </tbody>\n",
       "</table>\n",
       "</div>"
      ],
      "text/plain": [
       "                   Cabin  passenger_count\n",
       "surname    Pclass                        \n",
       "Abelseth   3           1                2\n",
       "Brown      2           1                4\n",
       "Frauenthal 1           1                3\n",
       "Hoyt       1           2                3\n",
       "Keane      2           1                2\n",
       "Peter      3           1                3\n",
       "Wick       1           1                3"
      ]
     },
     "execution_count": 13,
     "metadata": {},
     "output_type": "execute_result"
    }
   ],
   "source": [
    "# Find cases with more people than assigned cabin\n",
    "missing = surnames[(surnames.Cabin>0) & (surnames.Cabin<surnames.Name)] # Notice the element-wise binary logical operator '&'\n",
    "missing.rename(columns={'Name': 'passenger_count'})"
   ]
  },
  {
   "cell_type": "markdown",
   "metadata": {
    "_cell_guid": "fad0b49e-bb57-4a61-bac8-fb75900d3a1c",
    "_uuid": "9ade65449f0428617ff6bccaea1e9925eba8c689"
   },
   "source": [
    "We found just 7 cases of (probably) families with missing cabins. Let's have a look at the Brown..."
   ]
  },
  {
   "cell_type": "code",
   "execution_count": 14,
   "metadata": {
    "_cell_guid": "91d2181f-fb43-4d59-b3e5-3067c47eb444",
    "_uuid": "621ae9555bf604996df44236b9b7b84ddba06710"
   },
   "outputs": [
    {
     "data": {
      "text/html": [
       "<div>\n",
       "<style>\n",
       "    .dataframe thead tr:only-child th {\n",
       "        text-align: right;\n",
       "    }\n",
       "\n",
       "    .dataframe thead th {\n",
       "        text-align: left;\n",
       "    }\n",
       "\n",
       "    .dataframe tbody tr th {\n",
       "        vertical-align: top;\n",
       "    }\n",
       "</style>\n",
       "<table border=\"1\" class=\"dataframe\">\n",
       "  <thead>\n",
       "    <tr style=\"text-align: right;\">\n",
       "      <th></th>\n",
       "      <th>Age</th>\n",
       "      <th>Cabin</th>\n",
       "      <th>Embarked</th>\n",
       "      <th>Fare</th>\n",
       "      <th>Name</th>\n",
       "      <th>Parch</th>\n",
       "      <th>Pclass</th>\n",
       "      <th>Sex</th>\n",
       "      <th>SibSp</th>\n",
       "      <th>Survived</th>\n",
       "      <th>Ticket</th>\n",
       "      <th>estimated_age</th>\n",
       "      <th>cabin_letter</th>\n",
       "      <th>surname</th>\n",
       "    </tr>\n",
       "    <tr>\n",
       "      <th>PassengerId</th>\n",
       "      <th></th>\n",
       "      <th></th>\n",
       "      <th></th>\n",
       "      <th></th>\n",
       "      <th></th>\n",
       "      <th></th>\n",
       "      <th></th>\n",
       "      <th></th>\n",
       "      <th></th>\n",
       "      <th></th>\n",
       "      <th></th>\n",
       "      <th></th>\n",
       "      <th></th>\n",
       "      <th></th>\n",
       "    </tr>\n",
       "  </thead>\n",
       "  <tbody>\n",
       "    <tr>\n",
       "      <th>195</th>\n",
       "      <td>44.0</td>\n",
       "      <td>B4</td>\n",
       "      <td>C</td>\n",
       "      <td>27.7208</td>\n",
       "      <td>Brown, Mrs. James Joseph (Margaret Tobin)</td>\n",
       "      <td>0</td>\n",
       "      <td>1</td>\n",
       "      <td>female</td>\n",
       "      <td>0</td>\n",
       "      <td>1.0</td>\n",
       "      <td>PC 17610</td>\n",
       "      <td>0</td>\n",
       "      <td>B</td>\n",
       "      <td>Brown</td>\n",
       "    </tr>\n",
       "    <tr>\n",
       "      <th>346</th>\n",
       "      <td>24.0</td>\n",
       "      <td>F33</td>\n",
       "      <td>S</td>\n",
       "      <td>13.0000</td>\n",
       "      <td>Brown, Miss. Amelia \"Mildred\"</td>\n",
       "      <td>0</td>\n",
       "      <td>2</td>\n",
       "      <td>female</td>\n",
       "      <td>0</td>\n",
       "      <td>1.0</td>\n",
       "      <td>248733</td>\n",
       "      <td>0</td>\n",
       "      <td>F</td>\n",
       "      <td>Brown</td>\n",
       "    </tr>\n",
       "    <tr>\n",
       "      <th>671</th>\n",
       "      <td>40.0</td>\n",
       "      <td>NaN</td>\n",
       "      <td>S</td>\n",
       "      <td>39.0000</td>\n",
       "      <td>Brown, Mrs. Thomas William Solomon (Elizabeth ...</td>\n",
       "      <td>1</td>\n",
       "      <td>2</td>\n",
       "      <td>female</td>\n",
       "      <td>1</td>\n",
       "      <td>1.0</td>\n",
       "      <td>29750</td>\n",
       "      <td>0</td>\n",
       "      <td>N</td>\n",
       "      <td>Brown</td>\n",
       "    </tr>\n",
       "    <tr>\n",
       "      <th>685</th>\n",
       "      <td>60.0</td>\n",
       "      <td>NaN</td>\n",
       "      <td>S</td>\n",
       "      <td>39.0000</td>\n",
       "      <td>Brown, Mr. Thomas William Solomon</td>\n",
       "      <td>1</td>\n",
       "      <td>2</td>\n",
       "      <td>male</td>\n",
       "      <td>1</td>\n",
       "      <td>0.0</td>\n",
       "      <td>29750</td>\n",
       "      <td>0</td>\n",
       "      <td>N</td>\n",
       "      <td>Brown</td>\n",
       "    </tr>\n",
       "    <tr>\n",
       "      <th>1067</th>\n",
       "      <td>15.0</td>\n",
       "      <td>NaN</td>\n",
       "      <td>S</td>\n",
       "      <td>39.0000</td>\n",
       "      <td>Brown, Miss. Edith Eileen</td>\n",
       "      <td>2</td>\n",
       "      <td>2</td>\n",
       "      <td>female</td>\n",
       "      <td>0</td>\n",
       "      <td>NaN</td>\n",
       "      <td>29750</td>\n",
       "      <td>0</td>\n",
       "      <td>N</td>\n",
       "      <td>Brown</td>\n",
       "    </tr>\n",
       "    <tr>\n",
       "      <th>1248</th>\n",
       "      <td>59.0</td>\n",
       "      <td>C101</td>\n",
       "      <td>S</td>\n",
       "      <td>51.4792</td>\n",
       "      <td>Brown, Mrs. John Murray (Caroline Lane Lamson)</td>\n",
       "      <td>0</td>\n",
       "      <td>1</td>\n",
       "      <td>female</td>\n",
       "      <td>2</td>\n",
       "      <td>NaN</td>\n",
       "      <td>11769</td>\n",
       "      <td>0</td>\n",
       "      <td>C</td>\n",
       "      <td>Brown</td>\n",
       "    </tr>\n",
       "  </tbody>\n",
       "</table>\n",
       "</div>"
      ],
      "text/plain": [
       "              Age Cabin Embarked     Fare  \\\n",
       "PassengerId                                 \n",
       "195          44.0    B4        C  27.7208   \n",
       "346          24.0   F33        S  13.0000   \n",
       "671          40.0   NaN        S  39.0000   \n",
       "685          60.0   NaN        S  39.0000   \n",
       "1067         15.0   NaN        S  39.0000   \n",
       "1248         59.0  C101        S  51.4792   \n",
       "\n",
       "                                                          Name  Parch  Pclass  \\\n",
       "PassengerId                                                                     \n",
       "195                  Brown, Mrs. James Joseph (Margaret Tobin)      0       1   \n",
       "346                              Brown, Miss. Amelia \"Mildred\"      0       2   \n",
       "671          Brown, Mrs. Thomas William Solomon (Elizabeth ...      1       2   \n",
       "685                          Brown, Mr. Thomas William Solomon      1       2   \n",
       "1067                                 Brown, Miss. Edith Eileen      2       2   \n",
       "1248            Brown, Mrs. John Murray (Caroline Lane Lamson)      0       1   \n",
       "\n",
       "                Sex  SibSp  Survived    Ticket  estimated_age cabin_letter  \\\n",
       "PassengerId                                                                  \n",
       "195          female      0       1.0  PC 17610              0            B   \n",
       "346          female      0       1.0    248733              0            F   \n",
       "671          female      1       1.0     29750              0            N   \n",
       "685            male      1       0.0     29750              0            N   \n",
       "1067         female      0       NaN     29750              0            N   \n",
       "1248         female      2       NaN     11769              0            C   \n",
       "\n",
       "            surname  \n",
       "PassengerId          \n",
       "195           Brown  \n",
       "346           Brown  \n",
       "671           Brown  \n",
       "685           Brown  \n",
       "1067          Brown  \n",
       "1248          Brown  "
      ]
     },
     "execution_count": 14,
     "metadata": {},
     "output_type": "execute_result"
    }
   ],
   "source": [
    "df[df.surname=='Brown']"
   ]
  },
  {
   "cell_type": "markdown",
   "metadata": {
    "_cell_guid": "85273dae-8d0a-4247-aad1-b2a7d5219d8b",
    "_uuid": "163db6252e9b843ce1cf2f1755dae45aa8a4f0b3"
   },
   "source": [
    "In this case we can't assign any cabin to the passengers 671, 685 and 1067 (the ones without cabin) because they are actually an independent family, as they have the same ticket number and moreover Parch and SibSp numbers made us to suspect so.\n",
    "\n",
    "Let's try with the Hoyt..."
   ]
  },
  {
   "cell_type": "code",
   "execution_count": 15,
   "metadata": {
    "_cell_guid": "7111e594-2ce8-4403-9fd8-3e6fa884f3f5",
    "_uuid": "10b24e44119120ae1d51887bd6a40703a16c80cd"
   },
   "outputs": [
    {
     "data": {
      "text/html": [
       "<div>\n",
       "<style>\n",
       "    .dataframe thead tr:only-child th {\n",
       "        text-align: right;\n",
       "    }\n",
       "\n",
       "    .dataframe thead th {\n",
       "        text-align: left;\n",
       "    }\n",
       "\n",
       "    .dataframe tbody tr th {\n",
       "        vertical-align: top;\n",
       "    }\n",
       "</style>\n",
       "<table border=\"1\" class=\"dataframe\">\n",
       "  <thead>\n",
       "    <tr style=\"text-align: right;\">\n",
       "      <th></th>\n",
       "      <th>Age</th>\n",
       "      <th>Cabin</th>\n",
       "      <th>Embarked</th>\n",
       "      <th>Fare</th>\n",
       "      <th>Name</th>\n",
       "      <th>Parch</th>\n",
       "      <th>Pclass</th>\n",
       "      <th>Sex</th>\n",
       "      <th>SibSp</th>\n",
       "      <th>Survived</th>\n",
       "      <th>Ticket</th>\n",
       "      <th>estimated_age</th>\n",
       "      <th>cabin_letter</th>\n",
       "      <th>surname</th>\n",
       "    </tr>\n",
       "    <tr>\n",
       "      <th>PassengerId</th>\n",
       "      <th></th>\n",
       "      <th></th>\n",
       "      <th></th>\n",
       "      <th></th>\n",
       "      <th></th>\n",
       "      <th></th>\n",
       "      <th></th>\n",
       "      <th></th>\n",
       "      <th></th>\n",
       "      <th></th>\n",
       "      <th></th>\n",
       "      <th></th>\n",
       "      <th></th>\n",
       "      <th></th>\n",
       "    </tr>\n",
       "  </thead>\n",
       "  <tbody>\n",
       "    <tr>\n",
       "      <th>225</th>\n",
       "      <td>38.0</td>\n",
       "      <td>C93</td>\n",
       "      <td>S</td>\n",
       "      <td>90.0000</td>\n",
       "      <td>Hoyt, Mr. Frederick Maxfield</td>\n",
       "      <td>0</td>\n",
       "      <td>1</td>\n",
       "      <td>male</td>\n",
       "      <td>1</td>\n",
       "      <td>1.0</td>\n",
       "      <td>19943</td>\n",
       "      <td>0</td>\n",
       "      <td>C</td>\n",
       "      <td>Hoyt</td>\n",
       "    </tr>\n",
       "    <tr>\n",
       "      <th>487</th>\n",
       "      <td>35.0</td>\n",
       "      <td>C93</td>\n",
       "      <td>S</td>\n",
       "      <td>90.0000</td>\n",
       "      <td>Hoyt, Mrs. Frederick Maxfield (Jane Anne Forby)</td>\n",
       "      <td>0</td>\n",
       "      <td>1</td>\n",
       "      <td>female</td>\n",
       "      <td>1</td>\n",
       "      <td>1.0</td>\n",
       "      <td>19943</td>\n",
       "      <td>0</td>\n",
       "      <td>C</td>\n",
       "      <td>Hoyt</td>\n",
       "    </tr>\n",
       "    <tr>\n",
       "      <th>794</th>\n",
       "      <td>39.0</td>\n",
       "      <td>NaN</td>\n",
       "      <td>C</td>\n",
       "      <td>30.6958</td>\n",
       "      <td>Hoyt, Mr. William Fisher</td>\n",
       "      <td>0</td>\n",
       "      <td>1</td>\n",
       "      <td>male</td>\n",
       "      <td>0</td>\n",
       "      <td>0.0</td>\n",
       "      <td>PC 17600</td>\n",
       "      <td>1</td>\n",
       "      <td>N</td>\n",
       "      <td>Hoyt</td>\n",
       "    </tr>\n",
       "  </tbody>\n",
       "</table>\n",
       "</div>"
      ],
      "text/plain": [
       "              Age Cabin Embarked     Fare  \\\n",
       "PassengerId                                 \n",
       "225          38.0   C93        S  90.0000   \n",
       "487          35.0   C93        S  90.0000   \n",
       "794          39.0   NaN        C  30.6958   \n",
       "\n",
       "                                                        Name  Parch  Pclass  \\\n",
       "PassengerId                                                                   \n",
       "225                             Hoyt, Mr. Frederick Maxfield      0       1   \n",
       "487          Hoyt, Mrs. Frederick Maxfield (Jane Anne Forby)      0       1   \n",
       "794                                 Hoyt, Mr. William Fisher      0       1   \n",
       "\n",
       "                Sex  SibSp  Survived    Ticket  estimated_age cabin_letter  \\\n",
       "PassengerId                                                                  \n",
       "225            male      1       1.0     19943              0            C   \n",
       "487          female      1       1.0     19943              0            C   \n",
       "794            male      0       0.0  PC 17600              1            N   \n",
       "\n",
       "            surname  \n",
       "PassengerId          \n",
       "225            Hoyt  \n",
       "487            Hoyt  \n",
       "794            Hoyt  "
      ]
     },
     "execution_count": 15,
     "metadata": {},
     "output_type": "execute_result"
    }
   ],
   "source": [
    "df[df.surname=='Hoyt']"
   ]
  },
  {
   "cell_type": "markdown",
   "metadata": {
    "_cell_guid": "e6b16646-db8f-4260-a32f-22501339d635",
    "_uuid": "b5a67b178627c0ffadf230de4ca89a61743b2b92"
   },
   "source": [
    "In this case too we can't assign any cabin as the third passenger is clearly not related with the couple.\n",
    "\n",
    "We have seen 2 cases but didn't found any useful way to get the cabin from the surname, a pity."
   ]
  },
  {
   "cell_type": "markdown",
   "metadata": {
    "_cell_guid": "1d0f6d50-baaa-4276-80d3-3092e616c840",
    "_uuid": "6174230486c9a36d21e08837d2fb3676172ef74f"
   },
   "source": [
    "### 3.2.2 Cabin from Ticket?"
   ]
  },
  {
   "cell_type": "markdown",
   "metadata": {
    "_cell_guid": "6bd33cea-8528-49f8-83f9-d3e1247c7b5a",
    "_uuid": "dbf4350ad430ed8a9c7ba2fd3a11bf4dfae9d59f"
   },
   "source": [
    "We could find people without cabin set, but with the ticket id shared with other people who have cabin assigned."
   ]
  },
  {
   "cell_type": "code",
   "execution_count": 16,
   "metadata": {
    "_cell_guid": "d0b8fd8d-db38-48ff-9db5-cf8112a127a8",
    "_uuid": "8559f307fa4d364507818c0d563c60faa6a167b2"
   },
   "outputs": [
    {
     "data": {
      "text/html": [
       "<div>\n",
       "<style>\n",
       "    .dataframe thead tr:only-child th {\n",
       "        text-align: right;\n",
       "    }\n",
       "\n",
       "    .dataframe thead th {\n",
       "        text-align: left;\n",
       "    }\n",
       "\n",
       "    .dataframe tbody tr th {\n",
       "        vertical-align: top;\n",
       "    }\n",
       "</style>\n",
       "<table border=\"1\" class=\"dataframe\">\n",
       "  <thead>\n",
       "    <tr style=\"text-align: right;\">\n",
       "      <th></th>\n",
       "      <th>Cabin</th>\n",
       "      <th>Name</th>\n",
       "    </tr>\n",
       "    <tr>\n",
       "      <th>Ticket</th>\n",
       "      <th></th>\n",
       "      <th></th>\n",
       "    </tr>\n",
       "  </thead>\n",
       "  <tbody>\n",
       "    <tr>\n",
       "      <th>113781</th>\n",
       "      <td>4</td>\n",
       "      <td>6</td>\n",
       "    </tr>\n",
       "    <tr>\n",
       "      <th>17421</th>\n",
       "      <td>3</td>\n",
       "      <td>4</td>\n",
       "    </tr>\n",
       "    <tr>\n",
       "      <th>19877</th>\n",
       "      <td>2</td>\n",
       "      <td>3</td>\n",
       "    </tr>\n",
       "    <tr>\n",
       "      <th>24160</th>\n",
       "      <td>3</td>\n",
       "      <td>4</td>\n",
       "    </tr>\n",
       "    <tr>\n",
       "      <th>2668</th>\n",
       "      <td>1</td>\n",
       "      <td>3</td>\n",
       "    </tr>\n",
       "    <tr>\n",
       "      <th>36928</th>\n",
       "      <td>2</td>\n",
       "      <td>4</td>\n",
       "    </tr>\n",
       "    <tr>\n",
       "      <th>PC 17608</th>\n",
       "      <td>6</td>\n",
       "      <td>7</td>\n",
       "    </tr>\n",
       "    <tr>\n",
       "      <th>PC 17755</th>\n",
       "      <td>3</td>\n",
       "      <td>4</td>\n",
       "    </tr>\n",
       "    <tr>\n",
       "      <th>PC 17757</th>\n",
       "      <td>3</td>\n",
       "      <td>5</td>\n",
       "    </tr>\n",
       "    <tr>\n",
       "      <th>PC 17760</th>\n",
       "      <td>3</td>\n",
       "      <td>4</td>\n",
       "    </tr>\n",
       "    <tr>\n",
       "      <th>PC 17761</th>\n",
       "      <td>2</td>\n",
       "      <td>3</td>\n",
       "    </tr>\n",
       "    <tr>\n",
       "      <th>S.O./P.P. 3</th>\n",
       "      <td>1</td>\n",
       "      <td>2</td>\n",
       "    </tr>\n",
       "  </tbody>\n",
       "</table>\n",
       "</div>"
      ],
      "text/plain": [
       "             Cabin  Name\n",
       "Ticket                  \n",
       "113781           4     6\n",
       "17421            3     4\n",
       "19877            2     3\n",
       "24160            3     4\n",
       "2668             1     3\n",
       "36928            2     4\n",
       "PC 17608         6     7\n",
       "PC 17755         3     4\n",
       "PC 17757         3     5\n",
       "PC 17760         3     4\n",
       "PC 17761         2     3\n",
       "S.O./P.P. 3      1     2"
      ]
     },
     "execution_count": 16,
     "metadata": {},
     "output_type": "execute_result"
    }
   ],
   "source": [
    "tickets_grouped = df[['Ticket','Cabin','Name']].groupby('Ticket').count()\n",
    "\n",
    "# Filter: With at least a Cabin, with at least 2 people, and more people than cabins\n",
    "candidate_tickets = tickets_grouped[(tickets_grouped['Cabin']>=1) & (tickets_grouped['Name']>=2) & (tickets_grouped['Cabin']<tickets_grouped['Name'])]\n",
    "candidate_tickets"
   ]
  },
  {
   "cell_type": "markdown",
   "metadata": {
    "_cell_guid": "fbf18df2-e339-4e32-82ec-17b231694994",
    "_uuid": "64f48323d185590c2ccf9eda63fedc806aecb023"
   },
   "source": [
    "Nice, we got some candidates! Let's verify with one of them."
   ]
  },
  {
   "cell_type": "code",
   "execution_count": 17,
   "metadata": {
    "_cell_guid": "5087e675-c32d-47d0-a394-9f0b06b2817b",
    "_uuid": "6c4486a0290f33dd7d28b3d56b9411b5bd0eff5d"
   },
   "outputs": [
    {
     "data": {
      "text/html": [
       "<div>\n",
       "<style>\n",
       "    .dataframe thead tr:only-child th {\n",
       "        text-align: right;\n",
       "    }\n",
       "\n",
       "    .dataframe thead th {\n",
       "        text-align: left;\n",
       "    }\n",
       "\n",
       "    .dataframe tbody tr th {\n",
       "        vertical-align: top;\n",
       "    }\n",
       "</style>\n",
       "<table border=\"1\" class=\"dataframe\">\n",
       "  <thead>\n",
       "    <tr style=\"text-align: right;\">\n",
       "      <th></th>\n",
       "      <th>Age</th>\n",
       "      <th>Cabin</th>\n",
       "      <th>Embarked</th>\n",
       "      <th>Fare</th>\n",
       "      <th>Name</th>\n",
       "      <th>Parch</th>\n",
       "      <th>Pclass</th>\n",
       "      <th>Sex</th>\n",
       "      <th>SibSp</th>\n",
       "      <th>Survived</th>\n",
       "      <th>Ticket</th>\n",
       "      <th>estimated_age</th>\n",
       "      <th>cabin_letter</th>\n",
       "      <th>surname</th>\n",
       "    </tr>\n",
       "    <tr>\n",
       "      <th>PassengerId</th>\n",
       "      <th></th>\n",
       "      <th></th>\n",
       "      <th></th>\n",
       "      <th></th>\n",
       "      <th></th>\n",
       "      <th></th>\n",
       "      <th></th>\n",
       "      <th></th>\n",
       "      <th></th>\n",
       "      <th></th>\n",
       "      <th></th>\n",
       "      <th></th>\n",
       "      <th></th>\n",
       "      <th></th>\n",
       "    </tr>\n",
       "  </thead>\n",
       "  <tbody>\n",
       "    <tr>\n",
       "      <th>298</th>\n",
       "      <td>2.00</td>\n",
       "      <td>C22 C26</td>\n",
       "      <td>S</td>\n",
       "      <td>151.55</td>\n",
       "      <td>Allison, Miss. Helen Loraine</td>\n",
       "      <td>2</td>\n",
       "      <td>1</td>\n",
       "      <td>female</td>\n",
       "      <td>1</td>\n",
       "      <td>0.0</td>\n",
       "      <td>113781</td>\n",
       "      <td>0</td>\n",
       "      <td>C</td>\n",
       "      <td>Allison</td>\n",
       "    </tr>\n",
       "    <tr>\n",
       "      <th>306</th>\n",
       "      <td>0.92</td>\n",
       "      <td>C22 C26</td>\n",
       "      <td>S</td>\n",
       "      <td>151.55</td>\n",
       "      <td>Allison, Master. Hudson Trevor</td>\n",
       "      <td>2</td>\n",
       "      <td>1</td>\n",
       "      <td>male</td>\n",
       "      <td>1</td>\n",
       "      <td>1.0</td>\n",
       "      <td>113781</td>\n",
       "      <td>0</td>\n",
       "      <td>C</td>\n",
       "      <td>Allison</td>\n",
       "    </tr>\n",
       "    <tr>\n",
       "      <th>499</th>\n",
       "      <td>25.00</td>\n",
       "      <td>C22 C26</td>\n",
       "      <td>S</td>\n",
       "      <td>151.55</td>\n",
       "      <td>Allison, Mrs. Hudson J C (Bessie Waldo Daniels)</td>\n",
       "      <td>2</td>\n",
       "      <td>1</td>\n",
       "      <td>female</td>\n",
       "      <td>1</td>\n",
       "      <td>0.0</td>\n",
       "      <td>113781</td>\n",
       "      <td>0</td>\n",
       "      <td>C</td>\n",
       "      <td>Allison</td>\n",
       "    </tr>\n",
       "    <tr>\n",
       "      <th>709</th>\n",
       "      <td>22.00</td>\n",
       "      <td>NaN</td>\n",
       "      <td>S</td>\n",
       "      <td>151.55</td>\n",
       "      <td>Cleaver, Miss. Alice</td>\n",
       "      <td>0</td>\n",
       "      <td>1</td>\n",
       "      <td>female</td>\n",
       "      <td>0</td>\n",
       "      <td>1.0</td>\n",
       "      <td>113781</td>\n",
       "      <td>0</td>\n",
       "      <td>N</td>\n",
       "      <td>Cleaver</td>\n",
       "    </tr>\n",
       "    <tr>\n",
       "      <th>1033</th>\n",
       "      <td>33.00</td>\n",
       "      <td>NaN</td>\n",
       "      <td>S</td>\n",
       "      <td>151.55</td>\n",
       "      <td>Daniels, Miss. Sarah</td>\n",
       "      <td>0</td>\n",
       "      <td>1</td>\n",
       "      <td>female</td>\n",
       "      <td>0</td>\n",
       "      <td>NaN</td>\n",
       "      <td>113781</td>\n",
       "      <td>0</td>\n",
       "      <td>N</td>\n",
       "      <td>Daniels</td>\n",
       "    </tr>\n",
       "    <tr>\n",
       "      <th>1198</th>\n",
       "      <td>30.00</td>\n",
       "      <td>C22 C26</td>\n",
       "      <td>S</td>\n",
       "      <td>151.55</td>\n",
       "      <td>Allison, Mr. Hudson Joshua Creighton</td>\n",
       "      <td>2</td>\n",
       "      <td>1</td>\n",
       "      <td>male</td>\n",
       "      <td>1</td>\n",
       "      <td>NaN</td>\n",
       "      <td>113781</td>\n",
       "      <td>0</td>\n",
       "      <td>C</td>\n",
       "      <td>Allison</td>\n",
       "    </tr>\n",
       "  </tbody>\n",
       "</table>\n",
       "</div>"
      ],
      "text/plain": [
       "               Age    Cabin Embarked    Fare  \\\n",
       "PassengerId                                    \n",
       "298           2.00  C22 C26        S  151.55   \n",
       "306           0.92  C22 C26        S  151.55   \n",
       "499          25.00  C22 C26        S  151.55   \n",
       "709          22.00      NaN        S  151.55   \n",
       "1033         33.00      NaN        S  151.55   \n",
       "1198         30.00  C22 C26        S  151.55   \n",
       "\n",
       "                                                        Name  Parch  Pclass  \\\n",
       "PassengerId                                                                   \n",
       "298                             Allison, Miss. Helen Loraine      2       1   \n",
       "306                           Allison, Master. Hudson Trevor      2       1   \n",
       "499          Allison, Mrs. Hudson J C (Bessie Waldo Daniels)      2       1   \n",
       "709                                     Cleaver, Miss. Alice      0       1   \n",
       "1033                                    Daniels, Miss. Sarah      0       1   \n",
       "1198                    Allison, Mr. Hudson Joshua Creighton      2       1   \n",
       "\n",
       "                Sex  SibSp  Survived  Ticket  estimated_age cabin_letter  \\\n",
       "PassengerId                                                                \n",
       "298          female      1       0.0  113781              0            C   \n",
       "306            male      1       1.0  113781              0            C   \n",
       "499          female      1       0.0  113781              0            C   \n",
       "709          female      0       1.0  113781              0            N   \n",
       "1033         female      0       NaN  113781              0            N   \n",
       "1198           male      1       NaN  113781              0            C   \n",
       "\n",
       "             surname  \n",
       "PassengerId           \n",
       "298          Allison  \n",
       "306          Allison  \n",
       "499          Allison  \n",
       "709          Cleaver  \n",
       "1033         Daniels  \n",
       "1198         Allison  "
      ]
     },
     "execution_count": 17,
     "metadata": {},
     "output_type": "execute_result"
    }
   ],
   "source": [
    "df[df.Ticket=='113781']"
   ]
  },
  {
   "cell_type": "markdown",
   "metadata": {
    "_cell_guid": "8ae1bf6a-429d-4c60-810c-3cc64c9e2e02",
    "_uuid": "b23b48cf9434201631b3388a3d7c1fcd2d0159b2"
   },
   "source": [
    "Great! We can complete some Cabins!"
   ]
  },
  {
   "cell_type": "code",
   "execution_count": 18,
   "metadata": {
    "_cell_guid": "dc6cdf00-b34c-44ea-b510-8a8b733aee32",
    "_uuid": "0696265cc779fc620e1157faaafcf58dd4ae2553"
   },
   "outputs": [
    {
     "data": {
      "text/html": [
       "<div>\n",
       "<style>\n",
       "    .dataframe thead tr:only-child th {\n",
       "        text-align: right;\n",
       "    }\n",
       "\n",
       "    .dataframe thead th {\n",
       "        text-align: left;\n",
       "    }\n",
       "\n",
       "    .dataframe tbody tr th {\n",
       "        vertical-align: top;\n",
       "    }\n",
       "</style>\n",
       "<table border=\"1\" class=\"dataframe\">\n",
       "  <thead>\n",
       "    <tr style=\"text-align: right;\">\n",
       "      <th></th>\n",
       "      <th>Age</th>\n",
       "      <th>Cabin</th>\n",
       "      <th>Embarked</th>\n",
       "      <th>Fare</th>\n",
       "      <th>Name</th>\n",
       "      <th>Parch</th>\n",
       "      <th>Pclass</th>\n",
       "      <th>Sex</th>\n",
       "      <th>SibSp</th>\n",
       "      <th>Survived</th>\n",
       "      <th>Ticket</th>\n",
       "      <th>estimated_age</th>\n",
       "      <th>cabin_letter</th>\n",
       "      <th>surname</th>\n",
       "    </tr>\n",
       "    <tr>\n",
       "      <th>PassengerId</th>\n",
       "      <th></th>\n",
       "      <th></th>\n",
       "      <th></th>\n",
       "      <th></th>\n",
       "      <th></th>\n",
       "      <th></th>\n",
       "      <th></th>\n",
       "      <th></th>\n",
       "      <th></th>\n",
       "      <th></th>\n",
       "      <th></th>\n",
       "      <th></th>\n",
       "      <th></th>\n",
       "      <th></th>\n",
       "    </tr>\n",
       "  </thead>\n",
       "  <tbody>\n",
       "    <tr>\n",
       "      <th>298</th>\n",
       "      <td>2.00</td>\n",
       "      <td>C22 C26</td>\n",
       "      <td>S</td>\n",
       "      <td>151.55</td>\n",
       "      <td>Allison, Miss. Helen Loraine</td>\n",
       "      <td>2</td>\n",
       "      <td>1</td>\n",
       "      <td>female</td>\n",
       "      <td>1</td>\n",
       "      <td>0.0</td>\n",
       "      <td>113781</td>\n",
       "      <td>0</td>\n",
       "      <td>C</td>\n",
       "      <td>Allison</td>\n",
       "    </tr>\n",
       "    <tr>\n",
       "      <th>306</th>\n",
       "      <td>0.92</td>\n",
       "      <td>C22 C26</td>\n",
       "      <td>S</td>\n",
       "      <td>151.55</td>\n",
       "      <td>Allison, Master. Hudson Trevor</td>\n",
       "      <td>2</td>\n",
       "      <td>1</td>\n",
       "      <td>male</td>\n",
       "      <td>1</td>\n",
       "      <td>1.0</td>\n",
       "      <td>113781</td>\n",
       "      <td>0</td>\n",
       "      <td>C</td>\n",
       "      <td>Allison</td>\n",
       "    </tr>\n",
       "    <tr>\n",
       "      <th>499</th>\n",
       "      <td>25.00</td>\n",
       "      <td>C22 C26</td>\n",
       "      <td>S</td>\n",
       "      <td>151.55</td>\n",
       "      <td>Allison, Mrs. Hudson J C (Bessie Waldo Daniels)</td>\n",
       "      <td>2</td>\n",
       "      <td>1</td>\n",
       "      <td>female</td>\n",
       "      <td>1</td>\n",
       "      <td>0.0</td>\n",
       "      <td>113781</td>\n",
       "      <td>0</td>\n",
       "      <td>C</td>\n",
       "      <td>Allison</td>\n",
       "    </tr>\n",
       "    <tr>\n",
       "      <th>709</th>\n",
       "      <td>22.00</td>\n",
       "      <td>C22 C26</td>\n",
       "      <td>S</td>\n",
       "      <td>151.55</td>\n",
       "      <td>Cleaver, Miss. Alice</td>\n",
       "      <td>0</td>\n",
       "      <td>1</td>\n",
       "      <td>female</td>\n",
       "      <td>0</td>\n",
       "      <td>1.0</td>\n",
       "      <td>113781</td>\n",
       "      <td>0</td>\n",
       "      <td>C</td>\n",
       "      <td>Cleaver</td>\n",
       "    </tr>\n",
       "    <tr>\n",
       "      <th>1033</th>\n",
       "      <td>33.00</td>\n",
       "      <td>C22 C26</td>\n",
       "      <td>S</td>\n",
       "      <td>151.55</td>\n",
       "      <td>Daniels, Miss. Sarah</td>\n",
       "      <td>0</td>\n",
       "      <td>1</td>\n",
       "      <td>female</td>\n",
       "      <td>0</td>\n",
       "      <td>NaN</td>\n",
       "      <td>113781</td>\n",
       "      <td>0</td>\n",
       "      <td>C</td>\n",
       "      <td>Daniels</td>\n",
       "    </tr>\n",
       "    <tr>\n",
       "      <th>1198</th>\n",
       "      <td>30.00</td>\n",
       "      <td>C22 C26</td>\n",
       "      <td>S</td>\n",
       "      <td>151.55</td>\n",
       "      <td>Allison, Mr. Hudson Joshua Creighton</td>\n",
       "      <td>2</td>\n",
       "      <td>1</td>\n",
       "      <td>male</td>\n",
       "      <td>1</td>\n",
       "      <td>NaN</td>\n",
       "      <td>113781</td>\n",
       "      <td>0</td>\n",
       "      <td>C</td>\n",
       "      <td>Allison</td>\n",
       "    </tr>\n",
       "  </tbody>\n",
       "</table>\n",
       "</div>"
      ],
      "text/plain": [
       "               Age    Cabin Embarked    Fare  \\\n",
       "PassengerId                                    \n",
       "298           2.00  C22 C26        S  151.55   \n",
       "306           0.92  C22 C26        S  151.55   \n",
       "499          25.00  C22 C26        S  151.55   \n",
       "709          22.00  C22 C26        S  151.55   \n",
       "1033         33.00  C22 C26        S  151.55   \n",
       "1198         30.00  C22 C26        S  151.55   \n",
       "\n",
       "                                                        Name  Parch  Pclass  \\\n",
       "PassengerId                                                                   \n",
       "298                             Allison, Miss. Helen Loraine      2       1   \n",
       "306                           Allison, Master. Hudson Trevor      2       1   \n",
       "499          Allison, Mrs. Hudson J C (Bessie Waldo Daniels)      2       1   \n",
       "709                                     Cleaver, Miss. Alice      0       1   \n",
       "1033                                    Daniels, Miss. Sarah      0       1   \n",
       "1198                    Allison, Mr. Hudson Joshua Creighton      2       1   \n",
       "\n",
       "                Sex  SibSp  Survived  Ticket  estimated_age cabin_letter  \\\n",
       "PassengerId                                                                \n",
       "298          female      1       0.0  113781              0            C   \n",
       "306            male      1       1.0  113781              0            C   \n",
       "499          female      1       0.0  113781              0            C   \n",
       "709          female      0       1.0  113781              0            C   \n",
       "1033         female      0       NaN  113781              0            C   \n",
       "1198           male      1       NaN  113781              0            C   \n",
       "\n",
       "             surname  \n",
       "PassengerId           \n",
       "298          Allison  \n",
       "306          Allison  \n",
       "499          Allison  \n",
       "709          Cleaver  \n",
       "1033         Daniels  \n",
       "1198         Allison  "
      ]
     },
     "execution_count": 18,
     "metadata": {},
     "output_type": "execute_result"
    }
   ],
   "source": [
    "shared_tickets = candidate_tickets.index.tolist()\n",
    "\n",
    "find_cabin_given_ticket = lambda ticket: df[(df.Ticket==ticket) & (pd.notnull(df.Cabin))].Cabin.values[0]\n",
    "def assign_cabin(row):\n",
    "    if pd.isnull(row.Cabin) and row.Ticket in shared_tickets: \n",
    "        return find_cabin_given_ticket(row.Ticket) \n",
    "    return row.Cabin\n",
    "\n",
    "df['Cabin'] = df[['Cabin', 'Ticket']].apply(assign_cabin, axis=1)\n",
    "df['cabin_letter'] = df['Cabin'].apply(lambda c: c[0] if not pd.isnull(c) else 'N') # N=none\n",
    "\n",
    "df[df.Ticket=='113781']"
   ]
  },
  {
   "cell_type": "code",
   "execution_count": 19,
   "metadata": {
    "_cell_guid": "b2747fee-c57d-498f-8c61-dbb803cfa274",
    "_uuid": "21cbeac6072e35f17de31e02b7a85d68d66dfd7f"
   },
   "outputs": [
    {
     "data": {
      "text/plain": [
       "998"
      ]
     },
     "execution_count": 19,
     "metadata": {},
     "output_type": "execute_result"
    }
   ],
   "source": [
    "df.Cabin.isnull().sum()"
   ]
  },
  {
   "cell_type": "markdown",
   "metadata": {
    "_cell_guid": "e01cb3d1-31b9-4387-a9fa-fb280d2ac205",
    "_uuid": "ee6bbf62d8c982f8d89f29cd89c11029cfbda479"
   },
   "source": [
    "We started with 1014 passengers without cabin, but at least we completed 16 direct cases."
   ]
  },
  {
   "cell_type": "markdown",
   "metadata": {
    "_cell_guid": "c252cfe8-d5e6-4bcf-810f-2d7971353876",
    "_uuid": "ad7283a79318b5dc50f3b7f83479f8bf20bafe05"
   },
   "source": [
    "## 3.3 Embarked"
   ]
  },
  {
   "cell_type": "markdown",
   "metadata": {
    "_cell_guid": "b61b06fc-1aec-4920-881d-07497be78c25",
    "_uuid": "45d4817a25fbd0f662931a21c7799b108155bcf0"
   },
   "source": [
    "There were 3 ports of embarkation, coded as: C = Cherbourg (France), Q = Queenstown (UK), S = Southampton (UK). Let's see how many passengers embarked in each port."
   ]
  },
  {
   "cell_type": "code",
   "execution_count": 20,
   "metadata": {
    "_cell_guid": "3642bc49-7bfe-4db0-a927-1155101816d9",
    "_uuid": "2bd50cb201e9df12ca88b29e520b013ab2763156"
   },
   "outputs": [
    {
     "data": {
      "text/html": [
       "<div>\n",
       "<style>\n",
       "    .dataframe thead tr:only-child th {\n",
       "        text-align: right;\n",
       "    }\n",
       "\n",
       "    .dataframe thead th {\n",
       "        text-align: left;\n",
       "    }\n",
       "\n",
       "    .dataframe tbody tr th {\n",
       "        vertical-align: top;\n",
       "    }\n",
       "</style>\n",
       "<table border=\"1\" class=\"dataframe\">\n",
       "  <thead>\n",
       "    <tr>\n",
       "      <th></th>\n",
       "      <th>Name</th>\n",
       "      <th>Pclass</th>\n",
       "      <th>Survived</th>\n",
       "    </tr>\n",
       "    <tr>\n",
       "      <th></th>\n",
       "      <th>count</th>\n",
       "      <th>mean</th>\n",
       "      <th>mean</th>\n",
       "    </tr>\n",
       "    <tr>\n",
       "      <th>Embarked</th>\n",
       "      <th></th>\n",
       "      <th></th>\n",
       "      <th></th>\n",
       "    </tr>\n",
       "  </thead>\n",
       "  <tbody>\n",
       "    <tr>\n",
       "      <th>C</th>\n",
       "      <td>270</td>\n",
       "      <td>1.851852</td>\n",
       "      <td>0.553571</td>\n",
       "    </tr>\n",
       "    <tr>\n",
       "      <th>Q</th>\n",
       "      <td>123</td>\n",
       "      <td>2.894309</td>\n",
       "      <td>0.389610</td>\n",
       "    </tr>\n",
       "    <tr>\n",
       "      <th>S</th>\n",
       "      <td>914</td>\n",
       "      <td>2.347921</td>\n",
       "      <td>0.336957</td>\n",
       "    </tr>\n",
       "  </tbody>\n",
       "</table>\n",
       "</div>"
      ],
      "text/plain": [
       "          Name    Pclass  Survived\n",
       "         count      mean      mean\n",
       "Embarked                          \n",
       "C          270  1.851852  0.553571\n",
       "Q          123  2.894309  0.389610\n",
       "S          914  2.347921  0.336957"
      ]
     },
     "execution_count": 20,
     "metadata": {},
     "output_type": "execute_result"
    }
   ],
   "source": [
    "df[['Embarked', 'Survived', 'Name', 'Pclass']].groupby('Embarked').agg(\n",
    "    {'Name': ['count'], 'Pclass': ['mean'], 'Survived': ['mean']})"
   ]
  },
  {
   "cell_type": "markdown",
   "metadata": {
    "_cell_guid": "042e8e2d-b43c-453c-9f52-4c8fc492b1b6",
    "_uuid": "119b582fa0ebf4b82e2a6aa563bf3875b11cfe47"
   },
   "source": [
    "Most people embarked at Southampton (914) but we can notice that people that embarked in the continent (C) have more chances of surviving, perhaps due to a higher Pclass.\n",
    "\n",
    "An easy way to fill in missing values is using \"S\", as it's by far the most common case: this is called imputation. As there is just 2 missing cases, this solution will be enough."
   ]
  },
  {
   "cell_type": "code",
   "execution_count": 21,
   "metadata": {
    "_cell_guid": "dd6bab08-7f18-4bb7-a435-66c3e1b4b0b0",
    "_uuid": "39061cedf9c661b91b892fa18bdb1b328bca7bd6",
    "collapsed": true
   },
   "outputs": [],
   "source": [
    "df['Embarked'].fillna('S', inplace=True)"
   ]
  },
  {
   "cell_type": "markdown",
   "metadata": {
    "_cell_guid": "f5bc135b-1523-44e7-b925-800fd1f76b56",
    "_uuid": "498fa53e1489da3cdfa95cc354c235fa7ff77a36",
    "collapsed": true
   },
   "source": [
    "## 3.4 Fare"
   ]
  },
  {
   "cell_type": "markdown",
   "metadata": {
    "_cell_guid": "6e62fc9b-6856-4ccc-a733-9ed9c1862421",
    "_uuid": "e4af915cbb76eb0269996a2537c56b6dd2367512",
    "collapsed": true
   },
   "source": [
    "As there is only one missing value, so let's explore its case directly:"
   ]
  },
  {
   "cell_type": "code",
   "execution_count": 22,
   "metadata": {
    "_cell_guid": "56ca48d2-ab26-4de4-91d3-86edbba5c0a3",
    "_uuid": "956b57c363ad53e7f567fa10ccc4324815d1c534"
   },
   "outputs": [
    {
     "data": {
      "text/html": [
       "<div>\n",
       "<style>\n",
       "    .dataframe thead tr:only-child th {\n",
       "        text-align: right;\n",
       "    }\n",
       "\n",
       "    .dataframe thead th {\n",
       "        text-align: left;\n",
       "    }\n",
       "\n",
       "    .dataframe tbody tr th {\n",
       "        vertical-align: top;\n",
       "    }\n",
       "</style>\n",
       "<table border=\"1\" class=\"dataframe\">\n",
       "  <thead>\n",
       "    <tr style=\"text-align: right;\">\n",
       "      <th></th>\n",
       "      <th>Age</th>\n",
       "      <th>Cabin</th>\n",
       "      <th>Embarked</th>\n",
       "      <th>Fare</th>\n",
       "      <th>Name</th>\n",
       "      <th>Parch</th>\n",
       "      <th>Pclass</th>\n",
       "      <th>Sex</th>\n",
       "      <th>SibSp</th>\n",
       "      <th>Survived</th>\n",
       "      <th>Ticket</th>\n",
       "      <th>estimated_age</th>\n",
       "      <th>cabin_letter</th>\n",
       "      <th>surname</th>\n",
       "    </tr>\n",
       "    <tr>\n",
       "      <th>PassengerId</th>\n",
       "      <th></th>\n",
       "      <th></th>\n",
       "      <th></th>\n",
       "      <th></th>\n",
       "      <th></th>\n",
       "      <th></th>\n",
       "      <th></th>\n",
       "      <th></th>\n",
       "      <th></th>\n",
       "      <th></th>\n",
       "      <th></th>\n",
       "      <th></th>\n",
       "      <th></th>\n",
       "      <th></th>\n",
       "    </tr>\n",
       "  </thead>\n",
       "  <tbody>\n",
       "    <tr>\n",
       "      <th>1044</th>\n",
       "      <td>60.5</td>\n",
       "      <td>NaN</td>\n",
       "      <td>S</td>\n",
       "      <td>NaN</td>\n",
       "      <td>Storey, Mr. Thomas</td>\n",
       "      <td>0</td>\n",
       "      <td>3</td>\n",
       "      <td>male</td>\n",
       "      <td>0</td>\n",
       "      <td>NaN</td>\n",
       "      <td>3701</td>\n",
       "      <td>1</td>\n",
       "      <td>N</td>\n",
       "      <td>Storey</td>\n",
       "    </tr>\n",
       "  </tbody>\n",
       "</table>\n",
       "</div>"
      ],
      "text/plain": [
       "              Age Cabin Embarked  Fare                Name  Parch  Pclass  \\\n",
       "PassengerId                                                                 \n",
       "1044         60.5   NaN        S   NaN  Storey, Mr. Thomas      0       3   \n",
       "\n",
       "              Sex  SibSp  Survived Ticket  estimated_age cabin_letter surname  \n",
       "PassengerId                                                                    \n",
       "1044         male      0       NaN   3701              1            N  Storey  "
      ]
     },
     "execution_count": 22,
     "metadata": {},
     "output_type": "execute_result"
    }
   ],
   "source": [
    "df[pd.isnull(df.Fare)]"
   ]
  },
  {
   "cell_type": "markdown",
   "metadata": {
    "_cell_guid": "6f7ab4f0-0806-4302-8f41-f375d1feaa28",
    "_uuid": "6d8ccdc91127ab68902c93b66969712903faf104"
   },
   "source": [
    "We can assign a fare given the average fare of similar cases."
   ]
  },
  {
   "cell_type": "code",
   "execution_count": 23,
   "metadata": {
    "_cell_guid": "6d9f5af1-317c-4ed4-a182-4851c93e28c8",
    "_uuid": "b1c35e9bc7981758c28d1930236b79c121224fd2",
    "collapsed": true
   },
   "outputs": [],
   "source": [
    "estimated_fare = df[(df.Embarked=='S') & (df.Pclass==3) & (df.Sex=='male')].Fare.mean()\n",
    "df['Fare'].fillna(estimated_fare, inplace=True)"
   ]
  },
  {
   "cell_type": "markdown",
   "metadata": {
    "_cell_guid": "5d10b97b-db7f-4c47-b9a0-117669a90b3f",
    "_uuid": "9f65d63d325f2e68297df3cb03d0b5ea4a5fcf0d"
   },
   "source": [
    "# 4. Feature detailed analysis and engineering"
   ]
  },
  {
   "cell_type": "markdown",
   "metadata": {
    "_cell_guid": "7c7fa4e9-3fc0-4572-ba05-012853620e35",
    "_uuid": "eb46d2c403f7feaa0e62e964bf8af40751155898"
   },
   "source": [
    "Some quantitative features could be used directly as input of the ML model (expecting there will be some correlation). Other features (categorical and non-classificable ones) will need further process to make them useful.\n",
    "\n",
    "* **Quantitative**, that is, numbers that are easy to work with\n",
    "    * Continuous: Age, Fare\n",
    "    * Discrete: SibSp, Parch\n",
    "\n",
    "\n",
    "* **Categorical**, that represent categories, and will need some processing\n",
    "    * Nominal: Embarked, Sex\n",
    "    * Ordered: Pclass\n",
    "    \n",
    " \n",
    "* **Non classifiable**, that will need some feature engineering to make them useful\n",
    "    * Strings: Cabin, Ticket, Name"
   ]
  },
  {
   "cell_type": "markdown",
   "metadata": {
    "_cell_guid": "476842d2-3d28-4d69-ad4f-a56f73a77a76",
    "_uuid": "ec832c2a0dce23955cd82420592acc8b89e80d97"
   },
   "source": [
    "## 4.1 Quantitative features"
   ]
  },
  {
   "cell_type": "markdown",
   "metadata": {
    "_cell_guid": "b6c79acf-6905-49d9-a6ab-956d2d48c0cb",
    "_uuid": "77214e7b4b6cf140c4975dd94144fb64e71a4cef"
   },
   "source": [
    "### 4.1.1 Age"
   ]
  },
  {
   "cell_type": "markdown",
   "metadata": {
    "_cell_guid": "a06ebc97-1387-4173-afbb-1de0900d3347",
    "_uuid": "ac5b0d5b4b0266453f3ce841b3810bc51e4f0e07"
   },
   "source": [
    "Let's explore now the relation between survived ratio and age, grouping by decades."
   ]
  },
  {
   "cell_type": "code",
   "execution_count": 24,
   "metadata": {
    "_cell_guid": "68e22680-1e8b-4162-bc28-41aa7358b25e",
    "_uuid": "635e090927bcb86d9e39e096624b5054542b22e5"
   },
   "outputs": [
    {
     "data": {
      "text/plain": [
       "<matplotlib.axes._subplots.AxesSubplot at 0x7f01b1dfa470>"
      ]
     },
     "execution_count": 24,
     "metadata": {},
     "output_type": "execute_result"
    },
    {
     "data": {
      "image/png": "[encoded data removed]",
      "text/plain": [
       "<matplotlib.figure.Figure at 0x7f01b1deabe0>"
      ]
     },
     "metadata": {},
     "output_type": "display_data"
    }
   ],
   "source": [
    "grouped_ages = df[['Age','Survived']].groupby(by=lambda index: int(df.loc[index]['Age']/10)).mean()\n",
    "grouped_ages.plot(x='Age', y='Survived')"
   ]
  },
  {
   "cell_type": "code",
   "execution_count": 25,
   "metadata": {
    "_cell_guid": "ead7becd-ddfa-449c-98ef-254b7aac94e3",
    "_uuid": "4aaedb74fb79c0a1b41ce69341e5ca978b5f1408"
   },
   "outputs": [
    {
     "data": {
      "text/html": [
       "<div>\n",
       "<style>\n",
       "    .dataframe thead tr:only-child th {\n",
       "        text-align: right;\n",
       "    }\n",
       "\n",
       "    .dataframe thead th {\n",
       "        text-align: left;\n",
       "    }\n",
       "\n",
       "    .dataframe tbody tr th {\n",
       "        vertical-align: top;\n",
       "    }\n",
       "</style>\n",
       "<table border=\"1\" class=\"dataframe\">\n",
       "  <thead>\n",
       "    <tr style=\"text-align: right;\">\n",
       "      <th></th>\n",
       "      <th>Age</th>\n",
       "      <th>Cabin</th>\n",
       "      <th>Embarked</th>\n",
       "      <th>Fare</th>\n",
       "      <th>Name</th>\n",
       "      <th>Parch</th>\n",
       "      <th>Pclass</th>\n",
       "      <th>Sex</th>\n",
       "      <th>SibSp</th>\n",
       "      <th>Survived</th>\n",
       "      <th>Ticket</th>\n",
       "      <th>estimated_age</th>\n",
       "      <th>cabin_letter</th>\n",
       "      <th>surname</th>\n",
       "    </tr>\n",
       "    <tr>\n",
       "      <th>PassengerId</th>\n",
       "      <th></th>\n",
       "      <th></th>\n",
       "      <th></th>\n",
       "      <th></th>\n",
       "      <th></th>\n",
       "      <th></th>\n",
       "      <th></th>\n",
       "      <th></th>\n",
       "      <th></th>\n",
       "      <th></th>\n",
       "      <th></th>\n",
       "      <th></th>\n",
       "      <th></th>\n",
       "      <th></th>\n",
       "    </tr>\n",
       "  </thead>\n",
       "  <tbody>\n",
       "    <tr>\n",
       "      <th>631</th>\n",
       "      <td>80.0</td>\n",
       "      <td>A23</td>\n",
       "      <td>S</td>\n",
       "      <td>30.0</td>\n",
       "      <td>Barkworth, Mr. Algernon Henry Wilson</td>\n",
       "      <td>0</td>\n",
       "      <td>1</td>\n",
       "      <td>male</td>\n",
       "      <td>0</td>\n",
       "      <td>1.0</td>\n",
       "      <td>27042</td>\n",
       "      <td>0</td>\n",
       "      <td>A</td>\n",
       "      <td>Barkworth</td>\n",
       "    </tr>\n",
       "  </tbody>\n",
       "</table>\n",
       "</div>"
      ],
      "text/plain": [
       "              Age Cabin Embarked  Fare                                  Name  \\\n",
       "PassengerId                                                                    \n",
       "631          80.0   A23        S  30.0  Barkworth, Mr. Algernon Henry Wilson   \n",
       "\n",
       "             Parch  Pclass   Sex  SibSp  Survived Ticket  estimated_age  \\\n",
       "PassengerId                                                               \n",
       "631              0       1  male      0       1.0  27042              0   \n",
       "\n",
       "            cabin_letter    surname  \n",
       "PassengerId                          \n",
       "631                    A  Barkworth  "
      ]
     },
     "execution_count": 25,
     "metadata": {},
     "output_type": "execute_result"
    }
   ],
   "source": [
    "#Why the line goes up in 80 years? An outlier?\n",
    "df[df['Age']>=80]"
   ]
  },
  {
   "cell_type": "markdown",
   "metadata": {
    "_cell_guid": "bc2d2506-bd36-43ac-a042-e8df1ba7d9a2",
    "_uuid": "4dd7b2a9a18d0e928a5b598eb5b7782fe3830b24"
   },
   "source": [
    "In most cases, the older the person the less probability of survival. So it's obvious this feature will be helpful for our ML model.\n",
    "\n",
    "However there is a clear outliner, that we will remove from our dataframe to avoid learning from *a bad case*."
   ]
  },
  {
   "cell_type": "code",
   "execution_count": 26,
   "metadata": {
    "_cell_guid": "fb409c6f-cd9c-410c-a349-939de8154f6c",
    "_uuid": "fe9b1383e94bd698629a60cf7157ba707b360c3a",
    "collapsed": true
   },
   "outputs": [],
   "source": [
    "df = df[df['Age']<80]"
   ]
  },
  {
   "cell_type": "markdown",
   "metadata": {
    "_cell_guid": "a5223aa9-5903-4e1f-b03e-806408148ad1",
    "_uuid": "c59b875108fc6f20eacbb30a0010afbde5dc0ea4"
   },
   "source": [
    "We could use age feature directly, or group by decades; as we don't know which one could be better, let's give both to the ML model.\n",
    "\n",
    "We will save interesting features' names in a variable called _useful_."
   ]
  },
  {
   "cell_type": "code",
   "execution_count": 27,
   "metadata": {
    "_cell_guid": "c8642e84-e32a-4f03-be9a-90734e787371",
    "_uuid": "cacc8f82f2ad584e2b852487490f8a3f616d1caf",
    "collapsed": true
   },
   "outputs": [],
   "source": [
    "df['decade'] = df['Age'].apply(lambda age: int(age/10))\n",
    "\n",
    "# We will save useful features (column names) for later.\n",
    "useful = ['Age', 'decade']"
   ]
  },
  {
   "cell_type": "markdown",
   "metadata": {
    "_cell_guid": "e73fb1e2-9ee9-49bd-bde8-871fdef2095c",
    "_uuid": "bc68c2f0653d263f053580c1afec2da544eb30e4"
   },
   "source": [
    "### 4.1.2 Fare"
   ]
  },
  {
   "cell_type": "markdown",
   "metadata": {
    "_cell_guid": "b531edf9-3983-40a3-86e8-e3f07de25da8",
    "_uuid": "00487a7e0abc35ab57c4aa5d41157341de220e77"
   },
   "source": [
    "The first intuition is to think that cheapest tickets will be related with more deaths, but let's plot it."
   ]
  },
  {
   "cell_type": "code",
   "execution_count": 28,
   "metadata": {
    "_cell_guid": "01d56153-712a-4d74-a13e-d1eda9b4455f",
    "_uuid": "905cace9f09d0fc7374b7df4de346583956439bf"
   },
   "outputs": [
    {
     "data": {
      "text/plain": [
       "<matplotlib.axes._subplots.AxesSubplot at 0x7f01b1ecdc18>"
      ]
     },
     "execution_count": 28,
     "metadata": {},
     "output_type": "execute_result"
    },
    {
     "data": {
      "image/png": "[encoded data removed]",
      "text/plain": [
       "<matplotlib.figure.Figure at 0x7f01b1ded630>"
      ]
     },
     "metadata": {},
     "output_type": "display_data"
    }
   ],
   "source": [
    "# Grouping by 100s\n",
    "fare_grouped = df[['Fare', 'Survived']].groupby(by=lambda i: int(df.loc[i]['Fare']/100)).mean()\n",
    "fare_grouped.plot(x='Fare', y='Survived')"
   ]
  },
  {
   "cell_type": "markdown",
   "metadata": {
    "_cell_guid": "76d652b1-7ccd-4033-9d89-19a37b8782a3",
    "_uuid": "3c0639b423a90d037ba151e41272624446d6cc60"
   },
   "source": [
    "It is clear that cheaper tickets will have less chance of survival. We can use this as input too."
   ]
  },
  {
   "cell_type": "code",
   "execution_count": 29,
   "metadata": {
    "_cell_guid": "ec5dc0bf-7cc7-425c-a452-91dfe73cf07f",
    "_uuid": "bad85e8c87d21b420326d047ca650135742bcfc0",
    "collapsed": true
   },
   "outputs": [],
   "source": [
    "useful.append('Fare')"
   ]
  },
  {
   "cell_type": "markdown",
   "metadata": {
    "_cell_guid": "c9ee39e8-73c4-44fe-b9a4-5598957e3998",
    "_uuid": "8ade359b14a8d85a3836bbeba519c79deeece8cd"
   },
   "source": [
    "### 4.1.3 SibSp (Sibblings + Spouses) and Parch (Parents + children)"
   ]
  },
  {
   "cell_type": "markdown",
   "metadata": {
    "_cell_guid": "f0d78f85-6092-49b0-8446-1d5ad4ab051a",
    "_uuid": "66dbda9ceca47abd530ff87869520bfa4198351d"
   },
   "source": [
    "Will having family of the similar age (sibblings + spouse) help? Let's find out!"
   ]
  },
  {
   "cell_type": "code",
   "execution_count": 30,
   "metadata": {
    "_cell_guid": "2e9bee10-6cc7-4d8c-81f6-1edde997d6d2",
    "_uuid": "55407830ec0667b4fa7540ad109230f44310484b"
   },
   "outputs": [
    {
     "data": {
      "text/plain": [
       "<matplotlib.axes._subplots.AxesSubplot at 0x7f01aea5a7b8>"
      ]
     },
     "execution_count": 30,
     "metadata": {},
     "output_type": "execute_result"
    },
    {
     "data": {
      "image/png": "[encoded data removed]",
      "text/plain": [
       "<matplotlib.figure.Figure at 0x7f01ae9929e8>"
      ]
     },
     "metadata": {},
     "output_type": "display_data"
    }
   ],
   "source": [
    "sibblings_grouped = df[['SibSp', 'Survived']].groupby('SibSp').mean()\n",
    "sibblings_grouped.plot()"
   ]
  },
  {
   "cell_type": "markdown",
   "metadata": {
    "_cell_guid": "e1fdb0b7-e1a1-4bdd-b55c-23094b709901",
    "_uuid": "9fc60e5ea592329962e040aeebd7930c0b336f3f"
   },
   "source": [
    "Being alone or having a big family seems a problem. Let's see the case with parents and children value."
   ]
  },
  {
   "cell_type": "code",
   "execution_count": 31,
   "metadata": {
    "_cell_guid": "ff820390-ce83-4507-a537-86c237c51f5d",
    "_uuid": "fe533f33d3b1b2235e25b895d40fd793e1a065bf"
   },
   "outputs": [
    {
     "data": {
      "text/plain": [
       "<matplotlib.axes._subplots.AxesSubplot at 0x7f01ae8aac50>"
      ]
     },
     "execution_count": 31,
     "metadata": {},
     "output_type": "execute_result"
    },
    {
     "data": {
      "image/png": "[encoded data removed]",
      "text/plain": [
       "<matplotlib.figure.Figure at 0x7f01ae8bb080>"
      ]
     },
     "metadata": {},
     "output_type": "display_data"
    }
   ],
   "source": [
    "generations_grouped = df[['Parch', 'Survived']].groupby('Parch').mean()\n",
    "generations_grouped.plot()"
   ]
  },
  {
   "cell_type": "markdown",
   "metadata": {
    "_cell_guid": "bc632e31-2431-49f8-8d60-0bb5f9ac8ef1",
    "_uuid": "f35e93d248a5020a895bcb8e0844542f070c7d0c"
   },
   "source": [
    "In this case, again being alone or being in a big family is a problem for your survival, but the correlation is not that clear.\n",
    "\n",
    "We could reframe this information with new features: being alone and the size of the family."
   ]
  },
  {
   "cell_type": "code",
   "execution_count": 32,
   "metadata": {
    "_cell_guid": "809c4a89-5c54-4b2c-bf4c-bf80520425ce",
    "_uuid": "5c95ead8e19a1f86351d8ca6961badcf637b1c4d"
   },
   "outputs": [
    {
     "data": {
      "text/plain": [
       "<matplotlib.axes._subplots.AxesSubplot at 0x7f01ae80b908>"
      ]
     },
     "execution_count": 32,
     "metadata": {},
     "output_type": "execute_result"
    },
    {
     "data": {
      "image/png": "[encoded data removed]",
      "text/plain": [
       "<matplotlib.figure.Figure at 0x7f01ae8aaa90>"
      ]
     },
     "metadata": {},
     "output_type": "display_data"
    }
   ],
   "source": [
    "df['family_size'] = df['SibSp'] + df['Parch'] + 1\n",
    "\n",
    "# Let's see if there is a clear limit\n",
    "df[['family_size', 'Survived']].groupby('family_size').mean().plot()"
   ]
  },
  {
   "cell_type": "markdown",
   "metadata": {
    "_cell_guid": "bb9d89fb-31a0-4ac0-8888-0b0ac1516355",
    "_uuid": "2daba4de8d91802cbd8cab3a36f273500bd5deba"
   },
   "source": [
    "Let's create new features for family sizes."
   ]
  },
  {
   "cell_type": "code",
   "execution_count": 33,
   "metadata": {
    "_cell_guid": "a39d635c-41c9-4282-8c98-48573b541019",
    "_uuid": "12b1cbfd03ed16f018b78a468939df409b08eeb9",
    "collapsed": true
   },
   "outputs": [],
   "source": [
    "df['small_family'] = df['family_size'].apply(lambda size: 1 if size<=4 else 0)\n",
    "df['big_family'] = df['family_size'].apply(lambda size: 1 if size>=7 else 0)\n",
    "df['no_family'] = df['family_size'].apply(lambda s: 1 if s==1 else 0)\n",
    "\n",
    "useful.extend(['SibSp', 'Parch', 'family_size', 'small_family', 'big_family', 'no_family'])"
   ]
  },
  {
   "cell_type": "markdown",
   "metadata": {
    "_cell_guid": "6fa401ad-0b07-4358-9846-d1c366cc463a",
    "_uuid": "d477d03b48059479b0d9a1fbb7d50466ad8ef5ba"
   },
   "source": [
    "## 4.2 Categorical features"
   ]
  },
  {
   "cell_type": "markdown",
   "metadata": {
    "_cell_guid": "38d40fb9-cbb0-40e9-a542-8cbee34dc04a",
    "_uuid": "2d325f30245f283737587391ddab4e2df8e6482e"
   },
   "source": [
    "### 4.2.1 Sex"
   ]
  },
  {
   "cell_type": "markdown",
   "metadata": {
    "_cell_guid": "fc339027-50e1-419c-bdd3-c0c680a5cdd6",
    "_uuid": "1078dcb1916429879d7ce299586eee2de00ec98a"
   },
   "source": [
    "Let's see which sex has more chances of surviving."
   ]
  },
  {
   "cell_type": "code",
   "execution_count": 34,
   "metadata": {
    "_cell_guid": "f664171a-74e4-4af0-b806-39c270e019ed",
    "_uuid": "d6a8ef41cefb06dfcc689a96b7f0fac4af617c26"
   },
   "outputs": [
    {
     "data": {
      "text/plain": [
       "<matplotlib.axes._subplots.AxesSubplot at 0x7f01ae7aacc0>"
      ]
     },
     "execution_count": 34,
     "metadata": {},
     "output_type": "execute_result"
    },
    {
     "data": {
      "image/png": "[encoded data removed]",
      "text/plain": [
       "<matplotlib.figure.Figure at 0x7f01ae9df4e0>"
      ]
     },
     "metadata": {},
     "output_type": "display_data"
    }
   ],
   "source": [
    "survived_sex = df[df['Survived']==1]['Sex'].value_counts()\n",
    "survived_sex.name='Survived'\n",
    "dead_sex = df[df['Survived']==0]['Sex'].value_counts()\n",
    "dead_sex.name='Dead'\n",
    "\n",
    "table = pd.DataFrame([survived_sex,dead_sex])\n",
    "\n",
    "table.T.plot(kind='bar', stacked=True, color='gr')"
   ]
  },
  {
   "cell_type": "markdown",
   "metadata": {
    "_cell_guid": "05c2104f-c8be-41fc-a42b-1561eae5acb0",
    "_uuid": "f9535c08d30f70054abb7261c432e3f5969d6b03"
   },
   "source": [
    "It is clear that most females survived, while most men died. Let's encode it as values."
   ]
  },
  {
   "cell_type": "code",
   "execution_count": 35,
   "metadata": {
    "_cell_guid": "5f3060c3-2a93-4830-8c1f-5a505ace0850",
    "_uuid": "22d7a9eb180bbc0a3add465918f4194f380f3dbc",
    "collapsed": true
   },
   "outputs": [],
   "source": [
    "df['male'] = df['Sex'].map({'male': 1, 'female': 0})\n",
    "\n",
    "useful.append('male')"
   ]
  },
  {
   "cell_type": "markdown",
   "metadata": {
    "_cell_guid": "a5223aa9-5903-4e1f-b03e-806408148ad1",
    "_uuid": "c59b875108fc6f20eacbb30a0010afbde5dc0ea4"
   },
   "source": [
    "### 4.2.2 Embarked"
   ]
  },
  {
   "cell_type": "markdown",
   "metadata": {
    "_cell_guid": "93ea0f7b-2fac-42bb-a03e-517f3f04a438",
    "_uuid": "8d9881de52444e22f85275ed5db3aabe044db347"
   },
   "source": [
    "As we have seen while completing the missing values of this feature, there is some relation with the survival chances.\n",
    "\n",
    "Let's see it again, but splitting by Pclass."
   ]
  },
  {
   "cell_type": "code",
   "execution_count": 36,
   "metadata": {
    "_cell_guid": "2f0ee570-7fca-4b86-9cf9-c06696359fe1",
    "_uuid": "4daa6b49050b07d0d494ea568c5f0b52d54c7522"
   },
   "outputs": [
    {
     "data": {
      "text/plain": [
       "<matplotlib.axes._subplots.AxesSubplot at 0x7f01ae675978>"
      ]
     },
     "execution_count": 36,
     "metadata": {},
     "output_type": "execute_result"
    },
    {
     "data": {
      "image/png": "[encoded data removed]",
      "text/plain": [
       "<matplotlib.figure.Figure at 0x7f01b1e41358>"
      ]
     },
     "metadata": {},
     "output_type": "display_data"
    }
   ],
   "source": [
    "embarked_grouped = df[['Embarked', 'Pclass', 'Survived']].groupby(['Embarked','Pclass']).mean()\n",
    "embarked_grouped.plot(kind='barh')"
   ]
  },
  {
   "cell_type": "markdown",
   "metadata": {
    "_cell_guid": "96c531d3-4adc-487b-9001-4e6ed1712a55",
    "_uuid": "23cd6d28108de5dbbee46a68d5628300bd345b8d"
   },
   "source": [
    "It's clear than there is differences, for instance with the second class of people embarked in Q. We need to encode this feature in multiple columns (one-hot encoding), that can be done with pandas get_dummies()."
   ]
  },
  {
   "cell_type": "code",
   "execution_count": 37,
   "metadata": {
    "_cell_guid": "9477d8d1-0fd7-44f3-811e-81ebe8bc2d4d",
    "_uuid": "78b0911cb01d710c22cb3e088cb5675008c0b597"
   },
   "outputs": [
    {
     "data": {
      "text/html": [
       "<div>\n",
       "<style>\n",
       "    .dataframe thead tr:only-child th {\n",
       "        text-align: right;\n",
       "    }\n",
       "\n",
       "    .dataframe thead th {\n",
       "        text-align: left;\n",
       "    }\n",
       "\n",
       "    .dataframe tbody tr th {\n",
       "        vertical-align: top;\n",
       "    }\n",
       "</style>\n",
       "<table border=\"1\" class=\"dataframe\">\n",
       "  <thead>\n",
       "    <tr style=\"text-align: right;\">\n",
       "      <th></th>\n",
       "      <th>Age</th>\n",
       "      <th>Cabin</th>\n",
       "      <th>Embarked</th>\n",
       "      <th>Fare</th>\n",
       "      <th>Name</th>\n",
       "      <th>Parch</th>\n",
       "      <th>Pclass</th>\n",
       "      <th>Sex</th>\n",
       "      <th>SibSp</th>\n",
       "      <th>Survived</th>\n",
       "      <th>...</th>\n",
       "      <th>surname</th>\n",
       "      <th>decade</th>\n",
       "      <th>family_size</th>\n",
       "      <th>small_family</th>\n",
       "      <th>big_family</th>\n",
       "      <th>no_family</th>\n",
       "      <th>male</th>\n",
       "      <th>embarked_C</th>\n",
       "      <th>embarked_Q</th>\n",
       "      <th>embarked_S</th>\n",
       "    </tr>\n",
       "    <tr>\n",
       "      <th>PassengerId</th>\n",
       "      <th></th>\n",
       "      <th></th>\n",
       "      <th></th>\n",
       "      <th></th>\n",
       "      <th></th>\n",
       "      <th></th>\n",
       "      <th></th>\n",
       "      <th></th>\n",
       "      <th></th>\n",
       "      <th></th>\n",
       "      <th></th>\n",
       "      <th></th>\n",
       "      <th></th>\n",
       "      <th></th>\n",
       "      <th></th>\n",
       "      <th></th>\n",
       "      <th></th>\n",
       "      <th></th>\n",
       "      <th></th>\n",
       "      <th></th>\n",
       "      <th></th>\n",
       "    </tr>\n",
       "  </thead>\n",
       "  <tbody>\n",
       "    <tr>\n",
       "      <th>325</th>\n",
       "      <td>25.00</td>\n",
       "      <td>NaN</td>\n",
       "      <td>S</td>\n",
       "      <td>69.5500</td>\n",
       "      <td>Sage, Mr. George John Jr</td>\n",
       "      <td>2</td>\n",
       "      <td>3</td>\n",
       "      <td>male</td>\n",
       "      <td>8</td>\n",
       "      <td>0.0</td>\n",
       "      <td>...</td>\n",
       "      <td>Sage</td>\n",
       "      <td>2</td>\n",
       "      <td>11</td>\n",
       "      <td>0</td>\n",
       "      <td>1</td>\n",
       "      <td>0</td>\n",
       "      <td>1</td>\n",
       "      <td>0</td>\n",
       "      <td>0</td>\n",
       "      <td>1</td>\n",
       "    </tr>\n",
       "    <tr>\n",
       "      <th>139</th>\n",
       "      <td>16.00</td>\n",
       "      <td>NaN</td>\n",
       "      <td>S</td>\n",
       "      <td>9.2167</td>\n",
       "      <td>Osen, Mr. Olaf Elon</td>\n",
       "      <td>0</td>\n",
       "      <td>3</td>\n",
       "      <td>male</td>\n",
       "      <td>0</td>\n",
       "      <td>0.0</td>\n",
       "      <td>...</td>\n",
       "      <td>Osen</td>\n",
       "      <td>1</td>\n",
       "      <td>1</td>\n",
       "      <td>1</td>\n",
       "      <td>0</td>\n",
       "      <td>1</td>\n",
       "      <td>1</td>\n",
       "      <td>0</td>\n",
       "      <td>0</td>\n",
       "      <td>1</td>\n",
       "    </tr>\n",
       "    <tr>\n",
       "      <th>1231</th>\n",
       "      <td>24.25</td>\n",
       "      <td>NaN</td>\n",
       "      <td>C</td>\n",
       "      <td>7.2292</td>\n",
       "      <td>Betros, Master. Seman</td>\n",
       "      <td>0</td>\n",
       "      <td>3</td>\n",
       "      <td>male</td>\n",
       "      <td>0</td>\n",
       "      <td>NaN</td>\n",
       "      <td>...</td>\n",
       "      <td>Betros</td>\n",
       "      <td>2</td>\n",
       "      <td>1</td>\n",
       "      <td>1</td>\n",
       "      <td>0</td>\n",
       "      <td>1</td>\n",
       "      <td>1</td>\n",
       "      <td>1</td>\n",
       "      <td>0</td>\n",
       "      <td>0</td>\n",
       "    </tr>\n",
       "    <tr>\n",
       "      <th>583</th>\n",
       "      <td>54.00</td>\n",
       "      <td>NaN</td>\n",
       "      <td>S</td>\n",
       "      <td>26.0000</td>\n",
       "      <td>Downton, Mr. William James</td>\n",
       "      <td>0</td>\n",
       "      <td>2</td>\n",
       "      <td>male</td>\n",
       "      <td>0</td>\n",
       "      <td>0.0</td>\n",
       "      <td>...</td>\n",
       "      <td>Downton</td>\n",
       "      <td>5</td>\n",
       "      <td>1</td>\n",
       "      <td>1</td>\n",
       "      <td>0</td>\n",
       "      <td>1</td>\n",
       "      <td>1</td>\n",
       "      <td>0</td>\n",
       "      <td>0</td>\n",
       "      <td>1</td>\n",
       "    </tr>\n",
       "    <tr>\n",
       "      <th>952</th>\n",
       "      <td>17.00</td>\n",
       "      <td>NaN</td>\n",
       "      <td>S</td>\n",
       "      <td>7.8958</td>\n",
       "      <td>Dika, Mr. Mirko</td>\n",
       "      <td>0</td>\n",
       "      <td>3</td>\n",
       "      <td>male</td>\n",
       "      <td>0</td>\n",
       "      <td>NaN</td>\n",
       "      <td>...</td>\n",
       "      <td>Dika</td>\n",
       "      <td>1</td>\n",
       "      <td>1</td>\n",
       "      <td>1</td>\n",
       "      <td>0</td>\n",
       "      <td>1</td>\n",
       "      <td>1</td>\n",
       "      <td>0</td>\n",
       "      <td>0</td>\n",
       "      <td>1</td>\n",
       "    </tr>\n",
       "  </tbody>\n",
       "</table>\n",
       "<p>5 rows × 23 columns</p>\n",
       "</div>"
      ],
      "text/plain": [
       "               Age Cabin Embarked     Fare                        Name  Parch  \\\n",
       "PassengerId                                                                     \n",
       "325          25.00   NaN        S  69.5500    Sage, Mr. George John Jr      2   \n",
       "139          16.00   NaN        S   9.2167         Osen, Mr. Olaf Elon      0   \n",
       "1231         24.25   NaN        C   7.2292       Betros, Master. Seman      0   \n",
       "583          54.00   NaN        S  26.0000  Downton, Mr. William James      0   \n",
       "952          17.00   NaN        S   7.8958             Dika, Mr. Mirko      0   \n",
       "\n",
       "             Pclass   Sex  SibSp  Survived     ...      surname  decade  \\\n",
       "PassengerId                                    ...                        \n",
       "325               3  male      8       0.0     ...         Sage       2   \n",
       "139               3  male      0       0.0     ...         Osen       1   \n",
       "1231              3  male      0       NaN     ...       Betros       2   \n",
       "583               2  male      0       0.0     ...      Downton       5   \n",
       "952               3  male      0       NaN     ...         Dika       1   \n",
       "\n",
       "            family_size small_family  big_family  no_family  male  embarked_C  \\\n",
       "PassengerId                                                                     \n",
       "325                  11            0           1          0     1           0   \n",
       "139                   1            1           0          1     1           0   \n",
       "1231                  1            1           0          1     1           1   \n",
       "583                   1            1           0          1     1           0   \n",
       "952                   1            1           0          1     1           0   \n",
       "\n",
       "             embarked_Q  embarked_S  \n",
       "PassengerId                          \n",
       "325                   0           1  \n",
       "139                   0           1  \n",
       "1231                  0           0  \n",
       "583                   0           1  \n",
       "952                   0           1  \n",
       "\n",
       "[5 rows x 23 columns]"
      ]
     },
     "execution_count": 37,
     "metadata": {},
     "output_type": "execute_result"
    }
   ],
   "source": [
    "df = pd.concat([df, pd.get_dummies(df['Embarked'], prefix='embarked')], axis=1)\n",
    "\n",
    "useful.extend(['embarked_{}'.format(x) for x in ['C', 'S', 'Q']])\n",
    "\n",
    "#Let's see how these multiple columns look like\n",
    "df.sample(5)"
   ]
  },
  {
   "cell_type": "markdown",
   "metadata": {
    "_cell_guid": "ee93a90f-feec-43e4-b7e7-d5fd63633522",
    "_uuid": "52fbe30881b0299ff4587a92abca938dfc5a86fd"
   },
   "source": [
    "### 4.2.3 Pclass"
   ]
  },
  {
   "cell_type": "markdown",
   "metadata": {
    "_cell_guid": "3d321696-1f94-4009-9328-4fa7ebb1586c",
    "_uuid": "1ae8cdf329fceaa15e18a5d37553f07301526f36"
   },
   "source": [
    "We have seen several times by now that there is a direct correlation between the class and the chance of survival. As this feature is already a number, we do not need to apply any process."
   ]
  },
  {
   "cell_type": "code",
   "execution_count": 38,
   "metadata": {
    "_cell_guid": "0479a430-cce4-4bff-a9a8-2a1adf51c2a4",
    "_uuid": "abc2ed91d0ba00dbd6ed377cf2ae266b0a6fb98a",
    "collapsed": true
   },
   "outputs": [],
   "source": [
    "useful.append('Pclass')"
   ]
  },
  {
   "cell_type": "markdown",
   "metadata": {
    "_cell_guid": "27f8bf57-e34c-4168-b5b5-b9c90fb44ebb",
    "_uuid": "af8eb95315f71b84d7a99de3d81d379f64f76c70",
    "collapsed": true
   },
   "source": [
    "## 4.3 Feature engineering with non-classifiable "
   ]
  },
  {
   "cell_type": "markdown",
   "metadata": {
    "_cell_guid": "70bfe337-8b9b-46b9-93c6-464bdee9fc2b",
    "_uuid": "cf117bd6386c7900efc8477785a743abb6eaae22"
   },
   "source": [
    "While doing feature completion we have already done some feature engineering that need further process: Cabin_letter (deck) and surname. Let's try out more ideas!"
   ]
  },
  {
   "cell_type": "markdown",
   "metadata": {
    "_cell_guid": "a1a395c9-bf69-4e9e-97e7-97842dd4967f",
    "_uuid": "d9b20c67a5d834ad954e2a0b3f02a75eae59f1ed"
   },
   "source": [
    "### 4.3.1 Cabin_letter"
   ]
  },
  {
   "cell_type": "markdown",
   "metadata": {
    "_cell_guid": "f2736d6c-1860-4e4f-8f1e-81a2b21d9846",
    "_uuid": "11ac73ad0f5d72921f4448f8bcc6c03c8478c123"
   },
   "source": [
    "We just need to encode it in multiple columns."
   ]
  },
  {
   "cell_type": "code",
   "execution_count": 39,
   "metadata": {
    "_cell_guid": "2f6527ca-f4fc-4de5-8f57-93871965710c",
    "_uuid": "6197d3f2b43bcecf38b3e5f7cdbd894189d09caf",
    "collapsed": true
   },
   "outputs": [],
   "source": [
    "df = pd.concat([df, pd.get_dummies(df['cabin_letter'], prefix='deck')], axis=1)\n",
    "\n",
    "letters = df['cabin_letter'].unique()\n",
    "useful.extend(['deck_{}'.format(x) for x in letters])"
   ]
  },
  {
   "cell_type": "markdown",
   "metadata": {
    "_cell_guid": "471ba77a-b1de-4cc9-b8e4-8ad7c3b79f8c",
    "_uuid": "062a6b4e344c2d4ab8ac712deb917170e8239476"
   },
   "source": [
    "### 4.3.2 Ticket"
   ]
  },
  {
   "cell_type": "markdown",
   "metadata": {
    "_cell_guid": "1a2b91bc-1a3c-4ab4-ab4b-b3860f34ad35",
    "_uuid": "9fe57e38a207ddf8dff12ace9e41e2af572c4952"
   },
   "source": [
    "#### 4.3.2.1 Sharing the Ticket"
   ]
  },
  {
   "cell_type": "markdown",
   "metadata": {
    "_cell_guid": "d5f6439a-cf5a-4217-9f45-8cadc68d1dc0",
    "_uuid": "cf2fcf2c48d01aaf04855c83eab3077e7f1c2782"
   },
   "source": [
    "From previous exploration we noticed that a ticket can be shared among several passengers. Let's explore it a bit more."
   ]
  },
  {
   "cell_type": "code",
   "execution_count": 40,
   "metadata": {
    "_cell_guid": "5ed5bc31-ea4e-4216-9a7f-cec4b204a5c7",
    "_uuid": "1d6a7ab2f71b8cdccb58f135516ef1bab082ff9c"
   },
   "outputs": [
    {
     "data": {
      "text/html": [
       "<div>\n",
       "<style>\n",
       "    .dataframe thead tr:only-child th {\n",
       "        text-align: right;\n",
       "    }\n",
       "\n",
       "    .dataframe thead th {\n",
       "        text-align: left;\n",
       "    }\n",
       "\n",
       "    .dataframe tbody tr th {\n",
       "        vertical-align: top;\n",
       "    }\n",
       "</style>\n",
       "<table border=\"1\" class=\"dataframe\">\n",
       "  <thead>\n",
       "    <tr style=\"text-align: right;\">\n",
       "      <th></th>\n",
       "      <th>count</th>\n",
       "    </tr>\n",
       "    <tr>\n",
       "      <th>Ticket</th>\n",
       "      <th></th>\n",
       "    </tr>\n",
       "  </thead>\n",
       "  <tbody>\n",
       "    <tr>\n",
       "      <th>CA. 2343</th>\n",
       "      <td>11</td>\n",
       "    </tr>\n",
       "    <tr>\n",
       "      <th>1601</th>\n",
       "      <td>8</td>\n",
       "    </tr>\n",
       "    <tr>\n",
       "      <th>CA 2144</th>\n",
       "      <td>8</td>\n",
       "    </tr>\n",
       "    <tr>\n",
       "      <th>PC 17608</th>\n",
       "      <td>7</td>\n",
       "    </tr>\n",
       "    <tr>\n",
       "      <th>347077</th>\n",
       "      <td>7</td>\n",
       "    </tr>\n",
       "  </tbody>\n",
       "</table>\n",
       "</div>"
      ],
      "text/plain": [
       "          count\n",
       "Ticket         \n",
       "CA. 2343     11\n",
       "1601          8\n",
       "CA 2144       8\n",
       "PC 17608      7\n",
       "347077        7"
      ]
     },
     "execution_count": 40,
     "metadata": {},
     "output_type": "execute_result"
    }
   ],
   "source": [
    "ticket_count = df[['Ticket', 'Name']].groupby('Ticket').count().rename(columns={'Name':'count'}).sort_values(by='count', ascending=False)\n",
    "ticket_count.head()"
   ]
  },
  {
   "cell_type": "markdown",
   "metadata": {
    "_cell_guid": "7bac2e32-6dde-4830-b93b-6f737adcec81",
    "_uuid": "2596ffe655d7c4a10ced8bd8d8f268f28ab98973"
   },
   "source": [
    "Several people have shared a ticket in some cases, which means that there were groups of friends or colleages that, despite they don't have family relation, we should consider them as a group. Let's verify if with ticket \"CA- 2343\" and  \"1601\"."
   ]
  },
  {
   "cell_type": "code",
   "execution_count": 41,
   "metadata": {
    "_cell_guid": "31c64e5c-d55f-480b-8aa8-54691aa0b4a6",
    "_uuid": "c684234dd0eeb5d3821a5d55e915f347f2de92a2"
   },
   "outputs": [
    {
     "data": {
      "text/html": [
       "<div>\n",
       "<style>\n",
       "    .dataframe thead tr:only-child th {\n",
       "        text-align: right;\n",
       "    }\n",
       "\n",
       "    .dataframe thead th {\n",
       "        text-align: left;\n",
       "    }\n",
       "\n",
       "    .dataframe tbody tr th {\n",
       "        vertical-align: top;\n",
       "    }\n",
       "</style>\n",
       "<table border=\"1\" class=\"dataframe\">\n",
       "  <thead>\n",
       "    <tr style=\"text-align: right;\">\n",
       "      <th></th>\n",
       "      <th>Age</th>\n",
       "      <th>Cabin</th>\n",
       "      <th>Embarked</th>\n",
       "      <th>Fare</th>\n",
       "      <th>Name</th>\n",
       "      <th>Parch</th>\n",
       "      <th>Pclass</th>\n",
       "      <th>Sex</th>\n",
       "      <th>SibSp</th>\n",
       "      <th>Survived</th>\n",
       "      <th>...</th>\n",
       "      <th>embarked_S</th>\n",
       "      <th>deck_A</th>\n",
       "      <th>deck_B</th>\n",
       "      <th>deck_C</th>\n",
       "      <th>deck_D</th>\n",
       "      <th>deck_E</th>\n",
       "      <th>deck_F</th>\n",
       "      <th>deck_G</th>\n",
       "      <th>deck_N</th>\n",
       "      <th>deck_T</th>\n",
       "    </tr>\n",
       "    <tr>\n",
       "      <th>PassengerId</th>\n",
       "      <th></th>\n",
       "      <th></th>\n",
       "      <th></th>\n",
       "      <th></th>\n",
       "      <th></th>\n",
       "      <th></th>\n",
       "      <th></th>\n",
       "      <th></th>\n",
       "      <th></th>\n",
       "      <th></th>\n",
       "      <th></th>\n",
       "      <th></th>\n",
       "      <th></th>\n",
       "      <th></th>\n",
       "      <th></th>\n",
       "      <th></th>\n",
       "      <th></th>\n",
       "      <th></th>\n",
       "      <th></th>\n",
       "      <th></th>\n",
       "      <th></th>\n",
       "    </tr>\n",
       "  </thead>\n",
       "  <tbody>\n",
       "    <tr>\n",
       "      <th>160</th>\n",
       "      <td>25.0</td>\n",
       "      <td>NaN</td>\n",
       "      <td>S</td>\n",
       "      <td>69.55</td>\n",
       "      <td>Sage, Master. Thomas Henry</td>\n",
       "      <td>2</td>\n",
       "      <td>3</td>\n",
       "      <td>male</td>\n",
       "      <td>8</td>\n",
       "      <td>0.0</td>\n",
       "      <td>...</td>\n",
       "      <td>1</td>\n",
       "      <td>0</td>\n",
       "      <td>0</td>\n",
       "      <td>0</td>\n",
       "      <td>0</td>\n",
       "      <td>0</td>\n",
       "      <td>0</td>\n",
       "      <td>0</td>\n",
       "      <td>1</td>\n",
       "      <td>0</td>\n",
       "    </tr>\n",
       "    <tr>\n",
       "      <th>181</th>\n",
       "      <td>22.0</td>\n",
       "      <td>NaN</td>\n",
       "      <td>S</td>\n",
       "      <td>69.55</td>\n",
       "      <td>Sage, Miss. Constance Gladys</td>\n",
       "      <td>2</td>\n",
       "      <td>3</td>\n",
       "      <td>female</td>\n",
       "      <td>8</td>\n",
       "      <td>0.0</td>\n",
       "      <td>...</td>\n",
       "      <td>1</td>\n",
       "      <td>0</td>\n",
       "      <td>0</td>\n",
       "      <td>0</td>\n",
       "      <td>0</td>\n",
       "      <td>0</td>\n",
       "      <td>0</td>\n",
       "      <td>0</td>\n",
       "      <td>1</td>\n",
       "      <td>0</td>\n",
       "    </tr>\n",
       "    <tr>\n",
       "      <th>202</th>\n",
       "      <td>25.0</td>\n",
       "      <td>NaN</td>\n",
       "      <td>S</td>\n",
       "      <td>69.55</td>\n",
       "      <td>Sage, Mr. Frederick</td>\n",
       "      <td>2</td>\n",
       "      <td>3</td>\n",
       "      <td>male</td>\n",
       "      <td>8</td>\n",
       "      <td>0.0</td>\n",
       "      <td>...</td>\n",
       "      <td>1</td>\n",
       "      <td>0</td>\n",
       "      <td>0</td>\n",
       "      <td>0</td>\n",
       "      <td>0</td>\n",
       "      <td>0</td>\n",
       "      <td>0</td>\n",
       "      <td>0</td>\n",
       "      <td>1</td>\n",
       "      <td>0</td>\n",
       "    </tr>\n",
       "    <tr>\n",
       "      <th>325</th>\n",
       "      <td>25.0</td>\n",
       "      <td>NaN</td>\n",
       "      <td>S</td>\n",
       "      <td>69.55</td>\n",
       "      <td>Sage, Mr. George John Jr</td>\n",
       "      <td>2</td>\n",
       "      <td>3</td>\n",
       "      <td>male</td>\n",
       "      <td>8</td>\n",
       "      <td>0.0</td>\n",
       "      <td>...</td>\n",
       "      <td>1</td>\n",
       "      <td>0</td>\n",
       "      <td>0</td>\n",
       "      <td>0</td>\n",
       "      <td>0</td>\n",
       "      <td>0</td>\n",
       "      <td>0</td>\n",
       "      <td>0</td>\n",
       "      <td>1</td>\n",
       "      <td>0</td>\n",
       "    </tr>\n",
       "    <tr>\n",
       "      <th>793</th>\n",
       "      <td>22.0</td>\n",
       "      <td>NaN</td>\n",
       "      <td>S</td>\n",
       "      <td>69.55</td>\n",
       "      <td>Sage, Miss. Stella Anna</td>\n",
       "      <td>2</td>\n",
       "      <td>3</td>\n",
       "      <td>female</td>\n",
       "      <td>8</td>\n",
       "      <td>0.0</td>\n",
       "      <td>...</td>\n",
       "      <td>1</td>\n",
       "      <td>0</td>\n",
       "      <td>0</td>\n",
       "      <td>0</td>\n",
       "      <td>0</td>\n",
       "      <td>0</td>\n",
       "      <td>0</td>\n",
       "      <td>0</td>\n",
       "      <td>1</td>\n",
       "      <td>0</td>\n",
       "    </tr>\n",
       "    <tr>\n",
       "      <th>847</th>\n",
       "      <td>25.0</td>\n",
       "      <td>NaN</td>\n",
       "      <td>S</td>\n",
       "      <td>69.55</td>\n",
       "      <td>Sage, Mr. Douglas Bullen</td>\n",
       "      <td>2</td>\n",
       "      <td>3</td>\n",
       "      <td>male</td>\n",
       "      <td>8</td>\n",
       "      <td>0.0</td>\n",
       "      <td>...</td>\n",
       "      <td>1</td>\n",
       "      <td>0</td>\n",
       "      <td>0</td>\n",
       "      <td>0</td>\n",
       "      <td>0</td>\n",
       "      <td>0</td>\n",
       "      <td>0</td>\n",
       "      <td>0</td>\n",
       "      <td>1</td>\n",
       "      <td>0</td>\n",
       "    </tr>\n",
       "    <tr>\n",
       "      <th>864</th>\n",
       "      <td>22.0</td>\n",
       "      <td>NaN</td>\n",
       "      <td>S</td>\n",
       "      <td>69.55</td>\n",
       "      <td>Sage, Miss. Dorothy Edith \"Dolly\"</td>\n",
       "      <td>2</td>\n",
       "      <td>3</td>\n",
       "      <td>female</td>\n",
       "      <td>8</td>\n",
       "      <td>0.0</td>\n",
       "      <td>...</td>\n",
       "      <td>1</td>\n",
       "      <td>0</td>\n",
       "      <td>0</td>\n",
       "      <td>0</td>\n",
       "      <td>0</td>\n",
       "      <td>0</td>\n",
       "      <td>0</td>\n",
       "      <td>0</td>\n",
       "      <td>1</td>\n",
       "      <td>0</td>\n",
       "    </tr>\n",
       "    <tr>\n",
       "      <th>1080</th>\n",
       "      <td>22.0</td>\n",
       "      <td>NaN</td>\n",
       "      <td>S</td>\n",
       "      <td>69.55</td>\n",
       "      <td>Sage, Miss. Ada</td>\n",
       "      <td>2</td>\n",
       "      <td>3</td>\n",
       "      <td>female</td>\n",
       "      <td>8</td>\n",
       "      <td>NaN</td>\n",
       "      <td>...</td>\n",
       "      <td>1</td>\n",
       "      <td>0</td>\n",
       "      <td>0</td>\n",
       "      <td>0</td>\n",
       "      <td>0</td>\n",
       "      <td>0</td>\n",
       "      <td>0</td>\n",
       "      <td>0</td>\n",
       "      <td>1</td>\n",
       "      <td>0</td>\n",
       "    </tr>\n",
       "    <tr>\n",
       "      <th>1234</th>\n",
       "      <td>25.0</td>\n",
       "      <td>NaN</td>\n",
       "      <td>S</td>\n",
       "      <td>69.55</td>\n",
       "      <td>Sage, Mr. John George</td>\n",
       "      <td>9</td>\n",
       "      <td>3</td>\n",
       "      <td>male</td>\n",
       "      <td>1</td>\n",
       "      <td>NaN</td>\n",
       "      <td>...</td>\n",
       "      <td>1</td>\n",
       "      <td>0</td>\n",
       "      <td>0</td>\n",
       "      <td>0</td>\n",
       "      <td>0</td>\n",
       "      <td>0</td>\n",
       "      <td>0</td>\n",
       "      <td>0</td>\n",
       "      <td>1</td>\n",
       "      <td>0</td>\n",
       "    </tr>\n",
       "    <tr>\n",
       "      <th>1252</th>\n",
       "      <td>14.5</td>\n",
       "      <td>NaN</td>\n",
       "      <td>S</td>\n",
       "      <td>69.55</td>\n",
       "      <td>Sage, Master. William Henry</td>\n",
       "      <td>2</td>\n",
       "      <td>3</td>\n",
       "      <td>male</td>\n",
       "      <td>8</td>\n",
       "      <td>NaN</td>\n",
       "      <td>...</td>\n",
       "      <td>1</td>\n",
       "      <td>0</td>\n",
       "      <td>0</td>\n",
       "      <td>0</td>\n",
       "      <td>0</td>\n",
       "      <td>0</td>\n",
       "      <td>0</td>\n",
       "      <td>0</td>\n",
       "      <td>1</td>\n",
       "      <td>0</td>\n",
       "    </tr>\n",
       "    <tr>\n",
       "      <th>1257</th>\n",
       "      <td>22.0</td>\n",
       "      <td>NaN</td>\n",
       "      <td>S</td>\n",
       "      <td>69.55</td>\n",
       "      <td>Sage, Mrs. John (Annie Bullen)</td>\n",
       "      <td>9</td>\n",
       "      <td>3</td>\n",
       "      <td>female</td>\n",
       "      <td>1</td>\n",
       "      <td>NaN</td>\n",
       "      <td>...</td>\n",
       "      <td>1</td>\n",
       "      <td>0</td>\n",
       "      <td>0</td>\n",
       "      <td>0</td>\n",
       "      <td>0</td>\n",
       "      <td>0</td>\n",
       "      <td>0</td>\n",
       "      <td>0</td>\n",
       "      <td>1</td>\n",
       "      <td>0</td>\n",
       "    </tr>\n",
       "  </tbody>\n",
       "</table>\n",
       "<p>11 rows × 32 columns</p>\n",
       "</div>"
      ],
      "text/plain": [
       "              Age Cabin Embarked   Fare                               Name  \\\n",
       "PassengerId                                                                  \n",
       "160          25.0   NaN        S  69.55         Sage, Master. Thomas Henry   \n",
       "181          22.0   NaN        S  69.55       Sage, Miss. Constance Gladys   \n",
       "202          25.0   NaN        S  69.55                Sage, Mr. Frederick   \n",
       "325          25.0   NaN        S  69.55           Sage, Mr. George John Jr   \n",
       "793          22.0   NaN        S  69.55            Sage, Miss. Stella Anna   \n",
       "847          25.0   NaN        S  69.55           Sage, Mr. Douglas Bullen   \n",
       "864          22.0   NaN        S  69.55  Sage, Miss. Dorothy Edith \"Dolly\"   \n",
       "1080         22.0   NaN        S  69.55                    Sage, Miss. Ada   \n",
       "1234         25.0   NaN        S  69.55              Sage, Mr. John George   \n",
       "1252         14.5   NaN        S  69.55        Sage, Master. William Henry   \n",
       "1257         22.0   NaN        S  69.55     Sage, Mrs. John (Annie Bullen)   \n",
       "\n",
       "             Parch  Pclass     Sex  SibSp  Survived   ...   embarked_S  \\\n",
       "PassengerId                                           ...                \n",
       "160              2       3    male      8       0.0   ...            1   \n",
       "181              2       3  female      8       0.0   ...            1   \n",
       "202              2       3    male      8       0.0   ...            1   \n",
       "325              2       3    male      8       0.0   ...            1   \n",
       "793              2       3  female      8       0.0   ...            1   \n",
       "847              2       3    male      8       0.0   ...            1   \n",
       "864              2       3  female      8       0.0   ...            1   \n",
       "1080             2       3  female      8       NaN   ...            1   \n",
       "1234             9       3    male      1       NaN   ...            1   \n",
       "1252             2       3    male      8       NaN   ...            1   \n",
       "1257             9       3  female      1       NaN   ...            1   \n",
       "\n",
       "             deck_A deck_B deck_C  deck_D  deck_E  deck_F  deck_G  deck_N  \\\n",
       "PassengerId                                                                 \n",
       "160               0      0      0       0       0       0       0       1   \n",
       "181               0      0      0       0       0       0       0       1   \n",
       "202               0      0      0       0       0       0       0       1   \n",
       "325               0      0      0       0       0       0       0       1   \n",
       "793               0      0      0       0       0       0       0       1   \n",
       "847               0      0      0       0       0       0       0       1   \n",
       "864               0      0      0       0       0       0       0       1   \n",
       "1080              0      0      0       0       0       0       0       1   \n",
       "1234              0      0      0       0       0       0       0       1   \n",
       "1252              0      0      0       0       0       0       0       1   \n",
       "1257              0      0      0       0       0       0       0       1   \n",
       "\n",
       "             deck_T  \n",
       "PassengerId          \n",
       "160               0  \n",
       "181               0  \n",
       "202               0  \n",
       "325               0  \n",
       "793               0  \n",
       "847               0  \n",
       "864               0  \n",
       "1080              0  \n",
       "1234              0  \n",
       "1252              0  \n",
       "1257              0  \n",
       "\n",
       "[11 rows x 32 columns]"
      ]
     },
     "execution_count": 41,
     "metadata": {},
     "output_type": "execute_result"
    }
   ],
   "source": [
    "df[df['Ticket']=='CA. 2343']"
   ]
  },
  {
   "cell_type": "code",
   "execution_count": 42,
   "metadata": {
    "_cell_guid": "784e7d10-04dc-4908-9579-b05b2407cdd0",
    "_uuid": "f4154f2e2116c94b85e15220566597dcb216f239"
   },
   "outputs": [
    {
     "data": {
      "text/html": [
       "<div>\n",
       "<style>\n",
       "    .dataframe thead tr:only-child th {\n",
       "        text-align: right;\n",
       "    }\n",
       "\n",
       "    .dataframe thead th {\n",
       "        text-align: left;\n",
       "    }\n",
       "\n",
       "    .dataframe tbody tr th {\n",
       "        vertical-align: top;\n",
       "    }\n",
       "</style>\n",
       "<table border=\"1\" class=\"dataframe\">\n",
       "  <thead>\n",
       "    <tr style=\"text-align: right;\">\n",
       "      <th></th>\n",
       "      <th>Age</th>\n",
       "      <th>Cabin</th>\n",
       "      <th>Embarked</th>\n",
       "      <th>Fare</th>\n",
       "      <th>Name</th>\n",
       "      <th>Parch</th>\n",
       "      <th>Pclass</th>\n",
       "      <th>Sex</th>\n",
       "      <th>SibSp</th>\n",
       "      <th>Survived</th>\n",
       "      <th>...</th>\n",
       "      <th>embarked_S</th>\n",
       "      <th>deck_A</th>\n",
       "      <th>deck_B</th>\n",
       "      <th>deck_C</th>\n",
       "      <th>deck_D</th>\n",
       "      <th>deck_E</th>\n",
       "      <th>deck_F</th>\n",
       "      <th>deck_G</th>\n",
       "      <th>deck_N</th>\n",
       "      <th>deck_T</th>\n",
       "    </tr>\n",
       "    <tr>\n",
       "      <th>PassengerId</th>\n",
       "      <th></th>\n",
       "      <th></th>\n",
       "      <th></th>\n",
       "      <th></th>\n",
       "      <th></th>\n",
       "      <th></th>\n",
       "      <th></th>\n",
       "      <th></th>\n",
       "      <th></th>\n",
       "      <th></th>\n",
       "      <th></th>\n",
       "      <th></th>\n",
       "      <th></th>\n",
       "      <th></th>\n",
       "      <th></th>\n",
       "      <th></th>\n",
       "      <th></th>\n",
       "      <th></th>\n",
       "      <th></th>\n",
       "      <th></th>\n",
       "      <th></th>\n",
       "    </tr>\n",
       "  </thead>\n",
       "  <tbody>\n",
       "    <tr>\n",
       "      <th>75</th>\n",
       "      <td>32.0</td>\n",
       "      <td>NaN</td>\n",
       "      <td>S</td>\n",
       "      <td>56.4958</td>\n",
       "      <td>Bing, Mr. Lee</td>\n",
       "      <td>0</td>\n",
       "      <td>3</td>\n",
       "      <td>male</td>\n",
       "      <td>0</td>\n",
       "      <td>1.0</td>\n",
       "      <td>...</td>\n",
       "      <td>1</td>\n",
       "      <td>0</td>\n",
       "      <td>0</td>\n",
       "      <td>0</td>\n",
       "      <td>0</td>\n",
       "      <td>0</td>\n",
       "      <td>0</td>\n",
       "      <td>0</td>\n",
       "      <td>1</td>\n",
       "      <td>0</td>\n",
       "    </tr>\n",
       "    <tr>\n",
       "      <th>170</th>\n",
       "      <td>28.0</td>\n",
       "      <td>NaN</td>\n",
       "      <td>S</td>\n",
       "      <td>56.4958</td>\n",
       "      <td>Ling, Mr. Lee</td>\n",
       "      <td>0</td>\n",
       "      <td>3</td>\n",
       "      <td>male</td>\n",
       "      <td>0</td>\n",
       "      <td>0.0</td>\n",
       "      <td>...</td>\n",
       "      <td>1</td>\n",
       "      <td>0</td>\n",
       "      <td>0</td>\n",
       "      <td>0</td>\n",
       "      <td>0</td>\n",
       "      <td>0</td>\n",
       "      <td>0</td>\n",
       "      <td>0</td>\n",
       "      <td>1</td>\n",
       "      <td>0</td>\n",
       "    </tr>\n",
       "    <tr>\n",
       "      <th>510</th>\n",
       "      <td>26.0</td>\n",
       "      <td>NaN</td>\n",
       "      <td>S</td>\n",
       "      <td>56.4958</td>\n",
       "      <td>Lang, Mr. Fang</td>\n",
       "      <td>0</td>\n",
       "      <td>3</td>\n",
       "      <td>male</td>\n",
       "      <td>0</td>\n",
       "      <td>1.0</td>\n",
       "      <td>...</td>\n",
       "      <td>1</td>\n",
       "      <td>0</td>\n",
       "      <td>0</td>\n",
       "      <td>0</td>\n",
       "      <td>0</td>\n",
       "      <td>0</td>\n",
       "      <td>0</td>\n",
       "      <td>0</td>\n",
       "      <td>1</td>\n",
       "      <td>0</td>\n",
       "    </tr>\n",
       "    <tr>\n",
       "      <th>644</th>\n",
       "      <td>25.0</td>\n",
       "      <td>NaN</td>\n",
       "      <td>S</td>\n",
       "      <td>56.4958</td>\n",
       "      <td>Foo, Mr. Choong</td>\n",
       "      <td>0</td>\n",
       "      <td>3</td>\n",
       "      <td>male</td>\n",
       "      <td>0</td>\n",
       "      <td>1.0</td>\n",
       "      <td>...</td>\n",
       "      <td>1</td>\n",
       "      <td>0</td>\n",
       "      <td>0</td>\n",
       "      <td>0</td>\n",
       "      <td>0</td>\n",
       "      <td>0</td>\n",
       "      <td>0</td>\n",
       "      <td>0</td>\n",
       "      <td>1</td>\n",
       "      <td>0</td>\n",
       "    </tr>\n",
       "    <tr>\n",
       "      <th>693</th>\n",
       "      <td>25.0</td>\n",
       "      <td>NaN</td>\n",
       "      <td>S</td>\n",
       "      <td>56.4958</td>\n",
       "      <td>Lam, Mr. Ali</td>\n",
       "      <td>0</td>\n",
       "      <td>3</td>\n",
       "      <td>male</td>\n",
       "      <td>0</td>\n",
       "      <td>1.0</td>\n",
       "      <td>...</td>\n",
       "      <td>1</td>\n",
       "      <td>0</td>\n",
       "      <td>0</td>\n",
       "      <td>0</td>\n",
       "      <td>0</td>\n",
       "      <td>0</td>\n",
       "      <td>0</td>\n",
       "      <td>0</td>\n",
       "      <td>1</td>\n",
       "      <td>0</td>\n",
       "    </tr>\n",
       "    <tr>\n",
       "      <th>827</th>\n",
       "      <td>25.0</td>\n",
       "      <td>NaN</td>\n",
       "      <td>S</td>\n",
       "      <td>56.4958</td>\n",
       "      <td>Lam, Mr. Len</td>\n",
       "      <td>0</td>\n",
       "      <td>3</td>\n",
       "      <td>male</td>\n",
       "      <td>0</td>\n",
       "      <td>0.0</td>\n",
       "      <td>...</td>\n",
       "      <td>1</td>\n",
       "      <td>0</td>\n",
       "      <td>0</td>\n",
       "      <td>0</td>\n",
       "      <td>0</td>\n",
       "      <td>0</td>\n",
       "      <td>0</td>\n",
       "      <td>0</td>\n",
       "      <td>1</td>\n",
       "      <td>0</td>\n",
       "    </tr>\n",
       "    <tr>\n",
       "      <th>839</th>\n",
       "      <td>32.0</td>\n",
       "      <td>NaN</td>\n",
       "      <td>S</td>\n",
       "      <td>56.4958</td>\n",
       "      <td>Chip, Mr. Chang</td>\n",
       "      <td>0</td>\n",
       "      <td>3</td>\n",
       "      <td>male</td>\n",
       "      <td>0</td>\n",
       "      <td>1.0</td>\n",
       "      <td>...</td>\n",
       "      <td>1</td>\n",
       "      <td>0</td>\n",
       "      <td>0</td>\n",
       "      <td>0</td>\n",
       "      <td>0</td>\n",
       "      <td>0</td>\n",
       "      <td>0</td>\n",
       "      <td>0</td>\n",
       "      <td>1</td>\n",
       "      <td>0</td>\n",
       "    </tr>\n",
       "    <tr>\n",
       "      <th>931</th>\n",
       "      <td>25.0</td>\n",
       "      <td>NaN</td>\n",
       "      <td>S</td>\n",
       "      <td>56.4958</td>\n",
       "      <td>Hee, Mr. Ling</td>\n",
       "      <td>0</td>\n",
       "      <td>3</td>\n",
       "      <td>male</td>\n",
       "      <td>0</td>\n",
       "      <td>NaN</td>\n",
       "      <td>...</td>\n",
       "      <td>1</td>\n",
       "      <td>0</td>\n",
       "      <td>0</td>\n",
       "      <td>0</td>\n",
       "      <td>0</td>\n",
       "      <td>0</td>\n",
       "      <td>0</td>\n",
       "      <td>0</td>\n",
       "      <td>1</td>\n",
       "      <td>0</td>\n",
       "    </tr>\n",
       "  </tbody>\n",
       "</table>\n",
       "<p>8 rows × 32 columns</p>\n",
       "</div>"
      ],
      "text/plain": [
       "              Age Cabin Embarked     Fare             Name  Parch  Pclass  \\\n",
       "PassengerId                                                                 \n",
       "75           32.0   NaN        S  56.4958    Bing, Mr. Lee      0       3   \n",
       "170          28.0   NaN        S  56.4958    Ling, Mr. Lee      0       3   \n",
       "510          26.0   NaN        S  56.4958   Lang, Mr. Fang      0       3   \n",
       "644          25.0   NaN        S  56.4958  Foo, Mr. Choong      0       3   \n",
       "693          25.0   NaN        S  56.4958     Lam, Mr. Ali      0       3   \n",
       "827          25.0   NaN        S  56.4958     Lam, Mr. Len      0       3   \n",
       "839          32.0   NaN        S  56.4958  Chip, Mr. Chang      0       3   \n",
       "931          25.0   NaN        S  56.4958    Hee, Mr. Ling      0       3   \n",
       "\n",
       "              Sex  SibSp  Survived   ...   embarked_S  deck_A deck_B deck_C  \\\n",
       "PassengerId                          ...                                      \n",
       "75           male      0       1.0   ...            1       0      0      0   \n",
       "170          male      0       0.0   ...            1       0      0      0   \n",
       "510          male      0       1.0   ...            1       0      0      0   \n",
       "644          male      0       1.0   ...            1       0      0      0   \n",
       "693          male      0       1.0   ...            1       0      0      0   \n",
       "827          male      0       0.0   ...            1       0      0      0   \n",
       "839          male      0       1.0   ...            1       0      0      0   \n",
       "931          male      0       NaN   ...            1       0      0      0   \n",
       "\n",
       "             deck_D  deck_E  deck_F  deck_G  deck_N  deck_T  \n",
       "PassengerId                                                  \n",
       "75                0       0       0       0       1       0  \n",
       "170               0       0       0       0       1       0  \n",
       "510               0       0       0       0       1       0  \n",
       "644               0       0       0       0       1       0  \n",
       "693               0       0       0       0       1       0  \n",
       "827               0       0       0       0       1       0  \n",
       "839               0       0       0       0       1       0  \n",
       "931               0       0       0       0       1       0  \n",
       "\n",
       "[8 rows x 32 columns]"
      ]
     },
     "execution_count": 42,
     "metadata": {},
     "output_type": "execute_result"
    }
   ],
   "source": [
    "df[df['Ticket']=='1601']"
   ]
  },
  {
   "cell_type": "markdown",
   "metadata": {
    "_cell_guid": "f93eec99-1057-453f-afb5-12e8b009b0cd",
    "_uuid": "baebf948c23d09f45d8506d88123eda924e04a3b"
   },
   "source": [
    "So our guess can be true. Ticket \"CA. 2343\" owners are from the same family. And ticket '1601' owners are people with similar names' origin, but no family indicators (both Parch and SibSp are zeros).\n",
    "\n",
    "Wait a moment! If the ticket is shared, we should divide the Fare among the people who share the ticket. Let's add this new feature too."
   ]
  },
  {
   "cell_type": "code",
   "execution_count": 43,
   "metadata": {
    "_cell_guid": "6fccc83e-cabe-49e8-990d-e2118533fe8c",
    "_uuid": "b7940a0246d0befa11918e33583204282a786124",
    "collapsed": true
   },
   "outputs": [],
   "source": [
    "df['ticket_owners'] = df['Ticket'].apply(lambda x: ticket_count.loc[x])\n",
    "df['shared_fare'] = df['Fare'] / df['ticket_owners']\n",
    "\n",
    "df['alone'] = df[['ticket_owners','no_family']].apply(lambda row: 1 if row.ticket_owners==1 and row.no_family==1 else 0 , axis=1)\n",
    "\n",
    "useful.extend(['ticket_owners', 'shared_fare', 'alone'])"
   ]
  },
  {
   "cell_type": "markdown",
   "metadata": {
    "_cell_guid": "51603ef5-46f0-407a-b357-8cbd06777ace",
    "_uuid": "294b8574509ddd449335a2a733a78ae88384789f"
   },
   "source": [
    "#### 4.3.2.2 Head of family/friends from Ticket"
   ]
  },
  {
   "cell_type": "markdown",
   "metadata": {
    "_cell_guid": "8514b3b3-e224-49c7-92a4-7cf07a9031ec",
    "_uuid": "c5db8f14ee92c245039f7d4628c796cc9fee6900"
   },
   "source": [
    "If the people sharing the ticket are family or friends, we could guess that the oldest of family's (the head of family) age can be relevant to the rest of the family/friends. Younger head of family could've helped better the rest of the group, for instance."
   ]
  },
  {
   "cell_type": "code",
   "execution_count": 44,
   "metadata": {
    "_cell_guid": "3b742f01-c623-49b3-9e72-369a861b2d6a",
    "_uuid": "402d8315e95eb65ea25112ee5855eb16639b2f11"
   },
   "outputs": [
    {
     "data": {
      "text/plain": [
       "count    1308.000000\n",
       "mean        2.102446\n",
       "std         1.780252\n",
       "min         1.000000\n",
       "25%         1.000000\n",
       "50%         1.000000\n",
       "75%         3.000000\n",
       "max        11.000000\n",
       "Name: ticket_owners, dtype: float64"
      ]
     },
     "execution_count": 44,
     "metadata": {},
     "output_type": "execute_result"
    }
   ],
   "source": [
    "df['ticket_owners'].describe()"
   ]
  },
  {
   "cell_type": "markdown",
   "metadata": {
    "_cell_guid": "66e34960-1429-4342-97a9-fa13b4b5d5a6",
    "_uuid": "c6c1b48c2fa52dd38d8f7e4acdc8251b7c52b0dc"
   },
   "source": [
    "The 50% percentile shows that more than half of passengers traveled without sharing ticket, which is not helping our guess. Let's follow with the calculation anyway."
   ]
  },
  {
   "cell_type": "code",
   "execution_count": 45,
   "metadata": {
    "_cell_guid": "cb398bc3-a04d-4bb5-b20c-6473d3ebc105",
    "_uuid": "851d19591a22f802bb15a7a8507aca9cc2c8c099",
    "collapsed": true
   },
   "outputs": [],
   "source": [
    "older_age = df[['Ticket', 'Age']].groupby('Ticket').max()\n",
    "df['older_relative_age'] = df['Ticket'].apply(lambda ticket: older_age.loc[ticket])\n",
    "\n",
    "useful.extend(['older_relative_age'])"
   ]
  },
  {
   "cell_type": "markdown",
   "metadata": {},
   "source": [
    "#### 4.3.2.3 Type of Ticket"
   ]
  },
  {
   "cell_type": "markdown",
   "metadata": {},
   "source": [
    "It looks like there are different type of tickets: some with letters and numbers, other with just numbers, etc."
   ]
  },
  {
   "cell_type": "code",
   "execution_count": 46,
   "metadata": {},
   "outputs": [
    {
     "data": {
      "text/html": [
       "<div>\n",
       "<style>\n",
       "    .dataframe thead tr:only-child th {\n",
       "        text-align: right;\n",
       "    }\n",
       "\n",
       "    .dataframe thead th {\n",
       "        text-align: left;\n",
       "    }\n",
       "\n",
       "    .dataframe tbody tr th {\n",
       "        vertical-align: top;\n",
       "    }\n",
       "</style>\n",
       "<table border=\"1\" class=\"dataframe\">\n",
       "  <thead>\n",
       "    <tr>\n",
       "      <th></th>\n",
       "      <th colspan=\"3\" halign=\"left\">Survived</th>\n",
       "    </tr>\n",
       "    <tr>\n",
       "      <th></th>\n",
       "      <th>mean</th>\n",
       "      <th>std</th>\n",
       "      <th>count</th>\n",
       "    </tr>\n",
       "    <tr>\n",
       "      <th>ticket_type</th>\n",
       "      <th></th>\n",
       "      <th></th>\n",
       "      <th></th>\n",
       "    </tr>\n",
       "  </thead>\n",
       "  <tbody>\n",
       "    <tr>\n",
       "      <th>len6</th>\n",
       "      <td>0.320482</td>\n",
       "      <td>0.467225</td>\n",
       "      <td>415</td>\n",
       "    </tr>\n",
       "    <tr>\n",
       "      <th>len5</th>\n",
       "      <td>0.615385</td>\n",
       "      <td>0.488386</td>\n",
       "      <td>130</td>\n",
       "    </tr>\n",
       "    <tr>\n",
       "      <th>len4</th>\n",
       "      <td>0.371134</td>\n",
       "      <td>0.485618</td>\n",
       "      <td>97</td>\n",
       "    </tr>\n",
       "    <tr>\n",
       "      <th>PC</th>\n",
       "      <td>0.650000</td>\n",
       "      <td>0.480995</td>\n",
       "      <td>60</td>\n",
       "    </tr>\n",
       "    <tr>\n",
       "      <th>CA</th>\n",
       "      <td>0.341463</td>\n",
       "      <td>0.480091</td>\n",
       "      <td>41</td>\n",
       "    </tr>\n",
       "    <tr>\n",
       "      <th>A</th>\n",
       "      <td>0.071429</td>\n",
       "      <td>0.262265</td>\n",
       "      <td>28</td>\n",
       "    </tr>\n",
       "    <tr>\n",
       "      <th>STONO</th>\n",
       "      <td>0.444444</td>\n",
       "      <td>0.511310</td>\n",
       "      <td>18</td>\n",
       "    </tr>\n",
       "    <tr>\n",
       "      <th>len7</th>\n",
       "      <td>0.250000</td>\n",
       "      <td>0.447214</td>\n",
       "      <td>16</td>\n",
       "    </tr>\n",
       "    <tr>\n",
       "      <th>SOTONOQ</th>\n",
       "      <td>0.133333</td>\n",
       "      <td>0.351866</td>\n",
       "      <td>15</td>\n",
       "    </tr>\n",
       "    <tr>\n",
       "      <th>WC</th>\n",
       "      <td>0.100000</td>\n",
       "      <td>0.316228</td>\n",
       "      <td>10</td>\n",
       "    </tr>\n",
       "    <tr>\n",
       "      <th>SCPARIS</th>\n",
       "      <td>0.428571</td>\n",
       "      <td>0.534522</td>\n",
       "      <td>7</td>\n",
       "    </tr>\n",
       "    <tr>\n",
       "      <th>SOC</th>\n",
       "      <td>0.166667</td>\n",
       "      <td>0.408248</td>\n",
       "      <td>6</td>\n",
       "    </tr>\n",
       "    <tr>\n",
       "      <th>FCC</th>\n",
       "      <td>0.800000</td>\n",
       "      <td>0.447214</td>\n",
       "      <td>5</td>\n",
       "    </tr>\n",
       "    <tr>\n",
       "      <th>C</th>\n",
       "      <td>0.400000</td>\n",
       "      <td>0.547723</td>\n",
       "      <td>5</td>\n",
       "    </tr>\n",
       "    <tr>\n",
       "      <th>LINE</th>\n",
       "      <td>0.250000</td>\n",
       "      <td>0.500000</td>\n",
       "      <td>4</td>\n",
       "    </tr>\n",
       "    <tr>\n",
       "      <th>SCP</th>\n",
       "      <td>0.500000</td>\n",
       "      <td>0.577350</td>\n",
       "      <td>4</td>\n",
       "    </tr>\n",
       "    <tr>\n",
       "      <th>SOPP</th>\n",
       "      <td>0.000000</td>\n",
       "      <td>0.000000</td>\n",
       "      <td>3</td>\n",
       "    </tr>\n",
       "    <tr>\n",
       "      <th>WEP</th>\n",
       "      <td>0.333333</td>\n",
       "      <td>0.577350</td>\n",
       "      <td>3</td>\n",
       "    </tr>\n",
       "    <tr>\n",
       "      <th>PP</th>\n",
       "      <td>0.666667</td>\n",
       "      <td>0.577350</td>\n",
       "      <td>3</td>\n",
       "    </tr>\n",
       "    <tr>\n",
       "      <th>SCAH</th>\n",
       "      <td>0.500000</td>\n",
       "      <td>0.707107</td>\n",
       "      <td>2</td>\n",
       "    </tr>\n",
       "    <tr>\n",
       "      <th>len3</th>\n",
       "      <td>0.000000</td>\n",
       "      <td>0.000000</td>\n",
       "      <td>2</td>\n",
       "    </tr>\n",
       "    <tr>\n",
       "      <th>PPP</th>\n",
       "      <td>0.500000</td>\n",
       "      <td>0.707107</td>\n",
       "      <td>2</td>\n",
       "    </tr>\n",
       "    <tr>\n",
       "      <th>SOTONO</th>\n",
       "      <td>0.000000</td>\n",
       "      <td>0.000000</td>\n",
       "      <td>2</td>\n",
       "    </tr>\n",
       "    <tr>\n",
       "      <th>SWPP</th>\n",
       "      <td>1.000000</td>\n",
       "      <td>0.000000</td>\n",
       "      <td>2</td>\n",
       "    </tr>\n",
       "    <tr>\n",
       "      <th>F</th>\n",
       "      <td>0.000000</td>\n",
       "      <td>NaN</td>\n",
       "      <td>1</td>\n",
       "    </tr>\n",
       "    <tr>\n",
       "      <th>CASOTON</th>\n",
       "      <td>0.000000</td>\n",
       "      <td>NaN</td>\n",
       "      <td>1</td>\n",
       "    </tr>\n",
       "    <tr>\n",
       "      <th>AS</th>\n",
       "      <td>0.000000</td>\n",
       "      <td>NaN</td>\n",
       "      <td>1</td>\n",
       "    </tr>\n",
       "    <tr>\n",
       "      <th>SOP</th>\n",
       "      <td>0.000000</td>\n",
       "      <td>NaN</td>\n",
       "      <td>1</td>\n",
       "    </tr>\n",
       "    <tr>\n",
       "      <th>SP</th>\n",
       "      <td>0.000000</td>\n",
       "      <td>NaN</td>\n",
       "      <td>1</td>\n",
       "    </tr>\n",
       "    <tr>\n",
       "      <th>SCAHB</th>\n",
       "      <td>1.000000</td>\n",
       "      <td>NaN</td>\n",
       "      <td>1</td>\n",
       "    </tr>\n",
       "    <tr>\n",
       "      <th>SCA</th>\n",
       "      <td>0.000000</td>\n",
       "      <td>NaN</td>\n",
       "      <td>1</td>\n",
       "    </tr>\n",
       "    <tr>\n",
       "      <th>SC</th>\n",
       "      <td>1.000000</td>\n",
       "      <td>NaN</td>\n",
       "      <td>1</td>\n",
       "    </tr>\n",
       "    <tr>\n",
       "      <th>FC</th>\n",
       "      <td>0.000000</td>\n",
       "      <td>NaN</td>\n",
       "      <td>1</td>\n",
       "    </tr>\n",
       "    <tr>\n",
       "      <th>SCOW</th>\n",
       "      <td>0.000000</td>\n",
       "      <td>NaN</td>\n",
       "      <td>1</td>\n",
       "    </tr>\n",
       "    <tr>\n",
       "      <th>STONOQ</th>\n",
       "      <td>NaN</td>\n",
       "      <td>NaN</td>\n",
       "      <td>0</td>\n",
       "    </tr>\n",
       "    <tr>\n",
       "      <th>AQ</th>\n",
       "      <td>NaN</td>\n",
       "      <td>NaN</td>\n",
       "      <td>0</td>\n",
       "    </tr>\n",
       "    <tr>\n",
       "      <th>LP</th>\n",
       "      <td>NaN</td>\n",
       "      <td>NaN</td>\n",
       "      <td>0</td>\n",
       "    </tr>\n",
       "  </tbody>\n",
       "</table>\n",
       "</div>"
      ],
      "text/plain": [
       "             Survived                \n",
       "                 mean       std count\n",
       "ticket_type                          \n",
       "len6         0.320482  0.467225   415\n",
       "len5         0.615385  0.488386   130\n",
       "len4         0.371134  0.485618    97\n",
       "PC           0.650000  0.480995    60\n",
       "CA           0.341463  0.480091    41\n",
       "A            0.071429  0.262265    28\n",
       "STONO        0.444444  0.511310    18\n",
       "len7         0.250000  0.447214    16\n",
       "SOTONOQ      0.133333  0.351866    15\n",
       "WC           0.100000  0.316228    10\n",
       "SCPARIS      0.428571  0.534522     7\n",
       "SOC          0.166667  0.408248     6\n",
       "FCC          0.800000  0.447214     5\n",
       "C            0.400000  0.547723     5\n",
       "LINE         0.250000  0.500000     4\n",
       "SCP          0.500000  0.577350     4\n",
       "SOPP         0.000000  0.000000     3\n",
       "WEP          0.333333  0.577350     3\n",
       "PP           0.666667  0.577350     3\n",
       "SCAH         0.500000  0.707107     2\n",
       "len3         0.000000  0.000000     2\n",
       "PPP          0.500000  0.707107     2\n",
       "SOTONO       0.000000  0.000000     2\n",
       "SWPP         1.000000  0.000000     2\n",
       "F            0.000000       NaN     1\n",
       "CASOTON      0.000000       NaN     1\n",
       "AS           0.000000       NaN     1\n",
       "SOP          0.000000       NaN     1\n",
       "SP           0.000000       NaN     1\n",
       "SCAHB        1.000000       NaN     1\n",
       "SCA          0.000000       NaN     1\n",
       "SC           1.000000       NaN     1\n",
       "FC           0.000000       NaN     1\n",
       "SCOW         0.000000       NaN     1\n",
       "STONOQ            NaN       NaN     0\n",
       "AQ                NaN       NaN     0\n",
       "LP                NaN       NaN     0"
      ]
     },
     "execution_count": 46,
     "metadata": {},
     "output_type": "execute_result"
    }
   ],
   "source": [
    "import re\n",
    "\n",
    "\n",
    "def ticket_type(t):\n",
    "    if re.match('^\\d+$', t):\n",
    "        return 'len' + str(len(t))\n",
    "    else:\n",
    "        return re.sub('[^A-Z]', '', t)\n",
    "\n",
    "\n",
    "df['ticket_type'] = df['Ticket'].apply(ticket_type)\n",
    "\n",
    "df[['ticket_type', 'Survived']].groupby(\n",
    "    'ticket_type').agg({'Survived': ['mean', 'std','count']}).sort_values(('Survived','count'), ascending=False)"
   ]
  },
  {
   "cell_type": "markdown",
   "metadata": {},
   "source": [
    "It seems that standard deviation is quite wide in most cases, except in \"A\" type. We could group clear cases with most occurrences but also a short deviation."
   ]
  },
  {
   "cell_type": "code",
   "execution_count": 47,
   "metadata": {},
   "outputs": [
    {
     "data": {
      "text/html": [
       "<div>\n",
       "<style>\n",
       "    .dataframe thead tr:only-child th {\n",
       "        text-align: right;\n",
       "    }\n",
       "\n",
       "    .dataframe thead th {\n",
       "        text-align: left;\n",
       "    }\n",
       "\n",
       "    .dataframe tbody tr th {\n",
       "        vertical-align: top;\n",
       "    }\n",
       "</style>\n",
       "<table border=\"1\" class=\"dataframe\">\n",
       "  <thead>\n",
       "    <tr style=\"text-align: right;\">\n",
       "      <th></th>\n",
       "      <th>Age</th>\n",
       "      <th>Cabin</th>\n",
       "      <th>Embarked</th>\n",
       "      <th>Fare</th>\n",
       "      <th>Name</th>\n",
       "      <th>Parch</th>\n",
       "      <th>Pclass</th>\n",
       "      <th>Sex</th>\n",
       "      <th>SibSp</th>\n",
       "      <th>Survived</th>\n",
       "      <th>...</th>\n",
       "      <th>ticket_owners</th>\n",
       "      <th>shared_fare</th>\n",
       "      <th>alone</th>\n",
       "      <th>older_relative_age</th>\n",
       "      <th>ticket_type</th>\n",
       "      <th>useful_ticket_type</th>\n",
       "      <th>ticket_type_A</th>\n",
       "      <th>ticket_type_SOTONOQ</th>\n",
       "      <th>ticket_type_WC</th>\n",
       "      <th>ticket_type_other</th>\n",
       "    </tr>\n",
       "    <tr>\n",
       "      <th>PassengerId</th>\n",
       "      <th></th>\n",
       "      <th></th>\n",
       "      <th></th>\n",
       "      <th></th>\n",
       "      <th></th>\n",
       "      <th></th>\n",
       "      <th></th>\n",
       "      <th></th>\n",
       "      <th></th>\n",
       "      <th></th>\n",
       "      <th></th>\n",
       "      <th></th>\n",
       "      <th></th>\n",
       "      <th></th>\n",
       "      <th></th>\n",
       "      <th></th>\n",
       "      <th></th>\n",
       "      <th></th>\n",
       "      <th></th>\n",
       "      <th></th>\n",
       "      <th></th>\n",
       "    </tr>\n",
       "  </thead>\n",
       "  <tbody>\n",
       "    <tr>\n",
       "      <th>635</th>\n",
       "      <td>9.0</td>\n",
       "      <td>NaN</td>\n",
       "      <td>S</td>\n",
       "      <td>27.9000</td>\n",
       "      <td>Skoog, Miss. Mabel</td>\n",
       "      <td>2</td>\n",
       "      <td>3</td>\n",
       "      <td>female</td>\n",
       "      <td>3</td>\n",
       "      <td>0.0</td>\n",
       "      <td>...</td>\n",
       "      <td>6</td>\n",
       "      <td>4.650000</td>\n",
       "      <td>0</td>\n",
       "      <td>45.0</td>\n",
       "      <td>len6</td>\n",
       "      <td>other</td>\n",
       "      <td>0</td>\n",
       "      <td>0</td>\n",
       "      <td>0</td>\n",
       "      <td>1</td>\n",
       "    </tr>\n",
       "    <tr>\n",
       "      <th>160</th>\n",
       "      <td>25.0</td>\n",
       "      <td>NaN</td>\n",
       "      <td>S</td>\n",
       "      <td>69.5500</td>\n",
       "      <td>Sage, Master. Thomas Henry</td>\n",
       "      <td>2</td>\n",
       "      <td>3</td>\n",
       "      <td>male</td>\n",
       "      <td>8</td>\n",
       "      <td>0.0</td>\n",
       "      <td>...</td>\n",
       "      <td>11</td>\n",
       "      <td>6.322727</td>\n",
       "      <td>0</td>\n",
       "      <td>25.0</td>\n",
       "      <td>CA</td>\n",
       "      <td>other</td>\n",
       "      <td>0</td>\n",
       "      <td>0</td>\n",
       "      <td>0</td>\n",
       "      <td>1</td>\n",
       "    </tr>\n",
       "    <tr>\n",
       "      <th>442</th>\n",
       "      <td>20.0</td>\n",
       "      <td>NaN</td>\n",
       "      <td>S</td>\n",
       "      <td>9.5000</td>\n",
       "      <td>Hampe, Mr. Leon</td>\n",
       "      <td>0</td>\n",
       "      <td>3</td>\n",
       "      <td>male</td>\n",
       "      <td>0</td>\n",
       "      <td>0.0</td>\n",
       "      <td>...</td>\n",
       "      <td>1</td>\n",
       "      <td>9.500000</td>\n",
       "      <td>1</td>\n",
       "      <td>20.0</td>\n",
       "      <td>len6</td>\n",
       "      <td>other</td>\n",
       "      <td>0</td>\n",
       "      <td>0</td>\n",
       "      <td>0</td>\n",
       "      <td>1</td>\n",
       "    </tr>\n",
       "    <tr>\n",
       "      <th>422</th>\n",
       "      <td>21.0</td>\n",
       "      <td>NaN</td>\n",
       "      <td>Q</td>\n",
       "      <td>7.7333</td>\n",
       "      <td>Charters, Mr. David</td>\n",
       "      <td>0</td>\n",
       "      <td>3</td>\n",
       "      <td>male</td>\n",
       "      <td>0</td>\n",
       "      <td>0.0</td>\n",
       "      <td>...</td>\n",
       "      <td>1</td>\n",
       "      <td>7.733300</td>\n",
       "      <td>1</td>\n",
       "      <td>21.0</td>\n",
       "      <td>A</td>\n",
       "      <td>A</td>\n",
       "      <td>1</td>\n",
       "      <td>0</td>\n",
       "      <td>0</td>\n",
       "      <td>0</td>\n",
       "    </tr>\n",
       "    <tr>\n",
       "      <th>1228</th>\n",
       "      <td>32.0</td>\n",
       "      <td>NaN</td>\n",
       "      <td>S</td>\n",
       "      <td>13.0000</td>\n",
       "      <td>de Brito, Mr. Jose Joaquim</td>\n",
       "      <td>0</td>\n",
       "      <td>2</td>\n",
       "      <td>male</td>\n",
       "      <td>0</td>\n",
       "      <td>NaN</td>\n",
       "      <td>...</td>\n",
       "      <td>1</td>\n",
       "      <td>13.000000</td>\n",
       "      <td>1</td>\n",
       "      <td>32.0</td>\n",
       "      <td>len6</td>\n",
       "      <td>other</td>\n",
       "      <td>0</td>\n",
       "      <td>0</td>\n",
       "      <td>0</td>\n",
       "      <td>1</td>\n",
       "    </tr>\n",
       "    <tr>\n",
       "      <th>798</th>\n",
       "      <td>31.0</td>\n",
       "      <td>NaN</td>\n",
       "      <td>S</td>\n",
       "      <td>8.6833</td>\n",
       "      <td>Osman, Mrs. Mara</td>\n",
       "      <td>0</td>\n",
       "      <td>3</td>\n",
       "      <td>female</td>\n",
       "      <td>0</td>\n",
       "      <td>1.0</td>\n",
       "      <td>...</td>\n",
       "      <td>1</td>\n",
       "      <td>8.683300</td>\n",
       "      <td>1</td>\n",
       "      <td>31.0</td>\n",
       "      <td>len6</td>\n",
       "      <td>other</td>\n",
       "      <td>0</td>\n",
       "      <td>0</td>\n",
       "      <td>0</td>\n",
       "      <td>1</td>\n",
       "    </tr>\n",
       "    <tr>\n",
       "      <th>570</th>\n",
       "      <td>32.0</td>\n",
       "      <td>NaN</td>\n",
       "      <td>S</td>\n",
       "      <td>7.8542</td>\n",
       "      <td>Jonsson, Mr. Carl</td>\n",
       "      <td>0</td>\n",
       "      <td>3</td>\n",
       "      <td>male</td>\n",
       "      <td>0</td>\n",
       "      <td>1.0</td>\n",
       "      <td>...</td>\n",
       "      <td>1</td>\n",
       "      <td>7.854200</td>\n",
       "      <td>1</td>\n",
       "      <td>32.0</td>\n",
       "      <td>len6</td>\n",
       "      <td>other</td>\n",
       "      <td>0</td>\n",
       "      <td>0</td>\n",
       "      <td>0</td>\n",
       "      <td>1</td>\n",
       "    </tr>\n",
       "    <tr>\n",
       "      <th>792</th>\n",
       "      <td>16.0</td>\n",
       "      <td>NaN</td>\n",
       "      <td>S</td>\n",
       "      <td>26.0000</td>\n",
       "      <td>Gaskell, Mr. Alfred</td>\n",
       "      <td>0</td>\n",
       "      <td>2</td>\n",
       "      <td>male</td>\n",
       "      <td>0</td>\n",
       "      <td>0.0</td>\n",
       "      <td>...</td>\n",
       "      <td>2</td>\n",
       "      <td>13.000000</td>\n",
       "      <td>0</td>\n",
       "      <td>35.0</td>\n",
       "      <td>len6</td>\n",
       "      <td>other</td>\n",
       "      <td>0</td>\n",
       "      <td>0</td>\n",
       "      <td>0</td>\n",
       "      <td>1</td>\n",
       "    </tr>\n",
       "    <tr>\n",
       "      <th>686</th>\n",
       "      <td>25.0</td>\n",
       "      <td>NaN</td>\n",
       "      <td>C</td>\n",
       "      <td>41.5792</td>\n",
       "      <td>Laroche, Mr. Joseph Philippe Lemercier</td>\n",
       "      <td>2</td>\n",
       "      <td>2</td>\n",
       "      <td>male</td>\n",
       "      <td>1</td>\n",
       "      <td>0.0</td>\n",
       "      <td>...</td>\n",
       "      <td>4</td>\n",
       "      <td>10.394800</td>\n",
       "      <td>0</td>\n",
       "      <td>25.0</td>\n",
       "      <td>SCP</td>\n",
       "      <td>other</td>\n",
       "      <td>0</td>\n",
       "      <td>0</td>\n",
       "      <td>0</td>\n",
       "      <td>1</td>\n",
       "    </tr>\n",
       "    <tr>\n",
       "      <th>419</th>\n",
       "      <td>30.0</td>\n",
       "      <td>NaN</td>\n",
       "      <td>S</td>\n",
       "      <td>13.0000</td>\n",
       "      <td>Matthews, Mr. William John</td>\n",
       "      <td>0</td>\n",
       "      <td>2</td>\n",
       "      <td>male</td>\n",
       "      <td>0</td>\n",
       "      <td>0.0</td>\n",
       "      <td>...</td>\n",
       "      <td>1</td>\n",
       "      <td>13.000000</td>\n",
       "      <td>1</td>\n",
       "      <td>30.0</td>\n",
       "      <td>len5</td>\n",
       "      <td>other</td>\n",
       "      <td>0</td>\n",
       "      <td>0</td>\n",
       "      <td>0</td>\n",
       "      <td>1</td>\n",
       "    </tr>\n",
       "  </tbody>\n",
       "</table>\n",
       "<p>10 rows × 42 columns</p>\n",
       "</div>"
      ],
      "text/plain": [
       "              Age Cabin Embarked     Fare  \\\n",
       "PassengerId                                 \n",
       "635           9.0   NaN        S  27.9000   \n",
       "160          25.0   NaN        S  69.5500   \n",
       "442          20.0   NaN        S   9.5000   \n",
       "422          21.0   NaN        Q   7.7333   \n",
       "1228         32.0   NaN        S  13.0000   \n",
       "798          31.0   NaN        S   8.6833   \n",
       "570          32.0   NaN        S   7.8542   \n",
       "792          16.0   NaN        S  26.0000   \n",
       "686          25.0   NaN        C  41.5792   \n",
       "419          30.0   NaN        S  13.0000   \n",
       "\n",
       "                                               Name  Parch  Pclass     Sex  \\\n",
       "PassengerId                                                                  \n",
       "635                              Skoog, Miss. Mabel      2       3  female   \n",
       "160                      Sage, Master. Thomas Henry      2       3    male   \n",
       "442                                 Hampe, Mr. Leon      0       3    male   \n",
       "422                             Charters, Mr. David      0       3    male   \n",
       "1228                     de Brito, Mr. Jose Joaquim      0       2    male   \n",
       "798                                Osman, Mrs. Mara      0       3  female   \n",
       "570                               Jonsson, Mr. Carl      0       3    male   \n",
       "792                             Gaskell, Mr. Alfred      0       2    male   \n",
       "686          Laroche, Mr. Joseph Philippe Lemercier      2       2    male   \n",
       "419                      Matthews, Mr. William John      0       2    male   \n",
       "\n",
       "             SibSp  Survived        ...         ticket_owners  shared_fare  \\\n",
       "PassengerId                         ...                                      \n",
       "635              3       0.0        ...                     6     4.650000   \n",
       "160              8       0.0        ...                    11     6.322727   \n",
       "442              0       0.0        ...                     1     9.500000   \n",
       "422              0       0.0        ...                     1     7.733300   \n",
       "1228             0       NaN        ...                     1    13.000000   \n",
       "798              0       1.0        ...                     1     8.683300   \n",
       "570              0       1.0        ...                     1     7.854200   \n",
       "792              0       0.0        ...                     2    13.000000   \n",
       "686              1       0.0        ...                     4    10.394800   \n",
       "419              0       0.0        ...                     1    13.000000   \n",
       "\n",
       "            alone older_relative_age  ticket_type  useful_ticket_type  \\\n",
       "PassengerId                                                             \n",
       "635             0               45.0         len6               other   \n",
       "160             0               25.0           CA               other   \n",
       "442             1               20.0         len6               other   \n",
       "422             1               21.0            A                   A   \n",
       "1228            1               32.0         len6               other   \n",
       "798             1               31.0         len6               other   \n",
       "570             1               32.0         len6               other   \n",
       "792             0               35.0         len6               other   \n",
       "686             0               25.0          SCP               other   \n",
       "419             1               30.0         len5               other   \n",
       "\n",
       "             ticket_type_A  ticket_type_SOTONOQ  ticket_type_WC  \\\n",
       "PassengerId                                                       \n",
       "635                      0                    0               0   \n",
       "160                      0                    0               0   \n",
       "442                      0                    0               0   \n",
       "422                      1                    0               0   \n",
       "1228                     0                    0               0   \n",
       "798                      0                    0               0   \n",
       "570                      0                    0               0   \n",
       "792                      0                    0               0   \n",
       "686                      0                    0               0   \n",
       "419                      0                    0               0   \n",
       "\n",
       "             ticket_type_other  \n",
       "PassengerId                     \n",
       "635                          1  \n",
       "160                          1  \n",
       "442                          1  \n",
       "422                          0  \n",
       "1228                         1  \n",
       "798                          1  \n",
       "570                          1  \n",
       "792                          1  \n",
       "686                          1  \n",
       "419                          1  \n",
       "\n",
       "[10 rows x 42 columns]"
      ]
     },
     "execution_count": 47,
     "metadata": {},
     "output_type": "execute_result"
    }
   ],
   "source": [
    "def useful_ticket_type(ticket_type):\n",
    "    useful_types = ['A', 'SOTONOQ', 'WC']\n",
    "    if ticket_type in useful_types:\n",
    "        return ticket_type\n",
    "    else:\n",
    "        return 'other'\n",
    "\n",
    "\n",
    "df['useful_ticket_type'] = df['ticket_type'].apply(useful_ticket_type)\n",
    "\n",
    "df = pd.concat(\n",
    "    [df, pd.get_dummies(df['useful_ticket_type'], prefix='ticket_type')], axis=1)\n",
    "\n",
    "letters = df['useful_ticket_type'].unique()\n",
    "useful.extend(['ticket_type_{}'.format(x) for x in letters])\n",
    "\n",
    "df.sample(10)"
   ]
  },
  {
   "cell_type": "markdown",
   "metadata": {
    "_cell_guid": "119ee46b-400b-4379-88b9-d2c291da4985",
    "_uuid": "e58f8f64ce984fdcc223fa2a5c29217e633f1f7c"
   },
   "source": [
    "### 4.3.3 Name"
   ]
  },
  {
   "cell_type": "markdown",
   "metadata": {
    "_cell_guid": "6d947b32-e624-47ba-8ef2-233ecc302266",
    "_uuid": "f703b65a1fae02876e899cf1fe675ecd431d92ec"
   },
   "source": [
    "A trivial feature could be the length of the name. Longer names tend to be from the royalty."
   ]
  },
  {
   "cell_type": "code",
   "execution_count": 48,
   "metadata": {
    "_cell_guid": "4a3fc4a3-a39c-42e0-a946-d08396f1f311",
    "_uuid": "6100dd625ef104f10f2db950655cd2efecdecc92"
   },
   "outputs": [
    {
     "data": {
      "text/plain": [
       "<matplotlib.axes._subplots.AxesSubplot at 0x7f01ae582c50>"
      ]
     },
     "execution_count": 48,
     "metadata": {},
     "output_type": "execute_result"
    },
    {
     "data": {
      "image/png": "[encoded data removed]",
      "text/plain": [
       "<matplotlib.figure.Figure at 0x7f01b1e41cf8>"
      ]
     },
     "metadata": {},
     "output_type": "display_data"
    }
   ],
   "source": [
    "df['name_length'] = df.Name.apply(len)\n",
    "df[['name_length', 'Survived']].groupby('name_length').mean().plot()"
   ]
  },
  {
   "cell_type": "markdown",
   "metadata": {
    "_cell_guid": "fd917547-2749-42a4-812d-4d18f1c501b5",
    "_uuid": "962f2a699a048a53ddbf82c64b30752a7360e293"
   },
   "source": [
    "There is a subtle correlation up to 35 chars, then a chaos up to 58 chars, and then everybody with really long names survived. Let's group this in 3 cases."
   ]
  },
  {
   "cell_type": "code",
   "execution_count": 49,
   "metadata": {
    "_cell_guid": "a0425326-bae4-4087-9653-af711f5a9f7c",
    "_uuid": "7dd2dfd1e9a4414a48136558d3eac365e0dce9d2",
    "collapsed": true
   },
   "outputs": [],
   "source": [
    "df['name_length_short'] = df['name_length'].apply(lambda s: 1 if s <= 35 else 0)\n",
    "df['name_length_mid'] = df['name_length'].apply(lambda s: 1 if 35 < s <=58 else 0)\n",
    "df['name_length_long'] = df['name_length'].apply(lambda s: 1 if s > 58 else 0)\n",
    "\n",
    "useful.extend(['name_length', 'name_length_short', 'name_length_mid', 'name_length_long'])"
   ]
  },
  {
   "cell_type": "markdown",
   "metadata": {
    "_cell_guid": "60138bac-7211-45b8-847b-329cff68fdee",
    "_uuid": "0b7ed46d2c6d4b0adc5dd307cf699dd0a6fe41b4"
   },
   "source": [
    "#### 4.3.3.1 Language from Name"
   ]
  },
  {
   "cell_type": "markdown",
   "metadata": {
    "_cell_guid": "f391fdbe-6de5-42b7-b0d4-4d3821aa0c0c",
    "_uuid": "711c6b9a53c03ed982d0699555adcf5c1cba529e"
   },
   "source": [
    "As Name field is text, we could try to get the language using _langid_ library. Perhaps people who spoke other languages except English had more problems to understand emergency directions."
   ]
  },
  {
   "cell_type": "code",
   "execution_count": 50,
   "metadata": {
    "_cell_guid": "d6041105-1532-48ed-bc27-9dce07b914d5",
    "_uuid": "adfc2842acf196bfd968535d11a4c396bd6e1ed7"
   },
   "outputs": [
    {
     "data": {
      "text/html": [
       "<div>\n",
       "<style>\n",
       "    .dataframe thead tr:only-child th {\n",
       "        text-align: right;\n",
       "    }\n",
       "\n",
       "    .dataframe thead th {\n",
       "        text-align: left;\n",
       "    }\n",
       "\n",
       "    .dataframe tbody tr th {\n",
       "        vertical-align: top;\n",
       "    }\n",
       "</style>\n",
       "<table border=\"1\" class=\"dataframe\">\n",
       "  <thead>\n",
       "    <tr style=\"text-align: right;\">\n",
       "      <th></th>\n",
       "      <th>Name</th>\n",
       "      <th>lang</th>\n",
       "    </tr>\n",
       "    <tr>\n",
       "      <th>PassengerId</th>\n",
       "      <th></th>\n",
       "      <th></th>\n",
       "    </tr>\n",
       "  </thead>\n",
       "  <tbody>\n",
       "    <tr>\n",
       "      <th>88</th>\n",
       "      <td>Slocovski, Mr. Selman Francis</td>\n",
       "      <td>en</td>\n",
       "    </tr>\n",
       "    <tr>\n",
       "      <th>928</th>\n",
       "      <td>Roth, Miss. Sarah A</td>\n",
       "      <td>id</td>\n",
       "    </tr>\n",
       "    <tr>\n",
       "      <th>339</th>\n",
       "      <td>Dahl, Mr. Karl Edwart</td>\n",
       "      <td>de</td>\n",
       "    </tr>\n",
       "    <tr>\n",
       "      <th>864</th>\n",
       "      <td>Sage, Miss. Dorothy Edith \"Dolly\"</td>\n",
       "      <td>en</td>\n",
       "    </tr>\n",
       "    <tr>\n",
       "      <th>647</th>\n",
       "      <td>Cor, Mr. Liudevit</td>\n",
       "      <td>en</td>\n",
       "    </tr>\n",
       "    <tr>\n",
       "      <th>927</th>\n",
       "      <td>Katavelas, Mr. Vassilios (Catavelas Vassilios\")\"</td>\n",
       "      <td>lt</td>\n",
       "    </tr>\n",
       "    <tr>\n",
       "      <th>548</th>\n",
       "      <td>Padro y Manent, Mr. Julian</td>\n",
       "      <td>es</td>\n",
       "    </tr>\n",
       "    <tr>\n",
       "      <th>31</th>\n",
       "      <td>Uruchurtu, Don. Manuel E</td>\n",
       "      <td>en</td>\n",
       "    </tr>\n",
       "    <tr>\n",
       "      <th>1246</th>\n",
       "      <td>Dean, Miss. Elizabeth Gladys Millvina\"\"</td>\n",
       "      <td>es</td>\n",
       "    </tr>\n",
       "    <tr>\n",
       "      <th>513</th>\n",
       "      <td>McGough, Mr. James Robert</td>\n",
       "      <td>en</td>\n",
       "    </tr>\n",
       "  </tbody>\n",
       "</table>\n",
       "</div>"
      ],
      "text/plain": [
       "                                                         Name lang\n",
       "PassengerId                                                       \n",
       "88                              Slocovski, Mr. Selman Francis   en\n",
       "928                                       Roth, Miss. Sarah A   id\n",
       "339                                     Dahl, Mr. Karl Edwart   de\n",
       "864                         Sage, Miss. Dorothy Edith \"Dolly\"   en\n",
       "647                                         Cor, Mr. Liudevit   en\n",
       "927          Katavelas, Mr. Vassilios (Catavelas Vassilios\")\"   lt\n",
       "548                                Padro y Manent, Mr. Julian   es\n",
       "31                                   Uruchurtu, Don. Manuel E   en\n",
       "1246                  Dean, Miss. Elizabeth Gladys Millvina\"\"   es\n",
       "513                                 McGough, Mr. James Robert   en"
      ]
     },
     "execution_count": 50,
     "metadata": {},
     "output_type": "execute_result"
    }
   ],
   "source": [
    "import langid\n",
    "\n",
    "df['lang'] = df['Name'].apply(lambda n: langid.classify(n)[0])\n",
    "df[['Name','lang']].sample(10)"
   ]
  },
  {
   "cell_type": "markdown",
   "metadata": {
    "_cell_guid": "23c86e99-8a72-4231-8b0d-b6587b565ba1",
    "_uuid": "cf7573e325b1fdb012800892d7513a7b11e72761"
   },
   "source": [
    "Despite _langid_ did not a perfect job with just a few words to work with, we can get an idea about the language that each passenger could have used.\n",
    "\n",
    "Let's explore the most common languages."
   ]
  },
  {
   "cell_type": "code",
   "execution_count": 51,
   "metadata": {
    "_cell_guid": "492a25d8-07be-4502-99a8-f4456a84cbd1",
    "_uuid": "8e76461b15c5ab53681ed6c92b600216daf874aa"
   },
   "outputs": [
    {
     "data": {
      "text/html": [
       "<div>\n",
       "<style>\n",
       "    .dataframe thead tr:only-child th {\n",
       "        text-align: right;\n",
       "    }\n",
       "\n",
       "    .dataframe thead th {\n",
       "        text-align: left;\n",
       "    }\n",
       "\n",
       "    .dataframe tbody tr th {\n",
       "        vertical-align: top;\n",
       "    }\n",
       "</style>\n",
       "<table border=\"1\" class=\"dataframe\">\n",
       "  <thead>\n",
       "    <tr style=\"text-align: right;\">\n",
       "      <th></th>\n",
       "      <th>count</th>\n",
       "      <th>Pclass</th>\n",
       "      <th>Survived</th>\n",
       "    </tr>\n",
       "    <tr>\n",
       "      <th>lang</th>\n",
       "      <th></th>\n",
       "      <th></th>\n",
       "      <th></th>\n",
       "    </tr>\n",
       "  </thead>\n",
       "  <tbody>\n",
       "    <tr>\n",
       "      <th>en</th>\n",
       "      <td>590</td>\n",
       "      <td>2.264407</td>\n",
       "      <td>0.379845</td>\n",
       "    </tr>\n",
       "    <tr>\n",
       "      <th>de</th>\n",
       "      <td>207</td>\n",
       "      <td>2.207729</td>\n",
       "      <td>0.392857</td>\n",
       "    </tr>\n",
       "    <tr>\n",
       "      <th>fr</th>\n",
       "      <td>71</td>\n",
       "      <td>2.014085</td>\n",
       "      <td>0.440000</td>\n",
       "    </tr>\n",
       "    <tr>\n",
       "      <th>es</th>\n",
       "      <td>62</td>\n",
       "      <td>2.193548</td>\n",
       "      <td>0.512195</td>\n",
       "    </tr>\n",
       "    <tr>\n",
       "      <th>et</th>\n",
       "      <td>43</td>\n",
       "      <td>2.813953</td>\n",
       "      <td>0.178571</td>\n",
       "    </tr>\n",
       "    <tr>\n",
       "      <th>it</th>\n",
       "      <td>40</td>\n",
       "      <td>2.450000</td>\n",
       "      <td>0.400000</td>\n",
       "    </tr>\n",
       "    <tr>\n",
       "      <th>da</th>\n",
       "      <td>35</td>\n",
       "      <td>2.285714</td>\n",
       "      <td>0.375000</td>\n",
       "    </tr>\n",
       "    <tr>\n",
       "      <th>sv</th>\n",
       "      <td>30</td>\n",
       "      <td>2.433333</td>\n",
       "      <td>0.500000</td>\n",
       "    </tr>\n",
       "    <tr>\n",
       "      <th>fi</th>\n",
       "      <td>28</td>\n",
       "      <td>2.642857</td>\n",
       "      <td>0.454545</td>\n",
       "    </tr>\n",
       "    <tr>\n",
       "      <th>pl</th>\n",
       "      <td>27</td>\n",
       "      <td>2.592593</td>\n",
       "      <td>0.250000</td>\n",
       "    </tr>\n",
       "    <tr>\n",
       "      <th>mt</th>\n",
       "      <td>23</td>\n",
       "      <td>1.695652</td>\n",
       "      <td>0.444444</td>\n",
       "    </tr>\n",
       "    <tr>\n",
       "      <th>nl</th>\n",
       "      <td>19</td>\n",
       "      <td>2.526316</td>\n",
       "      <td>0.312500</td>\n",
       "    </tr>\n",
       "    <tr>\n",
       "      <th>no</th>\n",
       "      <td>16</td>\n",
       "      <td>2.375000</td>\n",
       "      <td>0.250000</td>\n",
       "    </tr>\n",
       "    <tr>\n",
       "      <th>lt</th>\n",
       "      <td>15</td>\n",
       "      <td>2.466667</td>\n",
       "      <td>0.375000</td>\n",
       "    </tr>\n",
       "    <tr>\n",
       "      <th>id</th>\n",
       "      <td>11</td>\n",
       "      <td>2.909091</td>\n",
       "      <td>0.555556</td>\n",
       "    </tr>\n",
       "  </tbody>\n",
       "</table>\n",
       "</div>"
      ],
      "text/plain": [
       "      count    Pclass  Survived\n",
       "lang                           \n",
       "en      590  2.264407  0.379845\n",
       "de      207  2.207729  0.392857\n",
       "fr       71  2.014085  0.440000\n",
       "es       62  2.193548  0.512195\n",
       "et       43  2.813953  0.178571\n",
       "it       40  2.450000  0.400000\n",
       "da       35  2.285714  0.375000\n",
       "sv       30  2.433333  0.500000\n",
       "fi       28  2.642857  0.454545\n",
       "pl       27  2.592593  0.250000\n",
       "mt       23  1.695652  0.444444\n",
       "nl       19  2.526316  0.312500\n",
       "no       16  2.375000  0.250000\n",
       "lt       15  2.466667  0.375000\n",
       "id       11  2.909091  0.555556"
      ]
     },
     "execution_count": 51,
     "metadata": {},
     "output_type": "execute_result"
    }
   ],
   "source": [
    "lang_count = df[['lang','Name']].groupby('lang').count().rename(columns={'Name':'count'})\n",
    "lang_class = df[['lang','Pclass']].groupby('lang').mean()\n",
    "lang_survived = df[['lang','Survived']].groupby('lang').mean()\n",
    "pd.concat([lang_count, lang_class, lang_survived], axis=1).sort_values(by='count', ascending=False).head(15)"
   ]
  },
  {
   "cell_type": "markdown",
   "metadata": {
    "_cell_guid": "26477460-105f-4ac4-9e5c-a2e8d73db21b",
    "_uuid": "e9f845ec1f2b56e2d308403a867d37ed6831bda1"
   },
   "source": [
    "English(en) and German(de) are the most common cases, with a survived ratio around 38%. Then we have languages that come from latin: French(fr), Spanish(es) and Italian(it) with a better ratio, around 40~50%, surprisingly. Moreover, looking at the mean Pclass, both groups have similar social status.\n",
    "\n",
    "Funny enough, there are several cases labelled as Estonian(et), which could be an effect of _langid_ with short strings, but with a really bad survived ratio.\n",
    "\n",
    "We may want to make groups, just to help the ML model. We will add some African and Asian languages as groups too, expecting ."
   ]
  },
  {
   "cell_type": "code",
   "execution_count": 52,
   "metadata": {
    "_cell_guid": "ca39ce86-2aca-4c8f-92e5-363680e81754",
    "_uuid": "ef391e9c2754afae14d9dd4c798ac12e9ee0d605"
   },
   "outputs": [
    {
     "data": {
      "text/html": [
       "<div>\n",
       "<style>\n",
       "    .dataframe thead tr:only-child th {\n",
       "        text-align: right;\n",
       "    }\n",
       "\n",
       "    .dataframe thead th {\n",
       "        text-align: left;\n",
       "    }\n",
       "\n",
       "    .dataframe tbody tr th {\n",
       "        vertical-align: top;\n",
       "    }\n",
       "</style>\n",
       "<table border=\"1\" class=\"dataframe\">\n",
       "  <thead>\n",
       "    <tr style=\"text-align: right;\">\n",
       "      <th></th>\n",
       "      <th>Survived</th>\n",
       "      <th>std</th>\n",
       "    </tr>\n",
       "    <tr>\n",
       "      <th>lang_group</th>\n",
       "      <th></th>\n",
       "      <th></th>\n",
       "    </tr>\n",
       "  </thead>\n",
       "  <tbody>\n",
       "    <tr>\n",
       "      <th>african</th>\n",
       "      <td>0.750000</td>\n",
       "      <td>0.500000</td>\n",
       "    </tr>\n",
       "    <tr>\n",
       "      <th>asian</th>\n",
       "      <td>0.416667</td>\n",
       "      <td>0.514929</td>\n",
       "    </tr>\n",
       "    <tr>\n",
       "      <th>germanic</th>\n",
       "      <td>0.383333</td>\n",
       "      <td>0.487555</td>\n",
       "    </tr>\n",
       "    <tr>\n",
       "      <th>latin</th>\n",
       "      <td>0.433824</td>\n",
       "      <td>0.497434</td>\n",
       "    </tr>\n",
       "    <tr>\n",
       "      <th>other</th>\n",
       "      <td>0.335329</td>\n",
       "      <td>0.473525</td>\n",
       "    </tr>\n",
       "    <tr>\n",
       "      <th>uk</th>\n",
       "      <td>0.381074</td>\n",
       "      <td>0.486273</td>\n",
       "    </tr>\n",
       "  </tbody>\n",
       "</table>\n",
       "</div>"
      ],
      "text/plain": [
       "            Survived       std\n",
       "lang_group                    \n",
       "african     0.750000  0.500000\n",
       "asian       0.416667  0.514929\n",
       "germanic    0.383333  0.487555\n",
       "latin       0.433824  0.497434\n",
       "other       0.335329  0.473525\n",
       "uk          0.381074  0.486273"
      ]
     },
     "execution_count": 52,
     "metadata": {},
     "output_type": "execute_result"
    }
   ],
   "source": [
    "language_groups = {\n",
    "    'uk': ('cy', 'en'),\n",
    "    'germanic': ('da', 'de', 'nl'),\n",
    "    'latin': ('es', 'fr', 'it', 'la', 'pt', 'br', 'ro'),\n",
    "    'african': ('af', 'rw', 'xh'),\n",
    "    'asian': ('id', 'tl', 'tr')\n",
    "}\n",
    "language_map = { y:x for x in language_groups for y in language_groups[x]}    \n",
    "\n",
    "df['lang_group'] = df['lang'].apply(lambda l: language_map[l] if l in language_map else 'other')\n",
    "survived_avg_per_group = df[['lang_group','Survived']].groupby('lang_group').mean()\n",
    "survived_std_per_group = df[['lang_group','Survived']].groupby('lang_group').std().rename(columns={'Survived':'std'})\n",
    "pd.concat([survived_avg_per_group, survived_std_per_group], axis=1)"
   ]
  },
  {
   "cell_type": "markdown",
   "metadata": {},
   "source": [
    "The standard deviation is too wide, but let's add it to the useful features' list anyway."
   ]
  },
  {
   "cell_type": "code",
   "execution_count": 53,
   "metadata": {
    "_cell_guid": "93d554a6-3080-4566-af7d-a0ca8b726c3c",
    "_uuid": "c05e54b844f3d735b8eef2be1a1469f25cab6234",
    "collapsed": true
   },
   "outputs": [],
   "source": [
    "df = pd.concat([df, pd.get_dummies(df['lang_group'], prefix='lang_group')], axis=1)\n",
    "\n",
    "langs = df['lang_group'].unique()\n",
    "useful.extend(['lang_group_{}'.format(x) for x in langs])"
   ]
  },
  {
   "cell_type": "markdown",
   "metadata": {
    "_cell_guid": "b217ce20-8e7e-42f4-b274-d578579251b7",
    "_uuid": "61b4c8b5f59e670a7350b7ea4ebc2135e4127b9b"
   },
   "source": [
    "#### 4.3.3.2 Common surname"
   ]
  },
  {
   "cell_type": "markdown",
   "metadata": {
    "_cell_guid": "5e90057d-87ac-44f6-89ca-8e3e9c092387",
    "_uuid": "08e580ab87d136f3e62feb317e0fcc0bf852b79b"
   },
   "source": [
    "Let's guess that a common surname will not help the person, while a rare surname it's an indicator for a special person."
   ]
  },
  {
   "cell_type": "code",
   "execution_count": 54,
   "metadata": {
    "_cell_guid": "c9913c6e-5b32-4a92-948b-9b50d7c44e55",
    "_uuid": "455d508d43562505256cec4558900832c728874f",
    "collapsed": true
   },
   "outputs": [],
   "source": [
    "surnames = df[['surname', 'Name']].groupby('surname').count().rename(columns={'Name':'count'})\n",
    "df['surname_count'] = df['surname'].apply(lambda x: surnames.loc[x])\n",
    "\n",
    "useful.append('surname_count')"
   ]
  },
  {
   "cell_type": "markdown",
   "metadata": {
    "_cell_guid": "c4b5346f-3e6f-4e44-ad95-471b052c4c62",
    "_uuid": "52ff97fea518a1ed44113fa15a43553c247f7f6d"
   },
   "source": [
    "#### 4.3.3.3 Title from Name"
   ]
  },
  {
   "cell_type": "markdown",
   "metadata": {
    "_cell_guid": "ea91113c-de30-49f0-8337-04522b2d3d85",
    "_uuid": "ca242adcffc4eef30dcfc3c73b3f1858683c3f44"
   },
   "source": [
    "Given that the Name has the format \"Surname, Title. Name\", let's extract the titles and group them."
   ]
  },
  {
   "cell_type": "code",
   "execution_count": 55,
   "metadata": {
    "_cell_guid": "b426d1b7-f9ae-4657-9eb7-e5c79d9c6b9d",
    "_uuid": "b4367df69ddfca439268a6447ba98f02f18b20cb"
   },
   "outputs": [
    {
     "data": {
      "text/html": [
       "<div>\n",
       "<style>\n",
       "    .dataframe thead tr:only-child th {\n",
       "        text-align: right;\n",
       "    }\n",
       "\n",
       "    .dataframe thead th {\n",
       "        text-align: left;\n",
       "    }\n",
       "\n",
       "    .dataframe tbody tr th {\n",
       "        vertical-align: top;\n",
       "    }\n",
       "</style>\n",
       "<table border=\"1\" class=\"dataframe\">\n",
       "  <thead>\n",
       "    <tr>\n",
       "      <th></th>\n",
       "      <th colspan=\"3\" halign=\"left\">Survived</th>\n",
       "    </tr>\n",
       "    <tr>\n",
       "      <th></th>\n",
       "      <th>mean</th>\n",
       "      <th>std</th>\n",
       "      <th>count</th>\n",
       "    </tr>\n",
       "    <tr>\n",
       "      <th>title</th>\n",
       "      <th></th>\n",
       "      <th></th>\n",
       "      <th></th>\n",
       "    </tr>\n",
       "  </thead>\n",
       "  <tbody>\n",
       "    <tr>\n",
       "      <th>Mr</th>\n",
       "      <td>0.155039</td>\n",
       "      <td>0.362293</td>\n",
       "      <td>516</td>\n",
       "    </tr>\n",
       "    <tr>\n",
       "      <th>Miss</th>\n",
       "      <td>0.697802</td>\n",
       "      <td>0.460477</td>\n",
       "      <td>182</td>\n",
       "    </tr>\n",
       "    <tr>\n",
       "      <th>Mrs</th>\n",
       "      <td>0.792000</td>\n",
       "      <td>0.407510</td>\n",
       "      <td>125</td>\n",
       "    </tr>\n",
       "    <tr>\n",
       "      <th>Master</th>\n",
       "      <td>0.575000</td>\n",
       "      <td>0.500641</td>\n",
       "      <td>40</td>\n",
       "    </tr>\n",
       "    <tr>\n",
       "      <th>Dr</th>\n",
       "      <td>0.428571</td>\n",
       "      <td>0.534522</td>\n",
       "      <td>7</td>\n",
       "    </tr>\n",
       "    <tr>\n",
       "      <th>Rev</th>\n",
       "      <td>0.000000</td>\n",
       "      <td>0.000000</td>\n",
       "      <td>6</td>\n",
       "    </tr>\n",
       "    <tr>\n",
       "      <th>Major</th>\n",
       "      <td>0.500000</td>\n",
       "      <td>0.707107</td>\n",
       "      <td>2</td>\n",
       "    </tr>\n",
       "    <tr>\n",
       "      <th>Col</th>\n",
       "      <td>0.500000</td>\n",
       "      <td>0.707107</td>\n",
       "      <td>2</td>\n",
       "    </tr>\n",
       "    <tr>\n",
       "      <th>Mlle</th>\n",
       "      <td>1.000000</td>\n",
       "      <td>0.000000</td>\n",
       "      <td>2</td>\n",
       "    </tr>\n",
       "    <tr>\n",
       "      <th>Sir</th>\n",
       "      <td>1.000000</td>\n",
       "      <td>NaN</td>\n",
       "      <td>1</td>\n",
       "    </tr>\n",
       "    <tr>\n",
       "      <th>Ms</th>\n",
       "      <td>1.000000</td>\n",
       "      <td>NaN</td>\n",
       "      <td>1</td>\n",
       "    </tr>\n",
       "    <tr>\n",
       "      <th>Capt</th>\n",
       "      <td>0.000000</td>\n",
       "      <td>NaN</td>\n",
       "      <td>1</td>\n",
       "    </tr>\n",
       "    <tr>\n",
       "      <th>Mme</th>\n",
       "      <td>1.000000</td>\n",
       "      <td>NaN</td>\n",
       "      <td>1</td>\n",
       "    </tr>\n",
       "    <tr>\n",
       "      <th>Lady</th>\n",
       "      <td>1.000000</td>\n",
       "      <td>NaN</td>\n",
       "      <td>1</td>\n",
       "    </tr>\n",
       "    <tr>\n",
       "      <th>Jonkheer</th>\n",
       "      <td>0.000000</td>\n",
       "      <td>NaN</td>\n",
       "      <td>1</td>\n",
       "    </tr>\n",
       "    <tr>\n",
       "      <th>Don</th>\n",
       "      <td>0.000000</td>\n",
       "      <td>NaN</td>\n",
       "      <td>1</td>\n",
       "    </tr>\n",
       "    <tr>\n",
       "      <th>the Countess</th>\n",
       "      <td>1.000000</td>\n",
       "      <td>NaN</td>\n",
       "      <td>1</td>\n",
       "    </tr>\n",
       "    <tr>\n",
       "      <th>Dona</th>\n",
       "      <td>NaN</td>\n",
       "      <td>NaN</td>\n",
       "      <td>0</td>\n",
       "    </tr>\n",
       "  </tbody>\n",
       "</table>\n",
       "</div>"
      ],
      "text/plain": [
       "              Survived                \n",
       "                  mean       std count\n",
       "title                                 \n",
       "Mr            0.155039  0.362293   516\n",
       "Miss          0.697802  0.460477   182\n",
       "Mrs           0.792000  0.407510   125\n",
       "Master        0.575000  0.500641    40\n",
       "Dr            0.428571  0.534522     7\n",
       "Rev           0.000000  0.000000     6\n",
       "Major         0.500000  0.707107     2\n",
       "Col           0.500000  0.707107     2\n",
       "Mlle          1.000000  0.000000     2\n",
       "Sir           1.000000       NaN     1\n",
       "Ms            1.000000       NaN     1\n",
       "Capt          0.000000       NaN     1\n",
       "Mme           1.000000       NaN     1\n",
       "Lady          1.000000       NaN     1\n",
       "Jonkheer      0.000000       NaN     1\n",
       "Don           0.000000       NaN     1\n",
       "the Countess  1.000000       NaN     1\n",
       "Dona               NaN       NaN     0"
      ]
     },
     "execution_count": 55,
     "metadata": {},
     "output_type": "execute_result"
    }
   ],
   "source": [
    "df['title'] = df['Name'].apply(lambda n: n.split(',')[1].split('.')[0].strip())\n",
    "\n",
    "df[['title', 'Survived']].groupby('title').agg({'Survived': [\n",
    "    'mean', 'std', 'count']}).sort_values(('Survived', 'count'), ascending=False)"
   ]
  },
  {
   "cell_type": "markdown",
   "metadata": {
    "_cell_guid": "d9c68f4f-7aa1-428f-9188-ae86a250d70c",
    "_uuid": "f6a0f8eb57cdd7b752683c12492b019338bf81ea"
   },
   "source": [
    "Let's group these titles!"
   ]
  },
  {
   "cell_type": "code",
   "execution_count": 56,
   "metadata": {
    "_cell_guid": "6842639c-512b-45cb-98d4-08cc4e74630d",
    "_uuid": "523ebffae53c72dd25be027b363431b1569b67b1",
    "collapsed": true
   },
   "outputs": [],
   "source": [
    "title_groups = {\n",
    "    \"Capt\": \"sacrifies\",\n",
    "    \"Col\": \"army\",\n",
    "    \"Rev\": \"sacrifies\",\n",
    "    \"Major\": \"army\",\n",
    "    \"Mr\" : \"Mr\",\n",
    "    \"Master\": \"Master\",\n",
    "    \"Miss\": \"Miss\",\n",
    "    \"Mrs\": \"Mrs\",\n",
    "    \"Mme\": \"Mrs\",\n",
    "    \"Ms\": \"Mrs\",\n",
    "    \"Mlle\": \"Miss\"\n",
    "}\n",
    "\n",
    "df['title_group'] = df['title'].apply(lambda t: title_groups[t] if t in title_groups else 'other')\n",
    "\n",
    "df = pd.concat([df, pd.get_dummies(df['title_group'], prefix='title_group')], axis=1)\n",
    "\n",
    "t_g = df['title_group'].unique()\n",
    "useful.extend(['title_group_{}'.format(x) for x in t_g])"
   ]
  },
  {
   "cell_type": "markdown",
   "metadata": {
    "_cell_guid": "081f5982-5551-461c-bcad-0f357fefd869",
    "_uuid": "ec6cebdc98a570d1ab97123b54a411ea16f88886"
   },
   "source": [
    "## 4.4 Exploring which features are really useful"
   ]
  },
  {
   "cell_type": "markdown",
   "metadata": {
    "_cell_guid": "28a2ff0c-7e2a-465a-9b07-d69770b49095",
    "_uuid": "b7f73a8390d9b1a1402d31fae921b5ae6eff5b6b"
   },
   "source": [
    "We have created missing values and new features freely. But in order to see which features could be more relevant to our model, we can explore their direct correlation with Survived. We can even train a Random Forest to get some insights too."
   ]
  },
  {
   "cell_type": "code",
   "execution_count": 57,
   "metadata": {
    "_cell_guid": "7b38e906-91a1-409d-85e8-3031deea3395",
    "_uuid": "018fb4af12723a520f3f794fd704744700d83938"
   },
   "outputs": [
    {
     "data": {
      "text/plain": [
       "title_group_Mr          -0.551131\n",
       "male                    -0.545060\n",
       "Pclass                  -0.337020\n",
       "deck_N                  -0.329932\n",
       "name_length_short       -0.266058\n",
       "alone                   -0.236975\n",
       "no_family               -0.204783\n",
       "embarked_S              -0.150728\n",
       "estimated_age           -0.121324\n",
       "ticket_type_A           -0.115562\n",
       "big_family              -0.078033\n",
       "title_group_sacrifies   -0.070171\n",
       "ticket_type_SOTONOQ     -0.067280\n",
       "Age                     -0.064345\n",
       "ticket_type_WC          -0.062086\n",
       "decade                  -0.056479\n",
       "lang_group_other        -0.047271\n",
       "SibSp                   -0.034683\n",
       "deck_T                  -0.026433\n",
       "surname_count           -0.024611\n",
       "lang_group_uk           -0.003773\n",
       "lang_group_germanic      0.000194\n",
       "embarked_Q               0.004092\n",
       "lang_group_asian         0.008061\n",
       "deck_A                   0.011812\n",
       "deck_G                   0.016150\n",
       "title_group_army         0.016150\n",
       "family_size              0.017456\n",
       "title_group_other        0.028100\n",
       "lang_group_latin         0.044272\n",
       "lang_group_african       0.050703\n",
       "ticket_owners            0.065925\n",
       "deck_F                   0.067535\n",
       "Parch                    0.082388\n",
       "name_length_long         0.085255\n",
       "title_group_Master       0.085609\n",
       "older_relative_age       0.109055\n",
       "small_family             0.124876\n",
       "deck_C                   0.134279\n",
       "deck_E                   0.138903\n",
       "ticket_type_other        0.149489\n",
       "deck_D                   0.151134\n",
       "embarked_C               0.169101\n",
       "deck_B                   0.180171\n",
       "name_length_mid          0.253242\n",
       "Fare                     0.257602\n",
       "shared_fare              0.287185\n",
       "name_length              0.331439\n",
       "title_group_Miss         0.333872\n",
       "title_group_Mrs          0.345860\n",
       "Survived                 1.000000\n",
       "Name: Survived, dtype: float64"
      ]
     },
     "execution_count": 57,
     "metadata": {},
     "output_type": "execute_result"
    }
   ],
   "source": [
    "df.corr()['Survived'].sort_values()"
   ]
  },
  {
   "cell_type": "markdown",
   "metadata": {
    "_cell_guid": "024f526e-6ab3-423c-865f-7763bb5b58a5",
    "_uuid": "5d9397eb714a50e4596c46f3708e21bb436e0097"
   },
   "source": [
    "The correlation show us that being titled as Mr. is the biggest problem for a passenger (correlated -0.55). The second feature in importance is male sex (-0.54). Then title Mrs, Pclass, title Miss, etc.\n",
    "\n",
    "Let's do a quick training with a Random Forest Classifier to compare feature importance. Firsly we should split out the train set from our complete dataframe."
   ]
  },
  {
   "cell_type": "code",
   "execution_count": 58,
   "metadata": {
    "_cell_guid": "8c0e822f-f56c-4ea4-9a1b-f88b347eec48",
    "_uuid": "2362d721f42137c6be0207d59dd9b4261a029706",
    "collapsed": true
   },
   "outputs": [],
   "source": [
    "train = df[df['Survived'].notnull()]\n",
    "train_X = train[useful]\n",
    "train_y = train['Survived']"
   ]
  },
  {
   "cell_type": "markdown",
   "metadata": {
    "_cell_guid": "8bb402f9-9777-4c37-9eb9-6711893f545c",
    "_uuid": "bd9af7d8a68bb33b8e9199a042b94095f6442c7c"
   },
   "source": [
    "We will run a quick try with Random Forest just to get an estimation of feature importance. This is useful to know, when further feature engineering is necesary, which cases are candidates to further analysis and engineering."
   ]
  },
  {
   "cell_type": "code",
   "execution_count": 59,
   "metadata": {
    "_cell_guid": "eee591fe-169e-41b0-9494-78c0928e7468",
    "_uuid": "5858336a034f63741010ad22437ee499d46bbbcd",
    "collapsed": true
   },
   "outputs": [],
   "source": [
    "from sklearn.ensemble import RandomForestClassifier\n",
    "clf = RandomForestClassifier(n_estimators=100, random_state=1)\n",
    "clf = clf.fit(train_X, train_y)"
   ]
  },
  {
   "cell_type": "code",
   "execution_count": 60,
   "metadata": {
    "_cell_guid": "56538496-a0e3-46f6-af36-93e714ce15b1",
    "_uuid": "83b50679416ce5a1fbb07fcafc07ec2bc677d7a5"
   },
   "outputs": [
    {
     "data": {
      "text/plain": [
       "<matplotlib.axes._subplots.AxesSubplot at 0x7f01ab4b2a20>"
      ]
     },
     "execution_count": 60,
     "metadata": {},
     "output_type": "execute_result"
    },
    {
     "data": {
      "image/png": "[encoded data removed]",
      "text/plain": [
       "<matplotlib.figure.Figure at 0x7f01ab4b2320>"
      ]
     },
     "metadata": {},
     "output_type": "display_data"
    }
   ],
   "source": [
    "importances = pd.DataFrame(clf.feature_importances_, index=train_X.columns, columns=['importance']).sort_values(by='importance')\n",
    "importances.plot.barh(figsize=(16,8), legend=None, title='Feature importance')"
   ]
  },
  {
   "cell_type": "markdown",
   "metadata": {
    "_cell_guid": "662475ec-2340-4c6a-8d95-68e214568fc3",
    "_uuid": "8d770d9dd702c30fffac3a94454f8d8505170268"
   },
   "source": [
    "Some of our synthetic features are preforming well, and the same happens with Fare, Age and Pclass. We can explore the relations among top features, in order to see which ones can be candidates for refinement."
   ]
  },
  {
   "cell_type": "code",
   "execution_count": 61,
   "metadata": {
    "_cell_guid": "812287b4-ce68-4c9d-ba2d-993af8a14e9f",
    "_uuid": "1187e4d17e32897ed9674dac3633f84bf4e9bf89"
   },
   "outputs": [
    {
     "data": {
      "text/plain": [
       "<matplotlib.axes._subplots.AxesSubplot at 0x7f01ab3c7080>"
      ]
     },
     "execution_count": 61,
     "metadata": {},
     "output_type": "execute_result"
    },
    {
     "data": {
      "image/png": "[encoded data removed]",
      "text/plain": [
       "<matplotlib.figure.Figure at 0x7f01ab3ea780>"
      ]
     },
     "metadata": {},
     "output_type": "display_data"
    }
   ],
   "source": [
    "top_features = importances.tail(8).index.tolist()\n",
    "top_features.append('Survived')\n",
    "top_correlations = df[top_features].corr()\n",
    "\n",
    "sns.heatmap(top_correlations, annot=True)"
   ]
  },
  {
   "cell_type": "markdown",
   "metadata": {
    "_cell_guid": "80d23864-9803-4de3-b0ee-83285c525187",
    "_uuid": "79b98ff14e3f55c455f83c59a3b479ea4b384eae"
   },
   "source": [
    "Clearly male and title_group_Mr are strongly correlated (0.87), so we could remove the second one. Same happens with shared_fare and Fare, and with Age and older_relative_age.\n",
    "\n",
    "Let's choose only the most relevant features."
   ]
  },
  {
   "cell_type": "code",
   "execution_count": 62,
   "metadata": {
    "_cell_guid": "3e79ece9-6a0a-48d7-b7f8-7b756a145376",
    "_uuid": "cbe2c6f3d6fbe1a9de9210e7588b062cc62f7db8"
   },
   "outputs": [
    {
     "data": {
      "text/plain": [
       "(890, 49)"
      ]
     },
     "execution_count": 62,
     "metadata": {},
     "output_type": "execute_result"
    }
   ],
   "source": [
    "train_X.shape"
   ]
  },
  {
   "cell_type": "markdown",
   "metadata": {
    "_cell_guid": "aa15d818-96f7-4703-b3d0-b4548b7c0035",
    "_uuid": "0031df1b02a5d7cc79856d0fbf2b89615cde095c"
   },
   "source": [
    "Given 890 passengers with 48 features in the train set..."
   ]
  },
  {
   "cell_type": "code",
   "execution_count": 63,
   "metadata": {
    "_cell_guid": "8891466e-fb63-430f-9071-7e0ac46317f3",
    "_uuid": "8439ecdf37981003c2c6c129a526289c14c1cb95"
   },
   "outputs": [
    {
     "data": {
      "text/plain": [
       "(890, 30)"
      ]
     },
     "execution_count": 63,
     "metadata": {},
     "output_type": "execute_result"
    }
   ],
   "source": [
    "useful = importances.tail(33).index.tolist()\n",
    "useful.remove('title_group_Mr')\n",
    "useful.remove('Fare')\n",
    "useful.remove('older_relative_age')\n",
    "train_X=train[useful]\n",
    "train_X.shape"
   ]
  },
  {
   "cell_type": "markdown",
   "metadata": {
    "_cell_guid": "a005c912-5227-4eef-a1a9-56ac65ba54b5",
    "_uuid": "436b12a2850f09e6e6fc83ac2dc9346fba201f41"
   },
   "source": [
    "We end with 30 useful features."
   ]
  },
  {
   "cell_type": "markdown",
   "metadata": {
    "_cell_guid": "b4804eca-f8b3-4246-98bb-68b30fbb70ad",
    "_uuid": "0bf4679b6c7e393b1e145553d6f5107973e935bb"
   },
   "source": [
    "# 5 Training a ML model"
   ]
  },
  {
   "cell_type": "markdown",
   "metadata": {
    "_cell_guid": "589bfa2e-b6a8-4f8b-8778-ab8428c2d9ea",
    "_uuid": "cd211b2b1c7f51dcbb8a11034382071c5614c5dc"
   },
   "source": [
    "Now let's do a extend search for the best hyperparams that we will use in Random Forest. With GridSearchCV() we can try out different hyperparams for our model so automatically it will find the best combination. This will take a bit."
   ]
  },
  {
   "cell_type": "code",
   "execution_count": 64,
   "metadata": {
    "_cell_guid": "2b20f078-5db3-474c-84f1-1f981dccff44",
    "_uuid": "4ae731ebe7e2c3f8f491f8aa7a483be1a88a087b"
   },
   "outputs": [],
   "source": [
    "from sklearn.model_selection import GridSearchCV\n",
    "from sklearn.ensemble import AdaBoostClassifier\n",
    "\n",
    "# Set to True or False to search all combinations or use previous results\n",
    "search_best_hyperparameters = False\n",
    "\n",
    "if search_best_hyperparameters:\n",
    "    parameter_grid = {\n",
    "        'n_estimators': [10, 20, 50, 100, 200, 500],\n",
    "        'learning_rate': [0.1, 0.2, 0.5, 1, 1.2],\n",
    "        'random_state': [1]\n",
    "    }\n",
    "    model = AdaBoostClassifier()\n",
    "    gs = GridSearchCV(\n",
    "        model,\n",
    "        scoring='accuracy',\n",
    "        param_grid=parameter_grid,\n",
    "        cv=4,\n",
    "        n_jobs=-1)\n",
    "    gs.fit(train_X, train_y)\n",
    "    params = gs.best_params_\n",
    "    print(params)\n",
    "else:\n",
    "    params = {\n",
    "        'learning_rate': 0.1,\n",
    "        'n_estimators': 500,\n",
    "        'random_state': 1\n",
    "    }"
   ]
  },
  {
   "cell_type": "code",
   "execution_count": 65,
   "metadata": {
    "_cell_guid": "47920ee0-c3d1-4f94-bd71-476f2b3b6cbe",
    "_uuid": "a135386b6e609de8e4d45fd9de4f567495253a3f"
   },
   "outputs": [
    {
     "data": {
      "text/plain": [
       "0.84269662921348309"
      ]
     },
     "execution_count": 65,
     "metadata": {},
     "output_type": "execute_result"
    }
   ],
   "source": [
    "# Use the params to get a score with the training set\n",
    "clf = AdaBoostClassifier(**params)\n",
    "clf = clf.fit(train_X, train_y)\n",
    "clf.score(train_X, train_y)"
   ]
  },
  {
   "cell_type": "markdown",
   "metadata": {
    "_cell_guid": "8049a854-6723-4bc4-b413-a286abb1c58d",
    "_uuid": "ee60568919a532726fb5377d0ecb69d87c9dc9de"
   },
   "source": [
    "# 6 Prediction"
   ]
  },
  {
   "cell_type": "markdown",
   "metadata": {},
   "source": [
    "Finally, let's use the trained classifier to get predictions for the test dataset."
   ]
  },
  {
   "cell_type": "code",
   "execution_count": 66,
   "metadata": {
    "_cell_guid": "ed81f389-24b4-4ad9-8134-a0e3a6586419",
    "_uuid": "539da1a47d9c222fc07ad9934aad78a8723c78f1",
    "collapsed": true
   },
   "outputs": [],
   "source": [
    "test = df[df['Survived'].isnull()]\n",
    "test_X = test[useful]\n",
    "test_y = clf.predict(test_X)"
   ]
  },
  {
   "cell_type": "code",
   "execution_count": 67,
   "metadata": {
    "_cell_guid": "0ad3a3e0-ca10-42df-a897-926ea81dbfa1",
    "_uuid": "608dfc4c181dc20e73ecc23bdbd1a0a8272c15f3"
   },
   "outputs": [
    {
     "data": {
      "text/html": [
       "<div>\n",
       "<style>\n",
       "    .dataframe thead tr:only-child th {\n",
       "        text-align: right;\n",
       "    }\n",
       "\n",
       "    .dataframe thead th {\n",
       "        text-align: left;\n",
       "    }\n",
       "\n",
       "    .dataframe tbody tr th {\n",
       "        vertical-align: top;\n",
       "    }\n",
       "</style>\n",
       "<table border=\"1\" class=\"dataframe\">\n",
       "  <thead>\n",
       "    <tr style=\"text-align: right;\">\n",
       "      <th></th>\n",
       "      <th>Survived</th>\n",
       "    </tr>\n",
       "    <tr>\n",
       "      <th>PassengerId</th>\n",
       "      <th></th>\n",
       "    </tr>\n",
       "  </thead>\n",
       "  <tbody>\n",
       "    <tr>\n",
       "      <th>892</th>\n",
       "      <td>0</td>\n",
       "    </tr>\n",
       "    <tr>\n",
       "      <th>893</th>\n",
       "      <td>1</td>\n",
       "    </tr>\n",
       "    <tr>\n",
       "      <th>894</th>\n",
       "      <td>0</td>\n",
       "    </tr>\n",
       "    <tr>\n",
       "      <th>895</th>\n",
       "      <td>0</td>\n",
       "    </tr>\n",
       "    <tr>\n",
       "      <th>896</th>\n",
       "      <td>1</td>\n",
       "    </tr>\n",
       "  </tbody>\n",
       "</table>\n",
       "</div>"
      ],
      "text/plain": [
       "             Survived\n",
       "PassengerId          \n",
       "892                 0\n",
       "893                 1\n",
       "894                 0\n",
       "895                 0\n",
       "896                 1"
      ]
     },
     "execution_count": 67,
     "metadata": {},
     "output_type": "execute_result"
    }
   ],
   "source": [
    "submit = pd.DataFrame(test_y.astype(int), index=test_X.index, columns=['Survived'])\n",
    "submit.head()"
   ]
  },
  {
   "cell_type": "code",
   "execution_count": 68,
   "metadata": {
    "_cell_guid": "e45ff72e-f037-417a-aa76-b0749c512186",
    "_uuid": "2b4df5a0dd80518d4d5925929c31449018d092f4",
    "collapsed": true
   },
   "outputs": [],
   "source": [
    "submit.to_csv('submission.csv')"
   ]
  },
  {
   "cell_type": "markdown",
   "metadata": {
    "_cell_guid": "fdfdbbc7-0965-4917-8936-969105fab39a",
    "_uuid": "c5036a8a49190269516d4e53c78671675825229f"
   },
   "source": [
    "This submission scored quite well in the competition. As a next step, a deep analysis on outliers could be done.\n",
    "\n",
    "**Thank you** for reading!"
   ]
  }
 ],
 "metadata": {
  "kernelspec": {
   "display_name": "Python 3",
   "language": "python",
   "name": "python3"
  },
  "language_info": {
   "codemirror_mode": {
    "name": "ipython",
    "version": 3
   },
   "file_extension": ".py",
   "mimetype": "text/x-python",
   "name": "python",
   "nbconvert_exporter": "python",
   "pygments_lexer": "ipython3",
   "version": "3.6.1"
  }
 },
 "nbformat": 4,
 "nbformat_minor": 1
}

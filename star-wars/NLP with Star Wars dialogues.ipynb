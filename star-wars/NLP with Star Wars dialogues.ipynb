{
  "cells": [
    {
      "metadata": {
        "_uuid": "aa66b2f168baa69acd909bc145bcfdd3326d03c1",
        "_cell_guid": "a401d876-a1ed-4803-9c9c-2a1651c2a2c6"
      },
      "cell_type": "markdown",
      "source": "# Classic NLP exploration with Star Wars dialogues\n\nUsing Star Wars Episode IV dialogues, let's find out if rebels use different words than imperials.\n\n## 1. Loading and first exploration"
    },
    {
      "metadata": {
        "_cell_guid": "cca6610f-07a4-4b3a-ac4a-291fb77aa55b",
        "_uuid": "523ae233b317a9837a023b067c2272b1b2eb1831",
        "scrolled": true,
        "trusted": false,
        "collapsed": true
      },
      "cell_type": "code",
      "source": "# Basic data loading\nimport pandas as pd\n\ndf = pd.read_table('../input/SW_EpisodeIV.txt',\n                   delim_whitespace=True, header=0, escapechar='\\\\')\ndf.sample(10)",
      "execution_count": null,
      "outputs": []
    },
    {
      "metadata": {
        "_uuid": "93eade217c8489e43b5eb39f94b5dd4f74266934",
        "_cell_guid": "242a94d7-6c36-491c-9cca-6610f7332ae6",
        "trusted": false,
        "collapsed": true
      },
      "cell_type": "code",
      "source": "df.shape",
      "execution_count": null,
      "outputs": []
    },
    {
      "metadata": {
        "_uuid": "50136cce7592a5fd5b46587686853dae8f932f4c",
        "_cell_guid": "eabb4808-6b86-438f-85f0-2965da48d388"
      },
      "cell_type": "markdown",
      "source": "So we have 1010 lines.\n\n## 2. Grouping by characters\n\nLet's see how many lines each character said..."
    },
    {
      "metadata": {
        "_uuid": "2d33b82f2ef75b5ed433cee14492efba11cc3a70",
        "_cell_guid": "c5147896-10b5-45d7-ba8f-1e0da24a79db",
        "trusted": false,
        "collapsed": true
      },
      "cell_type": "code",
      "source": "df.groupby('character').count().sort_values('dialogue', ascending=False)",
      "execution_count": null,
      "outputs": []
    },
    {
      "metadata": {
        "_uuid": "40651797f0dd4a7ef8f15437b910a7e9ebaa3208",
        "_cell_guid": "240118a6-76fe-4531-95b1-00239258f29b"
      },
      "cell_type": "markdown",
      "source": "There are a lot of secondary characters here! In order to make it easier, let's group them in 3 groups: rebels, imperials and neutrals."
    },
    {
      "metadata": {
        "_uuid": "af51aabefc579528f4c549077c1a081898bf40d4",
        "_cell_guid": "45a23d68-350c-466d-98e9-c6539df4d33c",
        "trusted": false,
        "collapsed": true
      },
      "cell_type": "code",
      "source": "def character_group(name: str) -> str:\n    rebel = ('BASE VOICE', 'CONTROL OFFICER', 'MAN', 'PORKINS', 'REBEL OFFICER', 'RED ELEVEN',\n             'RED TEN', 'RED SEVEN', 'RED NINE', 'RED LEADER', 'BIGGS', 'GOLD LEADER',\n             'WEDGE', 'GOLD FIVE', 'REBEL', 'DODONNA', 'CHIEF', 'TECHNICIAN', 'WILLARD',\n             'GOLD TWO', 'MASSASSI INTERCOM VOICE')\n    imperial = ('CAPTAIN', 'CHIEF PILOT', 'TROOPER', 'OFFICER', 'DEATH STAR INTERCOM VOICE',\n                'FIRST TROOPER', 'SECOND TROOPER', 'FIRST OFFICER', 'OFFICER CASS', 'TARKIN',\n                'INTERCOM VOICE', 'MOTTI', 'TAGGE', 'TROOPER VOICE', 'ASTRO-OFFICER',\n                'VOICE OVER DEATH STAR INTERCOM', 'SECOND OFFICER', 'GANTRY OFFICER', \n                'WINGMAN', 'IMPERIAL OFFICER', 'COMMANDER', 'VOICE')\n    neutral = ('WOMAN', 'BERU', 'CREATURE', 'DEAK', 'OWEN', 'BARTENDER', 'CAMIE', 'JABBA',\n               'AUNT BERU', 'GREEDO', 'NEUTRAL', 'HUMAN', 'FIXER')\n\n    if name in rebel:\n        return 'rebels'\n    elif name in imperial:\n        return 'imperials'\n    elif name in neutral:\n        return 'neutrals'\n    else:\n        return name\n\n\ndf['character'] = df['character'].apply(character_group)\ndf.groupby('character').count().sort_values('dialogue', ascending=False)",
      "execution_count": null,
      "outputs": []
    },
    {
      "metadata": {
        "_uuid": "3ff0b736c4d7a5ee170c8c990cd51a103ec61b3b",
        "_cell_guid": "2d64d76d-4f58-49f5-909e-4ace972a9631"
      },
      "cell_type": "markdown",
      "source": "## 3. Using Td-idf to extract relevant words (features)\n\nA classic way to extract interesting features in text data is using words: counting the most relevant words actually. If we use Td-idf method, each word will have a value in each line, showing its importance.\n\nWe will get 200 most relevant words, that appear in less than 0.1 * 1010 = 101 lines, so they are scatter enough. We will remove some common stop_words (like \"and\", \"or\", etc)."
    },
    {
      "metadata": {
        "_uuid": "5eea18b99ca1b9ebcbeac64309f982a421e5676b",
        "_cell_guid": "552f494a-b02a-4b2f-b597-de2b2961d594",
        "trusted": false,
        "collapsed": true
      },
      "cell_type": "code",
      "source": "from sklearn.feature_extraction.text import TfidfVectorizer\ntfidf_vec = TfidfVectorizer(max_df=0.1, max_features=200, stop_words='english')\n\nfeatures = tfidf_vec.fit_transform(df.dialogue)\nX = pd.DataFrame(data=features.toarray(), \n                 index=df.character, \n                 columns=tfidf_vec.get_feature_names())\nX.sample(10)",
      "execution_count": null,
      "outputs": []
    },
    {
      "metadata": {
        "_uuid": "b6d33daced89fc3b819a727811eef6c674211ac9",
        "_cell_guid": "b5b4f6fd-5b64-4690-87b5-a120c87db252"
      },
      "cell_type": "markdown",
      "source": "## 4. Displaying lines in a graph\n\nNow, let's use PCA to display each line in a 2D graph."
    },
    {
      "metadata": {
        "_uuid": "677f56e4398b7baf2971fcab5f43e551a47526b0",
        "_cell_guid": "03a4a048-ed34-4a3b-9935-bf1f336423a7",
        "trusted": false,
        "collapsed": true
      },
      "cell_type": "code",
      "source": "from sklearn.decomposition import PCA\n\npca = PCA(n_components=2)\nX_reduced = pca.fit_transform(X)\n\ndf_reduced = pd.DataFrame(X_reduced)\ndf_reduced['character'] = X.index\ndf_reduced.head(10)",
      "execution_count": null,
      "outputs": []
    },
    {
      "metadata": {
        "_uuid": "b56e018db1821c59bd2fe55bd26b68d21da78650",
        "_cell_guid": "6dad6dfa-8221-40a6-bb99-d62ab9befb3b"
      },
      "cell_type": "markdown",
      "source": "Let's assign some colors to each character:\n* main rebels (like Luke) will be shown in blue\n* secondary rebels in cyan\n* Vader will be shown in red\n* other imperials in magenta\n* neutrals in black"
    },
    {
      "metadata": {
        "_uuid": "1b88336843ec72d68741795c3c6614be5d0288a1",
        "_cell_guid": "1d4a9473-de30-4e4f-9944-ef6d6c4b1bb7",
        "trusted": false,
        "collapsed": true
      },
      "cell_type": "code",
      "source": "import matplotlib.pyplot as plt\n%matplotlib inline\n\n\ndef character_to_color(name: str):\n    color = {'LUKE': 'b', 'HAN': 'b', 'THREEPIO': 'b', 'BEN': 'b', 'LEIA': 'b',\n             'VADER': 'r', 'imperials': 'm', 'rebels': 'c', 'neutrals': 'k'}\n    return color[name]\n\n\ndf_reduced['color'] = df_reduced['character'].apply(character_to_color)\n\nplt.figure(figsize=(10, 10))\nplt.scatter(x=df_reduced[0], y=df_reduced[1],\n            color=df_reduced['color'], alpha=0.5)",
      "execution_count": null,
      "outputs": []
    },
    {
      "metadata": {
        "_uuid": "8045419bfa919f35fb1cf763e2bfb1bc0225aeca",
        "_cell_guid": "92ecd470-6b4c-40e3-a82d-55a5f06aa778"
      },
      "cell_type": "markdown",
      "source": "While blue and cyan dots (rebels) are scattered over all plane, it looks like red and magenta (imperials) are limited to that *line* going down from the left. \nThis basically means that **rebels use a wider vocabulary than imperials**.\n\nLooking closer, there is just one magenta outsider in the upper side, near 0.2-0.6... let's find out the line!"
    },
    {
      "metadata": {
        "_uuid": "7e424a4daae1eac66946143fe488738d9e45ea54",
        "_cell_guid": "3642a412-d91d-4fc1-92fb-46a4a85002b4",
        "trusted": false,
        "collapsed": true
      },
      "cell_type": "code",
      "source": "df_reduced[(df_reduced[0]>0.1) & (df_reduced[1]>0.55) & (df_reduced[1]<0.6)]",
      "execution_count": null,
      "outputs": []
    },
    {
      "metadata": {
        "_uuid": "f8bc8f8c763b9a19e9b95f83095a3422ebeab803",
        "_cell_guid": "f7565a30-edb0-4fdb-93bb-3265b66e72fb",
        "trusted": false,
        "collapsed": true
      },
      "cell_type": "code",
      "source": "df.loc[714]",
      "execution_count": null,
      "outputs": []
    },
    {
      "metadata": {
        "_uuid": "d10eb922d2ec9a614e5cb5f4258c542d1d5bc9e7",
        "_cell_guid": "7b41f5a3-8706-443e-b4ff-91ce080f95bd"
      },
      "cell_type": "markdown",
      "source": "This is not a long line, and probably those words are more common on the rebel side.\n\n**I hope you liked this quick exploration!**"
    }
  ],
  "metadata": {
    "kernelspec": {
      "display_name": "Python 3",
      "language": "python",
      "name": "python3"
    },
    "language_info": {
      "name": "python",
      "version": "3.6.5",
      "mimetype": "text/x-python",
      "codemirror_mode": {
        "name": "ipython",
        "version": 3
      },
      "pygments_lexer": "ipython3",
      "nbconvert_exporter": "python",
      "file_extension": ".py"
    }
  },
  "nbformat": 4,
  "nbformat_minor": 1
}
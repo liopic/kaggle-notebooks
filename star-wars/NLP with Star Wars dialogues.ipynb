{
 "cells": [
  {
   "cell_type": "markdown",
   "metadata": {},
   "source": [
    "# "
   ]
  },
  {
   "cell_type": "code",
   "execution_count": 1,
   "metadata": {
    "scrolled": true
   },
   "outputs": [
    {
     "data": {
      "text/html": [
       "<div>\n",
       "<style>\n",
       "    .dataframe thead tr:only-child th {\n",
       "        text-align: right;\n",
       "    }\n",
       "\n",
       "    .dataframe thead th {\n",
       "        text-align: left;\n",
       "    }\n",
       "\n",
       "    .dataframe tbody tr th {\n",
       "        vertical-align: top;\n",
       "    }\n",
       "</style>\n",
       "<table border=\"1\" class=\"dataframe\">\n",
       "  <thead>\n",
       "    <tr style=\"text-align: right;\">\n",
       "      <th></th>\n",
       "      <th>character</th>\n",
       "      <th>dialogue</th>\n",
       "    </tr>\n",
       "  </thead>\n",
       "  <tbody>\n",
       "    <tr>\n",
       "      <th>1</th>\n",
       "      <td>THREEPIO</td>\n",
       "      <td>Did you hear that?  They've shut down the main...</td>\n",
       "    </tr>\n",
       "    <tr>\n",
       "      <th>2</th>\n",
       "      <td>THREEPIO</td>\n",
       "      <td>We're doomed!</td>\n",
       "    </tr>\n",
       "    <tr>\n",
       "      <th>3</th>\n",
       "      <td>THREEPIO</td>\n",
       "      <td>There'll be no escape for the Princess this time.</td>\n",
       "    </tr>\n",
       "    <tr>\n",
       "      <th>4</th>\n",
       "      <td>THREEPIO</td>\n",
       "      <td>What's that?</td>\n",
       "    </tr>\n",
       "    <tr>\n",
       "      <th>5</th>\n",
       "      <td>THREEPIO</td>\n",
       "      <td>I should have known better than to trust the l...</td>\n",
       "    </tr>\n",
       "    <tr>\n",
       "      <th>6</th>\n",
       "      <td>LUKE</td>\n",
       "      <td>Hurry up!  Come with me!  What are you waiting...</td>\n",
       "    </tr>\n",
       "    <tr>\n",
       "      <th>7</th>\n",
       "      <td>THREEPIO</td>\n",
       "      <td>Artoo! Artoo-Detoo, where are you?</td>\n",
       "    </tr>\n",
       "    <tr>\n",
       "      <th>8</th>\n",
       "      <td>THREEPIO</td>\n",
       "      <td>At last!  Where have you been?</td>\n",
       "    </tr>\n",
       "    <tr>\n",
       "      <th>9</th>\n",
       "      <td>THREEPIO</td>\n",
       "      <td>They're heading in this direction. What are we...</td>\n",
       "    </tr>\n",
       "    <tr>\n",
       "      <th>10</th>\n",
       "      <td>THREEPIO</td>\n",
       "      <td>Wait a minute, where are you going?</td>\n",
       "    </tr>\n",
       "  </tbody>\n",
       "</table>\n",
       "</div>"
      ],
      "text/plain": [
       "   character                                           dialogue\n",
       "1   THREEPIO  Did you hear that?  They've shut down the main...\n",
       "2   THREEPIO                                      We're doomed!\n",
       "3   THREEPIO  There'll be no escape for the Princess this time.\n",
       "4   THREEPIO                                       What's that?\n",
       "5   THREEPIO  I should have known better than to trust the l...\n",
       "6       LUKE  Hurry up!  Come with me!  What are you waiting...\n",
       "7   THREEPIO                 Artoo! Artoo-Detoo, where are you?\n",
       "8   THREEPIO                     At last!  Where have you been?\n",
       "9   THREEPIO  They're heading in this direction. What are we...\n",
       "10  THREEPIO                Wait a minute, where are you going?"
      ]
     },
     "execution_count": 1,
     "metadata": {},
     "output_type": "execute_result"
    }
   ],
   "source": [
    "# Basic data loading\n",
    "import pandas as pd\n",
    "\n",
    "df = pd.read_table('../input/SW_EpisodeIV.txt',\n",
    "                   delim_whitespace=True, header=0, escapechar='\\\\')\n",
    "df.head(10)"
   ]
  },
  {
   "cell_type": "code",
   "execution_count": 2,
   "metadata": {},
   "outputs": [
    {
     "ename": "NameError",
     "evalue": "name 'original_df' is not defined",
     "output_type": "error",
     "traceback": [
      "\u001b[0;31m---------------------------------------------------------------------------\u001b[0m",
      "\u001b[0;31mNameError\u001b[0m                                 Traceback (most recent call last)",
      "\u001b[0;32m<ipython-input-2-f95317626ebb>\u001b[0m in \u001b[0;36m<module>\u001b[0;34m()\u001b[0m\n\u001b[0;32m----> 1\u001b[0;31m \u001b[0moriginal_df\u001b[0m\u001b[0;34m.\u001b[0m\u001b[0mshape\u001b[0m\u001b[0;34m\u001b[0m\u001b[0m\n\u001b[0m",
      "\u001b[0;31mNameError\u001b[0m: name 'original_df' is not defined"
     ]
    }
   ],
   "source": [
    "original_df.shape"
   ]
  },
  {
   "cell_type": "code",
   "execution_count": null,
   "metadata": {},
   "outputs": [],
   "source": [
    "# Let's see how many lines each character has\n",
    "df = original_df\n",
    "\n",
    "df.groupby('character').count().sort_values('dialogue', ascending=False)"
   ]
  },
  {
   "cell_type": "code",
   "execution_count": null,
   "metadata": {},
   "outputs": [],
   "source": [
    "# Let's group secondary characters in 3 groups: rebels, imperials and neutrals\n",
    "\n",
    "\n",
    "def character_group(name: str) -> str:\n",
    "    rebel = ('BASE VOICE', 'CONTROL OFFICER', 'MAN', 'PORKINS', 'REBEL OFFICER', 'RED ELEVEN', 'RED TEN',\n",
    "             'RED SEVEN', 'RED NINE', 'RED LEADER', 'BIGGS', 'GOLD LEADER', 'WEDGE', 'GOLD FIVE', 'REBEL',\n",
    "             'DODONNA', 'CHIEF', 'TECHNICIAN', 'WILLARD', 'GOLD TWO', 'MASSASSI INTERCOM VOICE')\n",
    "    imperial = ('CAPTAIN', 'CHIEF PILOT', 'TROOPER', 'OFFICER', 'DEATH STAR INTERCOM VOICE', 'FIRST TROOPER',\n",
    "                'SECOND TROOPER', 'FIRST OFFICER', 'OFFICER CASS', 'TARKIN', 'INTERCOM VOICE', 'MOTTI',\n",
    "                'TAGGE', 'TROOPER VOICE', 'ASTRO-OFFICER', 'VOICE OVER DEATH STAR INTERCOM', 'SECOND OFFICER',\n",
    "                'GANTRY OFFICER', 'WINGMAN', 'IMPERIAL OFFICER', 'COMMANDER', 'VOICE')\n",
    "    neutral = ('WOMAN', 'BERU', 'CREATURE', 'DEAK', 'OWEN', 'BARTENDER', 'CAMIE', 'JABBA',\n",
    "               'AUNT BERU', 'GREEDO', 'NEUTRAL', 'HUMAN', 'FIXER')\n",
    "\n",
    "    if name in rebel:\n",
    "        return 'rebels'\n",
    "    elif name in imperial:\n",
    "        return 'imperials'\n",
    "    elif name in neutral:\n",
    "        return 'neutrals'\n",
    "    else:\n",
    "        return name\n",
    "\n",
    "\n",
    "df['character'] = df['character'].apply(character_group)\n",
    "df.groupby('character').count().sort_values('dialogue', ascending=False)"
   ]
  },
  {
   "cell_type": "code",
   "execution_count": null,
   "metadata": {},
   "outputs": [],
   "source": [
    "# Find 200 most relevant words\n",
    "from sklearn.feature_extraction.text import TfidfVectorizer\n",
    "tfidf_vec = TfidfVectorizer(max_df=0.1, max_features=200, stop_words='english')\n",
    "\n",
    "features = tfidf_vec.fit_transform(df.dialogue)\n",
    "X = pd.DataFrame(data=features.toarray(), index=df.character, columns=tfidf_vec.get_feature_names())\n",
    "X.sample(10)"
   ]
  },
  {
   "cell_type": "code",
   "execution_count": null,
   "metadata": {},
   "outputs": [],
   "source": [
    "from sklearn.decomposition import PCA\n",
    "\n",
    "pca = PCA(n_components=2)\n",
    "X_reduced = pca.fit_transform(X)\n",
    "\n",
    "df_reduced = pd.DataFrame(X_reduced)\n",
    "df_reduced['character'] = X.index\n",
    "df_reduced.head(10)"
   ]
  },
  {
   "cell_type": "code",
   "execution_count": null,
   "metadata": {},
   "outputs": [],
   "source": [
    "import matplotlib.pyplot as plt\n",
    "%matplotlib inline\n",
    "\n",
    "\n",
    "def character_to_color(name: str):\n",
    "    color = {'LUKE': 'b', 'HAN': 'b', 'THREEPIO': 'b', 'BEN': 'b', 'LEIA': 'b',\n",
    "             'VADER': 'r', 'imperials': 'm', 'rebels': 'c', 'neutrals': 'k'}\n",
    "    return color[name]\n",
    "\n",
    "\n",
    "df_reduced['color'] = df_reduced['character'].apply(character_to_color)\n",
    "\n",
    "plt.figure(figsize=(12, 12))\n",
    "plt.scatter(x=df_reduced[0], y=df_reduced[1],\n",
    "            color=df_reduced['color'], alpha=0.5)"
   ]
  },
  {
   "cell_type": "code",
   "execution_count": null,
   "metadata": {},
   "outputs": [],
   "source": [
    "df_reduced[(df_reduced[0]>0.1) & (df_reduced[1]>0.55) & (df_reduced[1]<0.6)]"
   ]
  },
  {
   "cell_type": "code",
   "execution_count": null,
   "metadata": {},
   "outputs": [],
   "source": [
    "df.loc[714]"
   ]
  }
 ],
 "metadata": {
  "kernelspec": {
   "display_name": "Python 3",
   "language": "python",
   "name": "python3"
  },
  "language_info": {
   "codemirror_mode": {
    "name": "ipython",
    "version": 3
   },
   "file_extension": ".py",
   "mimetype": "text/x-python",
   "name": "python",
   "nbconvert_exporter": "python",
   "pygments_lexer": "ipython3",
   "version": "3.6.1"
  }
 },
 "nbformat": 4,
 "nbformat_minor": 2
}
